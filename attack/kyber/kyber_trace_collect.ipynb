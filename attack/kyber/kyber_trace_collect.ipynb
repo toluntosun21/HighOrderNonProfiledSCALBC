{
 "cells": [
  {
   "cell_type": "code",
   "execution_count": 1,
   "metadata": {},
   "outputs": [],
   "source": [
    "SCOPETYPE = 'OPENADC'\n",
    "PLATFORM = 'CWLITEARM'\n",
    "REDUCTION = 'MONTGOMERY'\n",
    "PROJ_DIR = '../../victim/simpleserial-kyber'\n",
    "FIRMWAREPATH = '/home/toluntosun/Desktop/CW/chipwhisperer/hardware/victims/firmware'\n",
    "NSHARES = 4\n",
    "N = 80000"
   ]
  },
  {
   "cell_type": "code",
   "execution_count": 2,
   "metadata": {},
   "outputs": [
    {
     "name": "stdout",
     "output_type": "stream",
     "text": [
      "MONTGOMERY REDUCTION\n",
      "SS_VER set to SS_VER_1_1\n",
      "SS_VER set to SS_VER_1_1\n",
      "MONTGOMERY REDUCTION\n",
      "SS_VER set to SS_VER_1_1\n",
      "SS_VER set to SS_VER_1_1\n",
      "make[1]: '.dep' is up to date.\n",
      "MONTGOMERY REDUCTION\n",
      "SS_VER set to SS_VER_1_1\n",
      "SS_VER set to SS_VER_1_1\n",
      ".\n",
      "Welcome to another exciting ChipWhisperer target build!!\n",
      "arm-none-eabi-gcc (15:12.2.rel1-1) 12.2.1 20221205\n",
      "Copyright (C) 2022 Free Software Foundation, Inc.\n",
      "This is free software; see the source for copying conditions.  There is NO\n",
      "warranty; not even for MERCHANTABILITY or FITNESS FOR A PARTICULAR PURPOSE.\n",
      "\n",
      ".\n",
      "Compiling:\n",
      "-en     simpleserial-kyber.c ...\n",
      "-e Done!\n",
      ".\n",
      "Compiling:\n",
      "-en     src/cbd.c ...\n",
      "-e Done!\n",
      ".\n",
      "Compiling:\n",
      "-en     src/indcpa.c ...\n",
      "-e Done!\n",
      ".\n",
      "Compiling:\n",
      "-en     src/masked_indcpa.c ...\n",
      "-e Done!\n",
      ".\n",
      "Compiling:\n",
      "-en     src/masked_utils.c ...\n",
      "-e Done!\n",
      ".\n",
      "Compiling:\n",
      "-en     src/montgomery/ntt.c ...\n",
      "-e Done!\n",
      ".\n",
      "Compiling:\n",
      "-en     src/poly.c ...\n",
      "-e Done!\n",
      ".\n",
      "Compiling:\n",
      "-en     src/symmetric-fips202.c ...\n",
      "-e Done!\n",
      ".\n",
      "Compiling:\n",
      "-en     src/common/randombytes.c ...\n"
     ]
    },
    {
     "name": "stderr",
     "output_type": "stream",
     "text": [
      "src/common/randombytes.c:38:2: warning: #warning Using a non-random randombytes [-Wcpp]\n",
      "   38 | #warning Using a non-random randombytes\n",
      "      |  ^~~~~~~\n"
     ]
    },
    {
     "name": "stdout",
     "output_type": "stream",
     "text": [
      "-e Done!\n",
      ".\n",
      "Compiling:\n",
      "-en     src/common/fips202.c ...\n",
      "-e Done!\n",
      ".\n",
      "Compiling:\n",
      "-en     /home/toluntosun/Desktop/CW/chipwhisperer/hardware/victims/firmware/simpleserial/simpleserial.c ...\n",
      "-e Done!\n",
      ".\n",
      "Compiling:\n",
      "-en     /home/toluntosun/Desktop/CW/chipwhisperer/hardware/victims/firmware/hal/stm32f3/stm32f3_hal.c ...\n",
      "-e Done!\n",
      ".\n",
      "Compiling:\n",
      "-en     /home/toluntosun/Desktop/CW/chipwhisperer/hardware/victims/firmware/hal/stm32f3/stm32f3_hal_lowlevel.c ...\n",
      "-e Done!\n",
      ".\n",
      "Compiling:\n",
      "-en     /home/toluntosun/Desktop/CW/chipwhisperer/hardware/victims/firmware/hal/stm32f3/stm32f3_sysmem.c ...\n",
      "-e Done!\n",
      ".\n",
      "Assembling: src/montgomery/fastbasemul.S\n",
      "arm-none-eabi-gcc -c -mcpu=cortex-m4 -I. -x assembler-with-cpp -mthumb -mcpu=cortex-m4 -mfloat-abi=hard -mfpu=fpv4-sp-d16 -fmessage-length=0 -ffunction-sections -DF_CPU=7372800 -Wa,-gstabs,-adhlns=objdir-CWLITEARM/fastbasemul.lst -Isrc -Isrc/common -Isrc/montgomery -I/home/toluntosun/Desktop/CW/chipwhisperer/hardware/victims/firmware/simpleserial/ -I/home/toluntosun/Desktop/CW/chipwhisperer/hardware/victims/firmware/hal -I/home/toluntosun/Desktop/CW/chipwhisperer/hardware/victims/firmware/hal/stm32f3 -I/home/toluntosun/Desktop/CW/chipwhisperer/hardware/victims/firmware/hal/stm32f3/CMSIS -I/home/toluntosun/Desktop/CW/chipwhisperer/hardware/victims/firmware/hal/stm32f3/CMSIS/core -I/home/toluntosun/Desktop/CW/chipwhisperer/hardware/victims/firmware/hal/stm32f3/CMSIS/device -I/home/toluntosun/Desktop/CW/chipwhisperer/hardware/victims/firmware/hal/stm32f4/Legacy -I/home/toluntosun/Desktop/CW/chipwhisperer/hardware/victims/firmware/simpleserial/ -I/home/toluntosun/Desktop/CW/chipwhisperer/hardware/victims/firmware/crypto/ src/montgomery/fastbasemul.S -o objdir-CWLITEARM/fastbasemul.o\n",
      ".\n",
      "Assembling: src/montgomery/fastinvntt.S\n",
      "arm-none-eabi-gcc -c -mcpu=cortex-m4 -I. -x assembler-with-cpp -mthumb -mcpu=cortex-m4 -mfloat-abi=hard -mfpu=fpv4-sp-d16 -fmessage-length=0 -ffunction-sections -DF_CPU=7372800 -Wa,-gstabs,-adhlns=objdir-CWLITEARM/fastinvntt.lst -Isrc -Isrc/common -Isrc/montgomery -I/home/toluntosun/Desktop/CW/chipwhisperer/hardware/victims/firmware/simpleserial/ -I/home/toluntosun/Desktop/CW/chipwhisperer/hardware/victims/firmware/hal -I/home/toluntosun/Desktop/CW/chipwhisperer/hardware/victims/firmware/hal/stm32f3 -I/home/toluntosun/Desktop/CW/chipwhisperer/hardware/victims/firmware/hal/stm32f3/CMSIS -I/home/toluntosun/Desktop/CW/chipwhisperer/hardware/victims/firmware/hal/stm32f3/CMSIS/core -I/home/toluntosun/Desktop/CW/chipwhisperer/hardware/victims/firmware/hal/stm32f3/CMSIS/device -I/home/toluntosun/Desktop/CW/chipwhisperer/hardware/victims/firmware/hal/stm32f4/Legacy -I/home/toluntosun/Desktop/CW/chipwhisperer/hardware/victims/firmware/simpleserial/ -I/home/toluntosun/Desktop/CW/chipwhisperer/hardware/victims/firmware/crypto/ src/montgomery/fastinvntt.S -o objdir-CWLITEARM/fastinvntt.o\n",
      ".\n",
      "Assembling: src/montgomery/fastntt.S\n",
      "arm-none-eabi-gcc -c -mcpu=cortex-m4 -I. -x assembler-with-cpp -mthumb -mcpu=cortex-m4 -mfloat-abi=hard -mfpu=fpv4-sp-d16 -fmessage-length=0 -ffunction-sections -DF_CPU=7372800 -Wa,-gstabs,-adhlns=objdir-CWLITEARM/fastntt.lst -Isrc -Isrc/common -Isrc/montgomery -I/home/toluntosun/Desktop/CW/chipwhisperer/hardware/victims/firmware/simpleserial/ -I/home/toluntosun/Desktop/CW/chipwhisperer/hardware/victims/firmware/hal -I/home/toluntosun/Desktop/CW/chipwhisperer/hardware/victims/firmware/hal/stm32f3 -I/home/toluntosun/Desktop/CW/chipwhisperer/hardware/victims/firmware/hal/stm32f3/CMSIS -I/home/toluntosun/Desktop/CW/chipwhisperer/hardware/victims/firmware/hal/stm32f3/CMSIS/core -I/home/toluntosun/Desktop/CW/chipwhisperer/hardware/victims/firmware/hal/stm32f3/CMSIS/device -I/home/toluntosun/Desktop/CW/chipwhisperer/hardware/victims/firmware/hal/stm32f4/Legacy -I/home/toluntosun/Desktop/CW/chipwhisperer/hardware/victims/firmware/simpleserial/ -I/home/toluntosun/Desktop/CW/chipwhisperer/hardware/victims/firmware/crypto/ src/montgomery/fastntt.S -o objdir-CWLITEARM/fastntt.o\n",
      ".\n",
      "Assembling: src/montgomery/reduce.S\n",
      "arm-none-eabi-gcc -c -mcpu=cortex-m4 -I. -x assembler-with-cpp -mthumb -mcpu=cortex-m4 -mfloat-abi=hard -mfpu=fpv4-sp-d16 -fmessage-length=0 -ffunction-sections -DF_CPU=7372800 -Wa,-gstabs,-adhlns=objdir-CWLITEARM/reduce.lst -Isrc -Isrc/common -Isrc/montgomery -I/home/toluntosun/Desktop/CW/chipwhisperer/hardware/victims/firmware/simpleserial/ -I/home/toluntosun/Desktop/CW/chipwhisperer/hardware/victims/firmware/hal -I/home/toluntosun/Desktop/CW/chipwhisperer/hardware/victims/firmware/hal/stm32f3 -I/home/toluntosun/Desktop/CW/chipwhisperer/hardware/victims/firmware/hal/stm32f3/CMSIS -I/home/toluntosun/Desktop/CW/chipwhisperer/hardware/victims/firmware/hal/stm32f3/CMSIS/core -I/home/toluntosun/Desktop/CW/chipwhisperer/hardware/victims/firmware/hal/stm32f3/CMSIS/device -I/home/toluntosun/Desktop/CW/chipwhisperer/hardware/victims/firmware/hal/stm32f4/Legacy -I/home/toluntosun/Desktop/CW/chipwhisperer/hardware/victims/firmware/simpleserial/ -I/home/toluntosun/Desktop/CW/chipwhisperer/hardware/victims/firmware/crypto/ src/montgomery/reduce.S -o objdir-CWLITEARM/reduce.o\n",
      ".\n",
      "Assembling: src/common/keccakf1600.S\n",
      "arm-none-eabi-gcc -c -mcpu=cortex-m4 -I. -x assembler-with-cpp -mthumb -mcpu=cortex-m4 -mfloat-abi=hard -mfpu=fpv4-sp-d16 -fmessage-length=0 -ffunction-sections -DF_CPU=7372800 -Wa,-gstabs,-adhlns=objdir-CWLITEARM/keccakf1600.lst -Isrc -Isrc/common -Isrc/montgomery -I/home/toluntosun/Desktop/CW/chipwhisperer/hardware/victims/firmware/simpleserial/ -I/home/toluntosun/Desktop/CW/chipwhisperer/hardware/victims/firmware/hal -I/home/toluntosun/Desktop/CW/chipwhisperer/hardware/victims/firmware/hal/stm32f3 -I/home/toluntosun/Desktop/CW/chipwhisperer/hardware/victims/firmware/hal/stm32f3/CMSIS -I/home/toluntosun/Desktop/CW/chipwhisperer/hardware/victims/firmware/hal/stm32f3/CMSIS/core -I/home/toluntosun/Desktop/CW/chipwhisperer/hardware/victims/firmware/hal/stm32f3/CMSIS/device -I/home/toluntosun/Desktop/CW/chipwhisperer/hardware/victims/firmware/hal/stm32f4/Legacy -I/home/toluntosun/Desktop/CW/chipwhisperer/hardware/victims/firmware/simpleserial/ -I/home/toluntosun/Desktop/CW/chipwhisperer/hardware/victims/firmware/crypto/ src/common/keccakf1600.S -o objdir-CWLITEARM/keccakf1600.o\n",
      ".\n",
      "Assembling: /home/toluntosun/Desktop/CW/chipwhisperer/hardware/victims/firmware/hal/stm32f3/stm32f3_startup.S\n",
      "arm-none-eabi-gcc -c -mcpu=cortex-m4 -I. -x assembler-with-cpp -mthumb -mcpu=cortex-m4 -mfloat-abi=hard -mfpu=fpv4-sp-d16 -fmessage-length=0 -ffunction-sections -DF_CPU=7372800 -Wa,-gstabs,-adhlns=objdir-CWLITEARM/stm32f3_startup.lst -Isrc -Isrc/common -Isrc/montgomery -I/home/toluntosun/Desktop/CW/chipwhisperer/hardware/victims/firmware/simpleserial/ -I/home/toluntosun/Desktop/CW/chipwhisperer/hardware/victims/firmware/hal -I/home/toluntosun/Desktop/CW/chipwhisperer/hardware/victims/firmware/hal/stm32f3 -I/home/toluntosun/Desktop/CW/chipwhisperer/hardware/victims/firmware/hal/stm32f3/CMSIS -I/home/toluntosun/Desktop/CW/chipwhisperer/hardware/victims/firmware/hal/stm32f3/CMSIS/core -I/home/toluntosun/Desktop/CW/chipwhisperer/hardware/victims/firmware/hal/stm32f3/CMSIS/device -I/home/toluntosun/Desktop/CW/chipwhisperer/hardware/victims/firmware/hal/stm32f4/Legacy -I/home/toluntosun/Desktop/CW/chipwhisperer/hardware/victims/firmware/simpleserial/ -I/home/toluntosun/Desktop/CW/chipwhisperer/hardware/victims/firmware/crypto/ /home/toluntosun/Desktop/CW/chipwhisperer/hardware/victims/firmware/hal/stm32f3/stm32f3_startup.S -o objdir-CWLITEARM/stm32f3_startup.o\n",
      ".\n",
      "LINKING:\n",
      "-en     simpleserial-kyber-CWLITEARM.elf ...\n",
      "-e Done!\n",
      ".\n",
      "Creating load file for Flash: simpleserial-kyber-CWLITEARM.hex\n",
      "arm-none-eabi-objcopy -O ihex -R .eeprom -R .fuse -R .lock -R .signature simpleserial-kyber-CWLITEARM.elf simpleserial-kyber-CWLITEARM.hex\n",
      ".\n",
      "Creating load file for Flash: simpleserial-kyber-CWLITEARM.bin\n",
      "arm-none-eabi-objcopy -O binary -R .eeprom -R .fuse -R .lock -R .signature simpleserial-kyber-CWLITEARM.elf simpleserial-kyber-CWLITEARM.bin\n",
      ".\n",
      "Creating load file for EEPROM: simpleserial-kyber-CWLITEARM.eep\n",
      "arm-none-eabi-objcopy -j .eeprom --set-section-flags=.eeprom=\"alloc,load\" \\\n",
      "--change-section-lma .eeprom=0 --no-change-warnings -O ihex simpleserial-kyber-CWLITEARM.elf simpleserial-kyber-CWLITEARM.eep || exit 0\n",
      ".\n",
      "Creating Extended Listing: simpleserial-kyber-CWLITEARM.lss\n",
      "arm-none-eabi-objdump -h -S -z simpleserial-kyber-CWLITEARM.elf > simpleserial-kyber-CWLITEARM.lss\n",
      ".\n",
      "Creating Symbol Table: simpleserial-kyber-CWLITEARM.sym\n",
      "arm-none-eabi-nm -n simpleserial-kyber-CWLITEARM.elf > simpleserial-kyber-CWLITEARM.sym\n",
      "MONTGOMERY REDUCTION\n",
      "SS_VER set to SS_VER_1_1\n",
      "SS_VER set to SS_VER_1_1\n",
      "Size after:\n",
      "   text\t   data\t    bss\t    dec\t    hex\tfilename\n",
      "  15328\t    108\t   2308\t  17744\t   4550\tsimpleserial-kyber-CWLITEARM.elf\n",
      "+--------------------------------------------------------\n",
      "+ Default target does full rebuild each time.\n",
      "+ Specify buildtarget == allquick == to avoid full rebuild\n",
      "+--------------------------------------------------------\n",
      "+--------------------------------------------------------\n",
      "+ Built for platform CW-Lite Arm \\(STM32F3\\) with:\n",
      "+ CRYPTO_TARGET = NONE\n",
      "+ CRYPTO_OPTIONS = \n",
      "+--------------------------------------------------------\n"
     ]
    }
   ],
   "source": [
    "%%bash -s \"$PROJ_DIR\" \"$FIRMWAREPATH\" \"$PLATFORM\" \"$REDUCTION\" \"$NSHARES\"\n",
    "cd $1\n",
    "make FIRMWAREPATH=$2 PLATFORM=$3 REDUCTION=$4 NSHARES=$5"
   ]
  },
  {
   "cell_type": "code",
   "execution_count": 3,
   "metadata": {},
   "outputs": [
    {
     "name": "stderr",
     "output_type": "stream",
     "text": [
      "(ChipWhisperer NAEUSB WARNING|File naeusb.py:800) Your firmware (1.0) is outdated - latest is 1.62 See https://chipwhisperer.readthedocs.io/en/latest/firmware.html for more information\n"
     ]
    },
    {
     "name": "stdout",
     "output_type": "stream",
     "text": [
      "scope.gain.mode                          changed from low                       to high                     \n",
      "scope.gain.gain                          changed from 0                         to 30                       \n",
      "scope.gain.db                            changed from 5.5                       to 24.8359375               \n",
      "scope.adc.basic_mode                     changed from low                       to rising_edge              \n",
      "scope.adc.samples                        changed from 98134                     to 5000                     \n",
      "scope.adc.trig_count                     changed from 2715394                   to 30956593                 \n",
      "scope.clock.adc_src                      changed from clkgen_x1                 to clkgen_x4                \n",
      "scope.clock.adc_freq                     changed from 0                         to 192043945                \n",
      "scope.clock.adc_rate                     changed from 0.0                       to 192043945.0              \n",
      "scope.clock.clkgen_div                   changed from 1                         to 26                       \n",
      "scope.clock.clkgen_freq                  changed from 192000000.0               to 7384615.384615385        \n",
      "scope.io.tio1                            changed from serial_tx                 to serial_rx                \n",
      "scope.io.tio2                            changed from serial_rx                 to serial_tx                \n",
      "scope.io.hs2                             changed from None                      to clkgen                   \n",
      "INFO: Found ChipWhisperer😍\n"
     ]
    }
   ],
   "source": [
    "import chipwhisperer as cw\n",
    "try:\n",
    "    if not scope.connectStatus:\n",
    "        scope.con()\n",
    "except NameError:\n",
    "    scope = cw.scope()\n",
    "\n",
    "try:\n",
    "    target = cw.target(scope)\n",
    "except IOError:\n",
    "    print(\"INFO: Caught exception on reconnecting to target - attempting to reconnect to scope first.\")\n",
    "    print(\"INFO: This is a work-around when USB has died without Python knowing. Ignore errors above this line.\")\n",
    "    scope = cw.scope()\n",
    "    target = cw.target(scope)\n",
    "\n",
    "scope.default_setup()\n",
    "\n",
    "scope.adc.samples = 10000*NSHARES\n",
    "\n",
    "print(\"INFO: Found ChipWhisperer😍\")"
   ]
  },
  {
   "cell_type": "code",
   "execution_count": 4,
   "metadata": {},
   "outputs": [
    {
     "name": "stdout",
     "output_type": "stream",
     "text": [
      "Detected known STMF32: STM32F302xB(C)/303xB(C)\n",
      "Extended erase (0x44), this can take ten seconds or more\n",
      "Attempting to program 15439 bytes at 0x8000000\n",
      "STM32F Programming flash...\n",
      "STM32F Reading flash...\n",
      "Verified flash OK, 15439 bytes\n"
     ]
    }
   ],
   "source": [
    "fw_path = f'{PROJ_DIR}/simpleserial-kyber-{PLATFORM}.hex'\n",
    "prog = cw.programmers.STM32FProgrammer\n",
    "cw.program_target(scope, prog, fw_path)"
   ]
  },
  {
   "cell_type": "code",
   "execution_count": 5,
   "metadata": {},
   "outputs": [],
   "source": [
    "import kyber\n",
    "import numpy as np\n",
    "\n",
    "def coins_gen_s(coins):\n",
    "    target.simpleserial_write('k',coins)\n",
    "    sk_ = []\n",
    "    \n",
    "    for i in range(3):\n",
    "        sk_.append(target.read(258))\n",
    "    print(sk_)\n",
    "    sk_ = bytes.fromhex(sk_[0][1:257] + sk_[1][1:257] + sk_[2][1:257])\n",
    "    return kyber.decode_sk(sk_)"
   ]
  },
  {
   "cell_type": "code",
   "execution_count": 6,
   "metadata": {},
   "outputs": [],
   "source": [
    "from Crypto.Hash import SHAKE128\n",
    "\n",
    "def coins_to_c(coins):\n",
    "    \n",
    "    shake = SHAKE128.new()\n",
    "    \n",
    "    shake.update(coins)\n",
    "    return kyber.kyber768_poly_unpack_decompress_du(shake.read(320))\n"
   ]
  },
  {
   "cell_type": "code",
   "execution_count": 7,
   "metadata": {},
   "outputs": [
    {
     "name": "stdout",
     "output_type": "stream",
     "text": [
      "b'|\\x90\\xdbE+\\x02\\x18\\x0c\\xac&\\xfa\\xf1\\x12.\\x94\\xd8zoU\\xd8h\\x05Y\\xb7\\x15\\xf6\\x00\\x96\\xc6\\xbew~'\n",
      "['rF04529B36CB59DC4C99050B115686FD8126AAC365EF8491A5BB5A42BF56EA2ECC0A4446557F17F1376414F1C4E2A7608E2943D2F001006A5B708C24812C8A7EB3B95895A42B2176D9886A3F64797AD1A4A06A4934E49A6CC5395736867EBC3322F3CAB01381B78E0155074C3D6702BD7C686625AABDC2C936218119DB541B320\\n', 'rCC4D23C7ED9C00FE953A1F660D2519A1D96883632A66E771194DA832A23ACD37F24B7E8447BB188F990552001510E5A953D7A6A1FDC86A832C3DEA25BFD11A6585C028ECA4ACA3C63694505F6272ACE6B6001DBB62A466A5EA087C1057C918212A264C92C464BB8829A880E0850201A0544663E7165323131691168013D18AA5\\n', 'rACAA19569DB2965CEDB2A3F83237BE58B2FFE2CE5A895B943643CBBB25EBC2AD99A701B71B17E0470A2CF672CCB0168248CBAF42138FEC49D944B5E3340ED94924DBD774BE2671FD49589941A4DB913492F6B414C76A936C072233BA4F023D38A9C3A7D973E1261E1FF9A62B310780969E1624963D006B6E5091B58126DC6B8B\\n']\n",
      "[ 1 -1  0  0 -1  1 -1  1  0 -2  0  0  1 -1 -1  0  2  0  1 -1  1  1  1 -1\n",
      "  0  0  0  0  1  0  0  0  0  2  0  0 -1  0 -2  1 -1 -1 -1  0  1  0 -1 -2\n",
      "  0  1  0  0 -1  0 -1  1  0 -2  0  0  0  0 -1  1  0  1 -1  0 -1  0  1  1\n",
      "  0 -1  1 -1  0  1 -1 -1 -1  1 -1 -1  1  0  1 -1 -1  0  1  1  0  0  1  0\n",
      "  0  0  1  0  1  0 -1 -1  0 -1 -1  1  0  0  0 -1 -1  0  0  2 -1  1  2 -2\n",
      "  0  0  1  1  0  0  1  0 -1  0  0  1  0 -1  0 -2 -1  0  1 -1  0 -1  0  1\n",
      "  0  0  0 -1  1  0  0 -1  0  1  1  0  2 -1 -1  0  0  0 -1  1  0  0  0  1\n",
      " -1  0  1 -2  1 -2  0  1  1  2  1  0 -1  1  0  0 -1 -1  1  0  0  1 -1  1\n",
      " -2  1 -2  0 -2 -1 -1  0  0 -1  0 -1  0  0 -1 -1  0 -1 -1  0 -1 -1  0  0\n",
      " -1  1  0  1  1  0  0  2  0  0 -1  1  1  0 -2  1  1 -2  1  1  1  0  0  1\n",
      " -1 -1  0  0  1  2  0 -1  1 -1  1  0  0  0 -1 -1]\n"
     ]
    }
   ],
   "source": [
    "import os\n",
    "\n",
    "coins = os.urandom(32)\n",
    "print(coins)\n",
    "\n",
    "s = coins_gen_s(coins)\n",
    "print(kyber.ntt.ntt_inv(s, central_red=True))"
   ]
  },
  {
   "cell_type": "code",
   "execution_count": 8,
   "metadata": {},
   "outputs": [
    {
     "data": {
      "text/plain": [
       "0"
      ]
     },
     "execution_count": 8,
     "metadata": {},
     "output_type": "execute_result"
    }
   ],
   "source": [
    "target.simpleserial_write('q', bytes())\n",
    "target.simpleserial_wait_ack()"
   ]
  },
  {
   "cell_type": "code",
   "execution_count": 9,
   "metadata": {},
   "outputs": [
    {
     "data": {
      "application/vnd.jupyter.widget-view+json": {
       "model_id": "1be93785802446798de08a3ef884f3b5",
       "version_major": 2,
       "version_minor": 0
      },
      "text/plain": [
       "  0%|          | 0/80000 [00:00<?, ?it/s]"
      ]
     },
     "metadata": {},
     "output_type": "display_data"
    },
    {
     "name": "stderr",
     "output_type": "stream",
     "text": [
      "ERROR:estraces.formats.ets_writer:Exception raised during init of h5f file: [Errno 2] Unable to synchronously open file (unable to open file: name = 'traces/kyber_basemult_montgomery_d4_t0.ets', errno = 2, error message = 'No such file or directory', flags = 0, o_flags = 0).\n"
     ]
    }
   ],
   "source": [
    "#Capture Traces\n",
    "from tqdm.auto import tqdm\n",
    "import estraces\n",
    "import numpy as np\n",
    "import time\n",
    "import os\n",
    "\n",
    "for i in range(1000):\n",
    "    filename = f'traces/kyber_basemult_{REDUCTION.lower()}_d{NSHARES}_t{i}.ets'\n",
    "    if os.path.isfile(filename):\n",
    "        continue\n",
    "    es_writer = estraces.ETSWriter(filename=filename, overwrite=False)\n",
    "    break\n",
    "\n",
    "target.output_len = 0\n",
    "\n",
    "\n",
    "for i in tqdm(range(N)):\n",
    "    coins = os.urandom(32)\n",
    "    trace = cw.capture_trace(scope, target, cw.bytearray(coins))\n",
    "    if trace is None:\n",
    "        continue\n",
    "    es_writer.write_samples(trace.wave)\n",
    "    es_writer.write_metadata('c', coins_to_c(coins))\n",
    "    es_writer.write_metadata('s', s)\n",
    "    \n",
    "es_writer.close()"
   ]
  },
  {
   "cell_type": "code",
   "execution_count": 10,
   "metadata": {},
   "outputs": [
    {
     "name": "stdout",
     "output_type": "stream",
     "text": [
      "Trace Header Set:\n",
      "Name.............: ETS Format THS\n",
      "Reader...........: ETS format reader of file traces/kyber_basemult_montgomery_d4_t0.ets with 80000 traces.\n",
      "c................: uint16\n",
      "s................: uint16\n",
      "\n"
     ]
    }
   ],
   "source": [
    "import estraces\n",
    "\n",
    "ths = estraces.read_ths_from_ets_file(filename)\n",
    "\n",
    "print(ths)"
   ]
  },
  {
   "cell_type": "code",
   "execution_count": 11,
   "metadata": {},
   "outputs": [
    {
     "data": {
      "text/plain": [
       "[<matplotlib.lines.Line2D at 0x73b8f82a2ba0>]"
      ]
     },
     "execution_count": 11,
     "metadata": {},
     "output_type": "execute_result"
    },
    {
     "data": {
      "image/png": "[encoded data removed]",
      "text/plain": [
       "<Figure size 640x480 with 1 Axes>"
      ]
     },
     "metadata": {},
     "output_type": "display_data"
    }
   ],
   "source": [
    "from matplotlib import pyplot as plt\n",
    "\n",
    "fig, ax = plt.subplots()\n",
    "\n",
    "mean = ths.samples.mean(axis=0)\n",
    "\n",
    "ax.plot(mean)"
   ]
  },
  {
   "cell_type": "code",
   "execution_count": null,
   "metadata": {},
   "outputs": [],
   "source": []
  }
 ],
 "metadata": {
  "kernelspec": {
   "display_name": "sca",
   "language": "python",
   "name": "python3"
  },
  "language_info": {
   "codemirror_mode": {
    "name": "ipython",
    "version": 3
   },
   "file_extension": ".py",
   "mimetype": "text/x-python",
   "name": "python",
   "nbconvert_exporter": "python",
   "pygments_lexer": "ipython3",
   "version": "3.12.2"
  }
 },
 "nbformat": 4,
 "nbformat_minor": 4
}
