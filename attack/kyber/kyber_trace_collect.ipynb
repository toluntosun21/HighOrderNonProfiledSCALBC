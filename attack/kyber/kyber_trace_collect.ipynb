{
 "cells": [
  {
   "cell_type": "code",
   "execution_count": 1,
   "metadata": {},
   "outputs": [],
   "source": [
    "SCOPETYPE = 'OPENADC'\n",
    "PLATFORM = 'CWLITEARM'\n",
    "REDUCTION = 'MONTGOMERY'\n",
    "PROJ_DIR = '../../victim/simpleserial-kyber'\n",
    "FIRMWAREPATH = '/home/toluntosun/Desktop/CW/chipwhisperer/hardware/victims/firmware'\n",
    "NSHARES = 1\n",
    "N = 100"
   ]
  },
  {
   "cell_type": "code",
   "execution_count": 2,
   "metadata": {},
   "outputs": [],
   "source": [
    "import sys\n",
    "sys.path.append('../../../scaredcu')"
   ]
  },
  {
   "cell_type": "code",
   "execution_count": 3,
   "metadata": {},
   "outputs": [],
   "source": [
    "import scaredcu\n",
    "import os\n",
    "import cupy as cp\n",
    "import numpy as np\n",
    "from tqdm.auto import tqdm\n",
    "import estraces\n",
    "from xoflib import shake128\n",
    "from matplotlib import pyplot as plt\n",
    "%matplotlib widget"
   ]
  },
  {
   "cell_type": "code",
   "execution_count": 5,
   "metadata": {},
   "outputs": [
    {
     "name": "stdout",
     "output_type": "stream",
     "text": [
      "MONTGOMERY REDUCTION\n",
      "SS_VER set to SS_VER_1_1\n",
      "SS_VER set to SS_VER_1_1\n",
      "MONTGOMERY REDUCTION\n",
      "SS_VER set to SS_VER_1_1\n",
      "SS_VER set to SS_VER_1_1\n",
      "make[1]: '.dep' is up to date.\n",
      "MONTGOMERY REDUCTION\n",
      "SS_VER set to SS_VER_1_1\n",
      "SS_VER set to SS_VER_1_1\n",
      ".\n",
      "Welcome to another exciting ChipWhisperer target build!!\n",
      "arm-none-eabi-gcc (15:12.2.rel1-1) 12.2.1 20221205\n",
      "Copyright (C) 2022 Free Software Foundation, Inc.\n",
      "This is free software; see the source for copying conditions.  There is NO\n",
      "warranty; not even for MERCHANTABILITY or FITNESS FOR A PARTICULAR PURPOSE.\n",
      "\n",
      ".\n",
      "Compiling:\n",
      "-en     simpleserial-kyber.c ...\n",
      "-e Done!\n",
      ".\n",
      "Compiling:\n",
      "-en     src/cbd.c ...\n",
      "-e Done!\n",
      ".\n",
      "Compiling:\n",
      "-en     src/indcpa.c ...\n",
      "-e Done!\n",
      ".\n",
      "Compiling:\n",
      "-en     src/masked_indcpa.c ...\n",
      "-e Done!\n",
      ".\n",
      "Compiling:\n",
      "-en     src/masked_utils.c ...\n",
      "-e Done!\n",
      ".\n",
      "Compiling:\n",
      "-en     src/montgomery/ntt.c ...\n",
      "-e Done!\n",
      ".\n",
      "Compiling:\n",
      "-en     src/poly.c ...\n",
      "-e Done!\n",
      ".\n",
      "Compiling:\n",
      "-en     src/symmetric-fips202.c ...\n",
      "-e Done!\n",
      ".\n",
      "Compiling:\n",
      "-en     src/fips202.c ...\n",
      "-e Done!\n",
      ".\n",
      "Compiling:\n",
      "-en     ../common/randombytes.c ...\n"
     ]
    },
    {
     "name": "stderr",
     "output_type": "stream",
     "text": [
      "../common/randombytes.c:38:2: warning: #warning Using a non-random randombytes [-Wcpp]\n",
      "   38 | #warning Using a non-random randombytes\n",
      "      |  ^~~~~~~\n"
     ]
    },
    {
     "name": "stdout",
     "output_type": "stream",
     "text": [
      "-e Done!\n",
      ".\n",
      "Compiling:\n",
      "-en     /home/toluntosun/Desktop/CW/chipwhisperer/hardware/victims/firmware/simpleserial/simpleserial.c ...\n",
      "-e Done!\n",
      ".\n",
      "Compiling:\n",
      "-en     /home/toluntosun/Desktop/CW/chipwhisperer/hardware/victims/firmware/hal/stm32f3/stm32f3_hal.c ...\n",
      "-e Done!\n",
      ".\n",
      "Compiling:\n",
      "-en     /home/toluntosun/Desktop/CW/chipwhisperer/hardware/victims/firmware/hal/stm32f3/stm32f3_hal_lowlevel.c ...\n",
      "-e Done!\n",
      ".\n",
      "Compiling:\n",
      "-en     /home/toluntosun/Desktop/CW/chipwhisperer/hardware/victims/firmware/hal/stm32f3/stm32f3_sysmem.c ...\n",
      "-e Done!\n",
      ".\n",
      "Assembling: src/montgomery/fastbasemul.S\n",
      "arm-none-eabi-gcc -c -mcpu=cortex-m4 -I. -x assembler-with-cpp -mthumb -mcpu=cortex-m4 -mfloat-abi=hard -mfpu=fpv4-sp-d16 -fmessage-length=0 -ffunction-sections -DF_CPU=7372800 -Wa,-gstabs,-adhlns=objdir-CWLITEARM/fastbasemul.lst -Isrc -I../common -Isrc/montgomery -I/home/toluntosun/Desktop/CW/chipwhisperer/hardware/victims/firmware/simpleserial/ -I/home/toluntosun/Desktop/CW/chipwhisperer/hardware/victims/firmware/hal -I/home/toluntosun/Desktop/CW/chipwhisperer/hardware/victims/firmware/hal/stm32f3 -I/home/toluntosun/Desktop/CW/chipwhisperer/hardware/victims/firmware/hal/stm32f3/CMSIS -I/home/toluntosun/Desktop/CW/chipwhisperer/hardware/victims/firmware/hal/stm32f3/CMSIS/core -I/home/toluntosun/Desktop/CW/chipwhisperer/hardware/victims/firmware/hal/stm32f3/CMSIS/device -I/home/toluntosun/Desktop/CW/chipwhisperer/hardware/victims/firmware/hal/stm32f4/Legacy -I/home/toluntosun/Desktop/CW/chipwhisperer/hardware/victims/firmware/simpleserial/ -I/home/toluntosun/Desktop/CW/chipwhisperer/hardware/victims/firmware/crypto/ src/montgomery/fastbasemul.S -o objdir-CWLITEARM/fastbasemul.o\n",
      ".\n",
      "Assembling: src/montgomery/fastinvntt.S\n",
      "arm-none-eabi-gcc -c -mcpu=cortex-m4 -I. -x assembler-with-cpp -mthumb -mcpu=cortex-m4 -mfloat-abi=hard -mfpu=fpv4-sp-d16 -fmessage-length=0 -ffunction-sections -DF_CPU=7372800 -Wa,-gstabs,-adhlns=objdir-CWLITEARM/fastinvntt.lst -Isrc -I../common -Isrc/montgomery -I/home/toluntosun/Desktop/CW/chipwhisperer/hardware/victims/firmware/simpleserial/ -I/home/toluntosun/Desktop/CW/chipwhisperer/hardware/victims/firmware/hal -I/home/toluntosun/Desktop/CW/chipwhisperer/hardware/victims/firmware/hal/stm32f3 -I/home/toluntosun/Desktop/CW/chipwhisperer/hardware/victims/firmware/hal/stm32f3/CMSIS -I/home/toluntosun/Desktop/CW/chipwhisperer/hardware/victims/firmware/hal/stm32f3/CMSIS/core -I/home/toluntosun/Desktop/CW/chipwhisperer/hardware/victims/firmware/hal/stm32f3/CMSIS/device -I/home/toluntosun/Desktop/CW/chipwhisperer/hardware/victims/firmware/hal/stm32f4/Legacy -I/home/toluntosun/Desktop/CW/chipwhisperer/hardware/victims/firmware/simpleserial/ -I/home/toluntosun/Desktop/CW/chipwhisperer/hardware/victims/firmware/crypto/ src/montgomery/fastinvntt.S -o objdir-CWLITEARM/fastinvntt.o\n",
      ".\n",
      "Assembling: src/montgomery/fastntt.S\n",
      "arm-none-eabi-gcc -c -mcpu=cortex-m4 -I. -x assembler-with-cpp -mthumb -mcpu=cortex-m4 -mfloat-abi=hard -mfpu=fpv4-sp-d16 -fmessage-length=0 -ffunction-sections -DF_CPU=7372800 -Wa,-gstabs,-adhlns=objdir-CWLITEARM/fastntt.lst -Isrc -I../common -Isrc/montgomery -I/home/toluntosun/Desktop/CW/chipwhisperer/hardware/victims/firmware/simpleserial/ -I/home/toluntosun/Desktop/CW/chipwhisperer/hardware/victims/firmware/hal -I/home/toluntosun/Desktop/CW/chipwhisperer/hardware/victims/firmware/hal/stm32f3 -I/home/toluntosun/Desktop/CW/chipwhisperer/hardware/victims/firmware/hal/stm32f3/CMSIS -I/home/toluntosun/Desktop/CW/chipwhisperer/hardware/victims/firmware/hal/stm32f3/CMSIS/core -I/home/toluntosun/Desktop/CW/chipwhisperer/hardware/victims/firmware/hal/stm32f3/CMSIS/device -I/home/toluntosun/Desktop/CW/chipwhisperer/hardware/victims/firmware/hal/stm32f4/Legacy -I/home/toluntosun/Desktop/CW/chipwhisperer/hardware/victims/firmware/simpleserial/ -I/home/toluntosun/Desktop/CW/chipwhisperer/hardware/victims/firmware/crypto/ src/montgomery/fastntt.S -o objdir-CWLITEARM/fastntt.o\n",
      ".\n",
      "Assembling: src/montgomery/reduce.S\n",
      "arm-none-eabi-gcc -c -mcpu=cortex-m4 -I. -x assembler-with-cpp -mthumb -mcpu=cortex-m4 -mfloat-abi=hard -mfpu=fpv4-sp-d16 -fmessage-length=0 -ffunction-sections -DF_CPU=7372800 -Wa,-gstabs,-adhlns=objdir-CWLITEARM/reduce.lst -Isrc -I../common -Isrc/montgomery -I/home/toluntosun/Desktop/CW/chipwhisperer/hardware/victims/firmware/simpleserial/ -I/home/toluntosun/Desktop/CW/chipwhisperer/hardware/victims/firmware/hal -I/home/toluntosun/Desktop/CW/chipwhisperer/hardware/victims/firmware/hal/stm32f3 -I/home/toluntosun/Desktop/CW/chipwhisperer/hardware/victims/firmware/hal/stm32f3/CMSIS -I/home/toluntosun/Desktop/CW/chipwhisperer/hardware/victims/firmware/hal/stm32f3/CMSIS/core -I/home/toluntosun/Desktop/CW/chipwhisperer/hardware/victims/firmware/hal/stm32f3/CMSIS/device -I/home/toluntosun/Desktop/CW/chipwhisperer/hardware/victims/firmware/hal/stm32f4/Legacy -I/home/toluntosun/Desktop/CW/chipwhisperer/hardware/victims/firmware/simpleserial/ -I/home/toluntosun/Desktop/CW/chipwhisperer/hardware/victims/firmware/crypto/ src/montgomery/reduce.S -o objdir-CWLITEARM/reduce.o\n",
      ".\n",
      "Assembling: src/keccakf1600.S\n",
      "arm-none-eabi-gcc -c -mcpu=cortex-m4 -I. -x assembler-with-cpp -mthumb -mcpu=cortex-m4 -mfloat-abi=hard -mfpu=fpv4-sp-d16 -fmessage-length=0 -ffunction-sections -DF_CPU=7372800 -Wa,-gstabs,-adhlns=objdir-CWLITEARM/keccakf1600.lst -Isrc -I../common -Isrc/montgomery -I/home/toluntosun/Desktop/CW/chipwhisperer/hardware/victims/firmware/simpleserial/ -I/home/toluntosun/Desktop/CW/chipwhisperer/hardware/victims/firmware/hal -I/home/toluntosun/Desktop/CW/chipwhisperer/hardware/victims/firmware/hal/stm32f3 -I/home/toluntosun/Desktop/CW/chipwhisperer/hardware/victims/firmware/hal/stm32f3/CMSIS -I/home/toluntosun/Desktop/CW/chipwhisperer/hardware/victims/firmware/hal/stm32f3/CMSIS/core -I/home/toluntosun/Desktop/CW/chipwhisperer/hardware/victims/firmware/hal/stm32f3/CMSIS/device -I/home/toluntosun/Desktop/CW/chipwhisperer/hardware/victims/firmware/hal/stm32f4/Legacy -I/home/toluntosun/Desktop/CW/chipwhisperer/hardware/victims/firmware/simpleserial/ -I/home/toluntosun/Desktop/CW/chipwhisperer/hardware/victims/firmware/crypto/ src/keccakf1600.S -o objdir-CWLITEARM/keccakf1600.o\n",
      ".\n",
      "Assembling: /home/toluntosun/Desktop/CW/chipwhisperer/hardware/victims/firmware/hal/stm32f3/stm32f3_startup.S\n",
      "arm-none-eabi-gcc -c -mcpu=cortex-m4 -I. -x assembler-with-cpp -mthumb -mcpu=cortex-m4 -mfloat-abi=hard -mfpu=fpv4-sp-d16 -fmessage-length=0 -ffunction-sections -DF_CPU=7372800 -Wa,-gstabs,-adhlns=objdir-CWLITEARM/stm32f3_startup.lst -Isrc -I../common -Isrc/montgomery -I/home/toluntosun/Desktop/CW/chipwhisperer/hardware/victims/firmware/simpleserial/ -I/home/toluntosun/Desktop/CW/chipwhisperer/hardware/victims/firmware/hal -I/home/toluntosun/Desktop/CW/chipwhisperer/hardware/victims/firmware/hal/stm32f3 -I/home/toluntosun/Desktop/CW/chipwhisperer/hardware/victims/firmware/hal/stm32f3/CMSIS -I/home/toluntosun/Desktop/CW/chipwhisperer/hardware/victims/firmware/hal/stm32f3/CMSIS/core -I/home/toluntosun/Desktop/CW/chipwhisperer/hardware/victims/firmware/hal/stm32f3/CMSIS/device -I/home/toluntosun/Desktop/CW/chipwhisperer/hardware/victims/firmware/hal/stm32f4/Legacy -I/home/toluntosun/Desktop/CW/chipwhisperer/hardware/victims/firmware/simpleserial/ -I/home/toluntosun/Desktop/CW/chipwhisperer/hardware/victims/firmware/crypto/ /home/toluntosun/Desktop/CW/chipwhisperer/hardware/victims/firmware/hal/stm32f3/stm32f3_startup.S -o objdir-CWLITEARM/stm32f3_startup.o\n",
      ".\n",
      "LINKING:\n",
      "-en     simpleserial-kyber-CWLITEARM.elf ...\n",
      "-e Done!\n",
      ".\n",
      "Creating load file for Flash: simpleserial-kyber-CWLITEARM.hex\n",
      "arm-none-eabi-objcopy -O ihex -R .eeprom -R .fuse -R .lock -R .signature simpleserial-kyber-CWLITEARM.elf simpleserial-kyber-CWLITEARM.hex\n",
      ".\n",
      "Creating load file for Flash: simpleserial-kyber-CWLITEARM.bin\n",
      "arm-none-eabi-objcopy -O binary -R .eeprom -R .fuse -R .lock -R .signature simpleserial-kyber-CWLITEARM.elf simpleserial-kyber-CWLITEARM.bin\n",
      ".\n",
      "Creating load file for EEPROM: simpleserial-kyber-CWLITEARM.eep\n",
      "arm-none-eabi-objcopy -j .eeprom --set-section-flags=.eeprom=\"alloc,load\" \\\n",
      "--change-section-lma .eeprom=0 --no-change-warnings -O ihex simpleserial-kyber-CWLITEARM.elf simpleserial-kyber-CWLITEARM.eep || exit 0\n",
      ".\n",
      "Creating Extended Listing: simpleserial-kyber-CWLITEARM.lss\n",
      "arm-none-eabi-objdump -h -S -z simpleserial-kyber-CWLITEARM.elf > simpleserial-kyber-CWLITEARM.lss\n",
      ".\n",
      "Creating Symbol Table: simpleserial-kyber-CWLITEARM.sym\n",
      "arm-none-eabi-nm -n simpleserial-kyber-CWLITEARM.elf > simpleserial-kyber-CWLITEARM.sym\n",
      "MONTGOMERY REDUCTION\n",
      "SS_VER set to SS_VER_1_1\n",
      "SS_VER set to SS_VER_1_1\n",
      "Size after:\n",
      "   text\t   data\t    bss\t    dec\t    hex\tfilename\n",
      "  14312\t    108\t   2164\t  16584\t   40c8\tsimpleserial-kyber-CWLITEARM.elf\n",
      "+--------------------------------------------------------\n",
      "+ Default target does full rebuild each time.\n",
      "+ Specify buildtarget == allquick == to avoid full rebuild\n",
      "+--------------------------------------------------------\n",
      "+--------------------------------------------------------\n",
      "+ Built for platform CW-Lite Arm \\(STM32F3\\) with:\n",
      "+ CRYPTO_TARGET = NONE\n",
      "+ CRYPTO_OPTIONS = \n",
      "+--------------------------------------------------------\n"
     ]
    }
   ],
   "source": [
    "%%bash -s \"$PROJ_DIR\" \"$FIRMWAREPATH\" \"$PLATFORM\" \"$REDUCTION\" \"$NSHARES\"\n",
    "cd $1\n",
    "make FIRMWAREPATH=$2 PLATFORM=$3 REDUCTION=$4 NSHARES=$5"
   ]
  },
  {
   "cell_type": "code",
   "execution_count": 5,
   "metadata": {},
   "outputs": [
    {
     "name": "stderr",
     "output_type": "stream",
     "text": [
      "/home/toluntosun/Desktop/CW/chipwhisperer/software/chipwhisperer/capture/trace/TraceWhisperer.py:31: DeprecationWarning: pkg_resources is deprecated as an API. See https://setuptools.pypa.io/en/latest/pkg_resources.html\n",
      "  import pkg_resources # type: ignore\n",
      "(ChipWhisperer NAEUSB WARNING|File naeusb.py:800) Your firmware (1.0) is outdated - latest is 1.62 See https://chipwhisperer.readthedocs.io/en/latest/firmware.html for more information\n"
     ]
    },
    {
     "name": "stdout",
     "output_type": "stream",
     "text": [
      "scope.gain.mode                          changed from low                       to high                     \n",
      "scope.gain.gain                          changed from 0                         to 30                       \n",
      "scope.gain.db                            changed from 5.5                       to 24.8359375               \n",
      "scope.adc.basic_mode                     changed from low                       to rising_edge              \n",
      "scope.adc.samples                        changed from 98134                     to 5000                     \n",
      "scope.adc.trig_count                     changed from 12285726                  to 26551011                 \n",
      "scope.clock.adc_src                      changed from clkgen_x1                 to clkgen_x4                \n",
      "scope.clock.adc_freq                     changed from 3437633                   to 96000000                 \n",
      "scope.clock.adc_rate                     changed from 3437633.0                 to 96000000.0               \n",
      "scope.clock.clkgen_div                   changed from 1                         to 26                       \n",
      "scope.clock.clkgen_freq                  changed from 192000000.0               to 7384615.384615385        \n",
      "scope.io.tio1                            changed from serial_tx                 to serial_rx                \n",
      "scope.io.tio2                            changed from serial_rx                 to serial_tx                \n",
      "scope.io.hs2                             changed from None                      to clkgen                   \n",
      "INFO: Found ChipWhisperer😍\n"
     ]
    }
   ],
   "source": [
    "import chipwhisperer as cw\n",
    "try:\n",
    "    if not scope.connectStatus:\n",
    "        scope.con()\n",
    "except NameError:\n",
    "    scope = cw.scope()\n",
    "\n",
    "try:\n",
    "    target = cw.target(scope)\n",
    "except IOError:\n",
    "    print(\"INFO: Caught exception on reconnecting to target - attempting to reconnect to scope first.\")\n",
    "    print(\"INFO: This is a work-around when USB has died without Python knowing. Ignore errors above this line.\")\n",
    "    scope = cw.scope()\n",
    "    target = cw.target(scope)\n",
    "\n",
    "scope.default_setup()\n",
    "\n",
    "scope.adc.samples = 10000*NSHARES\n",
    "\n",
    "print(\"INFO: Found ChipWhisperer😍\")"
   ]
  },
  {
   "cell_type": "code",
   "execution_count": 6,
   "metadata": {},
   "outputs": [
    {
     "name": "stdout",
     "output_type": "stream",
     "text": [
      "Detected known STMF32: STM32F302xB(C)/303xB(C)\n",
      "Extended erase (0x44), this can take ten seconds or more\n",
      "Attempting to program 14399 bytes at 0x8000000\n",
      "STM32F Programming flash...\n",
      "STM32F Reading flash...\n",
      "Verified flash OK, 14399 bytes\n"
     ]
    }
   ],
   "source": [
    "fw_path = f'{PROJ_DIR}/simpleserial-kyber-{PLATFORM}.hex'\n",
    "prog = cw.programmers.STM32FProgrammer\n",
    "cw.program_target(scope, prog, fw_path)"
   ]
  },
  {
   "cell_type": "code",
   "execution_count": 7,
   "metadata": {},
   "outputs": [],
   "source": [
    "def coins_gen_s(coins):\n",
    "    target.simpleserial_write('k',coins)\n",
    "    sk_ = []\n",
    "    \n",
    "    for i in range(3):\n",
    "        sk_.append(target.read(258))\n",
    "    sk_ = bytes.fromhex(sk_[0][1:257] + sk_[1][1:257] + sk_[2][1:257])\n",
    "    return scaredcu.lbc.kyber.decode_sk(sk_).get()"
   ]
  },
  {
   "cell_type": "code",
   "execution_count": 8,
   "metadata": {},
   "outputs": [],
   "source": [
    "kyber_ntt = scaredcu.lbc.kyber.NTT()\n",
    "\n",
    "def coins_to_c(coins):\n",
    "    \n",
    "    shake = shake128(coins)\n",
    "    poly = scaredcu.lbc.kyber.kyber768_poly_unpack_decompress_du(shake.read(320))\n",
    "    return kyber_ntt.ntt(poly, central_red=False).get()"
   ]
  },
  {
   "cell_type": "code",
   "execution_count": 9,
   "metadata": {},
   "outputs": [
    {
     "name": "stdout",
     "output_type": "stream",
     "text": [
      "b'\\x85\\x07/\\xc2\\xeam\\xfd\\xfam\\x1b\\xeb\\xce<C!\\xe4\\r\\xd6\\xc1\\rmP(v\\x81z\\xbe\\x16\\xcc\\xc88`'\n",
      "[ 0  2 -1  0  0 -2 -2  1 -1  0  0  2  0  1 -1  0 -1  1  0  2  0 -1 -1  0\n",
      "  1  0  0 -1  1  0  0  1  1  2 -1  1  0  0  0 -2  0  0 -1  1  1  0 -1  0\n",
      "  1  0  0  1  0  2 -1  0 -1 -1  0  0  0  2  2  0  1 -1 -1 -1 -1  0 -1 -1\n",
      "  0  1 -1  1 -1  0  1  1  1 -2  0  2  0  0  0  1  0  0  1  1  0 -1  0  1\n",
      " -1 -1 -1  1  1 -1  1 -1 -1 -1 -1  1  0  0 -1 -2 -1  0  1 -2  1 -1 -1  0\n",
      "  1  0  0  0  0  0 -1  0  0  1  2 -1  0  1 -2 -1  0 -2 -1  0 -1 -1  1 -1\n",
      "  0  0 -2 -1  0  2 -2 -2  1 -1  0  1  0  1  0 -1  1 -1  1 -2  1 -1 -2  0\n",
      "  0 -2  0  1  0  2  0  1  0  1  1  0  1  1 -1 -1  1  0 -1  1  0  0  1  1\n",
      "  0 -1 -1  1  1  0 -1  0  1 -1  2 -2  0  0 -1  1 -1  0  1  1  0  0 -1  1\n",
      "  2  0  0  1  0 -1  0 -1  0  1  0  0  2  0  1  0  0  0  0 -2  0  1  1  2\n",
      " -1  0  2  1  1  1  0  1  1  1 -1  1  1  1  0  0]\n"
     ]
    }
   ],
   "source": [
    "coins = os.urandom(32)\n",
    "print(coins)\n",
    "\n",
    "s = coins_gen_s(coins)\n",
    "print(kyber_ntt.ntt_inv(cp.array(s), central_red=True))"
   ]
  },
  {
   "cell_type": "code",
   "execution_count": 10,
   "metadata": {},
   "outputs": [
    {
     "data": {
      "text/plain": [
       "0"
      ]
     },
     "execution_count": 10,
     "metadata": {},
     "output_type": "execute_result"
    }
   ],
   "source": [
    "target.simpleserial_write('q', bytes())\n",
    "target.simpleserial_wait_ack()"
   ]
  },
  {
   "cell_type": "code",
   "execution_count": 11,
   "metadata": {},
   "outputs": [
    {
     "data": {
      "application/vnd.jupyter.widget-view+json": {
       "model_id": "e0f9b8144e13475c9f00448ce9472f5f",
       "version_major": 2,
       "version_minor": 0
      },
      "text/plain": [
       "  0%|          | 0/100 [00:00<?, ?it/s]"
      ]
     },
     "metadata": {},
     "output_type": "display_data"
    },
    {
     "name": "stderr",
     "output_type": "stream",
     "text": [
      "ERROR:estraces.formats.ets_writer:Exception raised during init of h5f file: [Errno 2] Unable to synchronously open file (unable to open file: name = 'traces/kyber_basemult_montgomery_d1_t4.ets', errno = 2, error message = 'No such file or directory', flags = 0, o_flags = 0).\n"
     ]
    }
   ],
   "source": [
    "#Capture Traces\n",
    "\n",
    "for i in range(1000):\n",
    "    filename = f'traces/kyber_basemult_{REDUCTION.lower()}_d{NSHARES}_t{i}.ets'\n",
    "    if os.path.isfile(filename):\n",
    "        continue\n",
    "    es_writer = estraces.ETSWriter(filename=filename, overwrite=False)\n",
    "    break\n",
    "\n",
    "target.output_len = 0\n",
    "\n",
    "\n",
    "for i in tqdm(range(N)):\n",
    "    coins = os.urandom(32)\n",
    "    trace = cw.capture_trace(scope, target, cw.bytearray(coins))\n",
    "    if trace is None:\n",
    "        continue\n",
    "    es_writer.write_samples(trace.wave)\n",
    "    es_writer.write_metadata('c', coins_to_c(coins))\n",
    "    es_writer.write_metadata('s', s)\n",
    "    \n",
    "es_writer.close()"
   ]
  },
  {
   "cell_type": "code",
   "execution_count": 12,
   "metadata": {},
   "outputs": [
    {
     "data": {
      "text/plain": [
       "'traces/kyber_basemult_montgomery_d1_t4.ets'"
      ]
     },
     "execution_count": 12,
     "metadata": {},
     "output_type": "execute_result"
    }
   ],
   "source": [
    "filename"
   ]
  },
  {
   "cell_type": "code",
   "execution_count": 13,
   "metadata": {},
   "outputs": [
    {
     "name": "stdout",
     "output_type": "stream",
     "text": [
      "Trace Header Set:\n",
      "Name.............: ETS Format THS\n",
      "Reader...........: ETS format reader of file traces/kyber_basemult_montgomery_d1_t4.ets with 100 traces.\n",
      "c................: uint16\n",
      "s................: uint16\n",
      "\n"
     ]
    }
   ],
   "source": [
    "ths = estraces.read_ths_from_ets_file(filename)\n",
    "\n",
    "print(ths)"
   ]
  },
  {
   "cell_type": "code",
   "execution_count": 14,
   "metadata": {},
   "outputs": [
    {
     "name": "stderr",
     "output_type": "stream",
     "text": [
      "/home/toluntosun/miniconda3/envs/sca/lib/python3.12/site-packages/traitlets/traitlets.py:1385: DeprecationWarning: Passing unrecognized arguments to super(Toolbar).__init__().\n",
      "NavigationToolbar2WebAgg.__init__() missing 1 required positional argument: 'canvas'\n",
      "This is deprecated in traitlets 4.2.This error will be raised in a future release of traitlets.\n",
      "  warn(\n"
     ]
    },
    {
     "data": {
      "text/plain": [
       "[<matplotlib.lines.Line2D at 0x717490bdaba0>]"
      ]
     },
     "execution_count": 14,
     "metadata": {},
     "output_type": "execute_result"
    },
    {
     "data": {
      "application/vnd.jupyter.widget-view+json": {
       "model_id": "a7c14c5824bf47acb694dacf88db4785",
       "version_major": 2,
       "version_minor": 0
      },
      "image/png": "[encoded data removed]",
      "text/html": [
       "\n",
       "            <div style=\"display: inline-block;\">\n",
       "                <div class=\"jupyter-widgets widget-label\" style=\"text-align: center;\">\n",
       "                    Figure\n",
       "                </div>\n",
       "                <img src='data:image/png;base64,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' width=640.0/>\n",
       "            </div>\n",
       "        "
      ],
      "text/plain": [
       "Canvas(toolbar=Toolbar(toolitems=[('Home', 'Reset original view', 'home', 'home'), ('Back', 'Back to previous …"
      ]
     },
     "metadata": {},
     "output_type": "display_data"
    }
   ],
   "source": [
    "from matplotlib import pyplot as plt\n",
    "\n",
    "fig, ax = plt.subplots()\n",
    "\n",
    "mean = ths.samples.mean(axis=0)\n",
    "\n",
    "ax.plot(mean)"
   ]
  },
  {
   "cell_type": "code",
   "execution_count": null,
   "metadata": {},
   "outputs": [],
   "source": []
  }
 ],
 "metadata": {
  "kernelspec": {
   "display_name": "sca",
   "language": "python",
   "name": "python3"
  },
  "language_info": {
   "codemirror_mode": {
    "name": "ipython",
    "version": 3
   },
   "file_extension": ".py",
   "mimetype": "text/x-python",
   "name": "python",
   "nbconvert_exporter": "python",
   "pygments_lexer": "ipython3",
   "version": "3.12.2"
  }
 },
 "nbformat": 4,
 "nbformat_minor": 4
}
