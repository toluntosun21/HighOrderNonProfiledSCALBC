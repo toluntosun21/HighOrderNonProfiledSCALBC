{
 "cells": [
  {
   "cell_type": "code",
   "execution_count": null,
   "metadata": {},
   "outputs": [],
   "source": [
    "SCOPETYPE = 'OPENADC'\n",
    "PLATFORM = 'CW308_SAM4S'\n",
    "REDUCTION = 'MONTGOMERY'\n",
    "PROJ_DIR = '../victim/simpleserial-kyber'\n",
    "FIRMWAREPATH = '/home/toluntosun/Desktop/CW/chipwhisperer/hardware/victims/firmware'\n",
    "NSHARES = 1"
   ]
  },
  {
   "cell_type": "code",
   "execution_count": 38,
   "metadata": {},
   "outputs": [
    {
     "name": "stdout",
     "output_type": "stream",
     "text": [
      "MONTGOMERY REDUCTION\n",
      "SS_VER set to SS_VER_1_1\n",
      "SS_VER set to SS_VER_1_1\n",
      "MONTGOMERY REDUCTION\n",
      "SS_VER set to SS_VER_1_1\n",
      "SS_VER set to SS_VER_1_1\n",
      "make[1]: '.dep' is up to date.\n",
      "MONTGOMERY REDUCTION\n",
      "SS_VER set to SS_VER_1_1\n",
      "SS_VER set to SS_VER_1_1\n",
      ".\n",
      "Welcome to another exciting ChipWhisperer target build!!\n",
      "arm-none-eabi-gcc (15:12.2.rel1-1) 12.2.1 20221205\n",
      "Copyright (C) 2022 Free Software Foundation, Inc.\n",
      "This is free software; see the source for copying conditions.  There is NO\n",
      "warranty; not even for MERCHANTABILITY or FITNESS FOR A PARTICULAR PURPOSE.\n",
      "\n",
      ".\n",
      "Compiling:\n",
      "-en     simpleserial-kyber.c ...\n",
      "-e Done!\n",
      ".\n",
      "Compiling:\n",
      "-en     src/cbd.c ...\n",
      "-e Done!\n",
      ".\n",
      "Compiling:\n",
      "-en     src/indcpa.c ...\n",
      "-e Done!\n",
      ".\n",
      "Compiling:\n",
      "-en     src/masked_indcpa.c ...\n",
      "-e Done!\n",
      ".\n",
      "Compiling:\n",
      "-en     src/masked_utils.c ...\n",
      "-e Done!\n",
      ".\n",
      "Compiling:\n",
      "-en     src/montgomery/ntt.c ...\n",
      "-e Done!\n",
      ".\n",
      "Compiling:\n",
      "-en     src/poly.c ...\n",
      "-e Done!\n",
      ".\n",
      "Compiling:\n",
      "-en     src/symmetric-fips202.c ...\n",
      "-e Done!\n",
      ".\n",
      "Compiling:\n",
      "-en     src/common/randombytes.c ...\n"
     ]
    },
    {
     "name": "stderr",
     "output_type": "stream",
     "text": [
      "src/common/randombytes.c:38:2: warning: #warning Using a non-random randombytes [-Wcpp]\n",
      "   38 | #warning Using a non-random randombytes\n",
      "      |  ^~~~~~~\n"
     ]
    },
    {
     "name": "stdout",
     "output_type": "stream",
     "text": [
      "-e Done!\n",
      ".\n",
      "Compiling:\n",
      "-en     src/common/fips202.c ...\n",
      "-e Done!\n",
      ".\n",
      "Compiling:\n",
      "-en     /home/toluntosun/Desktop/CW/chipwhisperer/hardware/victims/firmware/simpleserial/simpleserial.c ...\n",
      "-e Done!\n",
      ".\n",
      "Compiling:\n",
      "-en     /home/toluntosun/Desktop/CW/chipwhisperer/hardware/victims/firmware/hal/sam4s/startup_sam4s.c ...\n",
      "-e Done!\n",
      ".\n",
      "Compiling:\n",
      "-en     /home/toluntosun/Desktop/CW/chipwhisperer/hardware/victims/firmware/hal/sam4s/sam4s_hal.c ...\n",
      "-e Done!\n",
      ".\n",
      "Compiling:\n",
      "-en     /home/toluntosun/Desktop/CW/chipwhisperer/hardware/victims/firmware/hal/sam4s/uart.c ...\n",
      "-e Done!\n",
      ".\n",
      "Compiling:\n",
      "-en     /home/toluntosun/Desktop/CW/chipwhisperer/hardware/victims/firmware/hal/sam4s/pio.c ...\n",
      "-e Done!\n",
      ".\n",
      "Compiling:\n",
      "-en     /home/toluntosun/Desktop/CW/chipwhisperer/hardware/victims/firmware/hal/sam4s/system_sam4s.c ...\n",
      "-e Done!\n",
      ".\n",
      "Compiling:\n",
      "-en     /home/toluntosun/Desktop/CW/chipwhisperer/hardware/victims/firmware/hal/sam4s/sysclk.c ...\n",
      "-e Done!\n",
      ".\n",
      "Compiling:\n",
      "-en     /home/toluntosun/Desktop/CW/chipwhisperer/hardware/victims/firmware/hal/sam4s/pmc.c ...\n",
      "-e Done!\n",
      ".\n",
      "Assembling: src/montgomery/fastbasemul.S\n",
      "arm-none-eabi-gcc -c -mcpu=cortex-m4 -I. -x assembler-with-cpp -mthumb -mfloat-abi=soft -DF_CPU=7372800 -Wa,-gstabs,-adhlns=objdir-CW308_SAM4S/fastbasemul.lst -Isrc -Isrc/common -Isrc/montgomery -I/home/toluntosun/Desktop/CW/chipwhisperer/hardware/victims/firmware/simpleserial/ -I/home/toluntosun/Desktop/CW/chipwhisperer/hardware/victims/firmware/hal -I/home/toluntosun/Desktop/CW/chipwhisperer/hardware/victims/firmware/hal/sam4s -I/home/toluntosun/Desktop/CW/chipwhisperer/hardware/victims/firmware/hal/sam4s/inc -I/home/toluntosun/Desktop/CW/chipwhisperer/hardware/victims/firmware/simpleserial/ -I/home/toluntosun/Desktop/CW/chipwhisperer/hardware/victims/firmware/crypto/ src/montgomery/fastbasemul.S -o objdir-CW308_SAM4S/fastbasemul.o\n",
      ".\n",
      "Assembling: src/montgomery/fastinvntt.S\n",
      "arm-none-eabi-gcc -c -mcpu=cortex-m4 -I. -x assembler-with-cpp -mthumb -mfloat-abi=soft -DF_CPU=7372800 -Wa,-gstabs,-adhlns=objdir-CW308_SAM4S/fastinvntt.lst -Isrc -Isrc/common -Isrc/montgomery -I/home/toluntosun/Desktop/CW/chipwhisperer/hardware/victims/firmware/simpleserial/ -I/home/toluntosun/Desktop/CW/chipwhisperer/hardware/victims/firmware/hal -I/home/toluntosun/Desktop/CW/chipwhisperer/hardware/victims/firmware/hal/sam4s -I/home/toluntosun/Desktop/CW/chipwhisperer/hardware/victims/firmware/hal/sam4s/inc -I/home/toluntosun/Desktop/CW/chipwhisperer/hardware/victims/firmware/simpleserial/ -I/home/toluntosun/Desktop/CW/chipwhisperer/hardware/victims/firmware/crypto/ src/montgomery/fastinvntt.S -o objdir-CW308_SAM4S/fastinvntt.o\n",
      ".\n",
      "Assembling: src/montgomery/fastntt.S\n",
      "arm-none-eabi-gcc -c -mcpu=cortex-m4 -I. -x assembler-with-cpp -mthumb -mfloat-abi=soft -DF_CPU=7372800 -Wa,-gstabs,-adhlns=objdir-CW308_SAM4S/fastntt.lst -Isrc -Isrc/common -Isrc/montgomery -I/home/toluntosun/Desktop/CW/chipwhisperer/hardware/victims/firmware/simpleserial/ -I/home/toluntosun/Desktop/CW/chipwhisperer/hardware/victims/firmware/hal -I/home/toluntosun/Desktop/CW/chipwhisperer/hardware/victims/firmware/hal/sam4s -I/home/toluntosun/Desktop/CW/chipwhisperer/hardware/victims/firmware/hal/sam4s/inc -I/home/toluntosun/Desktop/CW/chipwhisperer/hardware/victims/firmware/simpleserial/ -I/home/toluntosun/Desktop/CW/chipwhisperer/hardware/victims/firmware/crypto/ src/montgomery/fastntt.S -o objdir-CW308_SAM4S/fastntt.o\n",
      ".\n",
      "Assembling: src/montgomery/reduce.S\n",
      "arm-none-eabi-gcc -c -mcpu=cortex-m4 -I. -x assembler-with-cpp -mthumb -mfloat-abi=soft -DF_CPU=7372800 -Wa,-gstabs,-adhlns=objdir-CW308_SAM4S/reduce.lst -Isrc -Isrc/common -Isrc/montgomery -I/home/toluntosun/Desktop/CW/chipwhisperer/hardware/victims/firmware/simpleserial/ -I/home/toluntosun/Desktop/CW/chipwhisperer/hardware/victims/firmware/hal -I/home/toluntosun/Desktop/CW/chipwhisperer/hardware/victims/firmware/hal/sam4s -I/home/toluntosun/Desktop/CW/chipwhisperer/hardware/victims/firmware/hal/sam4s/inc -I/home/toluntosun/Desktop/CW/chipwhisperer/hardware/victims/firmware/simpleserial/ -I/home/toluntosun/Desktop/CW/chipwhisperer/hardware/victims/firmware/crypto/ src/montgomery/reduce.S -o objdir-CW308_SAM4S/reduce.o\n",
      ".\n",
      "Assembling: src/common/keccakf1600.S\n",
      "arm-none-eabi-gcc -c -mcpu=cortex-m4 -I. -x assembler-with-cpp -mthumb -mfloat-abi=soft -DF_CPU=7372800 -Wa,-gstabs,-adhlns=objdir-CW308_SAM4S/keccakf1600.lst -Isrc -Isrc/common -Isrc/montgomery -I/home/toluntosun/Desktop/CW/chipwhisperer/hardware/victims/firmware/simpleserial/ -I/home/toluntosun/Desktop/CW/chipwhisperer/hardware/victims/firmware/hal -I/home/toluntosun/Desktop/CW/chipwhisperer/hardware/victims/firmware/hal/sam4s -I/home/toluntosun/Desktop/CW/chipwhisperer/hardware/victims/firmware/hal/sam4s/inc -I/home/toluntosun/Desktop/CW/chipwhisperer/hardware/victims/firmware/simpleserial/ -I/home/toluntosun/Desktop/CW/chipwhisperer/hardware/victims/firmware/crypto/ src/common/keccakf1600.S -o objdir-CW308_SAM4S/keccakf1600.o\n",
      ".\n",
      "LINKING:\n",
      "-en     simpleserial-kyber-CW308_SAM4S.elf ...\n",
      "-e Done!\n",
      ".\n",
      "Creating load file for Flash: simpleserial-kyber-CW308_SAM4S.hex\n",
      "arm-none-eabi-objcopy -O ihex -R .eeprom -R .fuse -R .lock -R .signature simpleserial-kyber-CW308_SAM4S.elf simpleserial-kyber-CW308_SAM4S.hex\n",
      ".\n",
      "Creating load file for Flash: simpleserial-kyber-CW308_SAM4S.bin\n",
      "arm-none-eabi-objcopy -O binary -R .eeprom -R .fuse -R .lock -R .signature simpleserial-kyber-CW308_SAM4S.elf simpleserial-kyber-CW308_SAM4S.bin\n",
      ".\n",
      "Creating load file for EEPROM: simpleserial-kyber-CW308_SAM4S.eep\n",
      "arm-none-eabi-objcopy -j .eeprom --set-section-flags=.eeprom=\"alloc,load\" \\\n",
      "--change-section-lma .eeprom=0 --no-change-warnings -O ihex simpleserial-kyber-CW308_SAM4S.elf simpleserial-kyber-CW308_SAM4S.eep || exit 0\n",
      ".\n",
      "Creating Extended Listing: simpleserial-kyber-CW308_SAM4S.lss\n",
      "arm-none-eabi-objdump -h -S -z simpleserial-kyber-CW308_SAM4S.elf > simpleserial-kyber-CW308_SAM4S.lss\n",
      ".\n",
      "Creating Symbol Table: simpleserial-kyber-CW308_SAM4S.sym\n",
      "arm-none-eabi-nm -n simpleserial-kyber-CW308_SAM4S.elf > simpleserial-kyber-CW308_SAM4S.sym\n",
      "MONTGOMERY REDUCTION\n",
      "SS_VER set to SS_VER_1_1\n",
      "SS_VER set to SS_VER_1_1\n",
      "Size after:\n",
      "   text\t   data\t    bss\t    dec\t    hex\tfilename\n",
      "  12460\t    104\t   5144\t  17708\t   452c\tsimpleserial-kyber-CW308_SAM4S.elf\n",
      "+--------------------------------------------------------\n",
      "+ Default target does full rebuild each time.\n",
      "+ Specify buildtarget == allquick == to avoid full rebuild\n",
      "+--------------------------------------------------------\n",
      "+--------------------------------------------------------\n",
      "+ Built for platform Microchip SAM4S with:\n",
      "+ CRYPTO_TARGET = NONE\n",
      "+ CRYPTO_OPTIONS = \n",
      "+--------------------------------------------------------\n"
     ]
    }
   ],
   "source": [
    "%%bash -s \"$PROJ_DIR\" \"$FIRMWAREPATH\" \"$PLATFORM\" \"$REDUCTION\" \"$NSHARES\"\n",
    "cd $1\n",
    "make FIRMWAREPATH=$2 PLATFORM=$3 REDUCTION=$4 NSHARES=$5"
   ]
  },
  {
   "cell_type": "code",
   "execution_count": 3,
   "metadata": {},
   "outputs": [
    {
     "name": "stdout",
     "output_type": "stream",
     "text": [
      "scope.gain.mode                          changed from low                       to high                     \n",
      "scope.gain.gain                          changed from 0                         to 22                       \n",
      "scope.gain.db                            changed from 15.0                      to 25.091743119266056       \n",
      "scope.adc.samples                        changed from 131124                    to 5000                     \n",
      "scope.clock.clkgen_freq                  changed from 0                         to 7370129.87012987         \n",
      "scope.clock.adc_freq                     changed from 0                         to 29480519.48051948        \n",
      "scope.clock.extclk_monitor_enabled       changed from True                      to False                    \n",
      "scope.clock.extclk_tolerance             changed from 1144409.1796875           to 13096723.705530167       \n",
      "scope.io.tio1                            changed from serial_tx                 to serial_rx                \n",
      "scope.io.tio2                            changed from serial_rx                 to serial_tx                \n",
      "scope.io.hs2                             changed from None                      to clkgen                   \n",
      "scope.io.cdc_settings                    changed from bytearray(b'\\x01\\x00\\x00\\x00') to bytearray(b'\\x00\\x00\\x00\\x00')\n",
      "scope.glitch.phase_shift_steps           changed from 0                         to 4592                     \n",
      "scope.trace.capture.trigger_source       changed from trace trigger, rule #0    to firmware trigger         \n",
      "INFO: Found ChipWhisperer😍\n"
     ]
    }
   ],
   "source": [
    "import chipwhisperer as cw\n",
    "try:\n",
    "    if not scope.connectStatus:\n",
    "        scope.con()\n",
    "except NameError:\n",
    "    scope = cw.scope()\n",
    "\n",
    "try:\n",
    "    target = cw.target(scope)\n",
    "except IOError:\n",
    "    print(\"INFO: Caught exception on reconnecting to target - attempting to reconnect to scope first.\")\n",
    "    print(\"INFO: This is a work-around when USB has died without Python knowing. Ignore errors above this line.\")\n",
    "    scope = cw.scope()\n",
    "    target = cw.target(scope)\n",
    "\n",
    "scope.default_setup()\n",
    "\n",
    "scope.adc.samples = 10000*NSHARES\n",
    "\n",
    "print(\"INFO: Found ChipWhisperer😍\")"
   ]
  },
  {
   "cell_type": "code",
   "execution_count": 39,
   "metadata": {},
   "outputs": [],
   "source": [
    "fw_path = f'{PROJ_DIR}/simpleserial-kyber-{PLATFORM}.hex'\n",
    "prog = cw.programmers.SAM4SProgrammer\n",
    "cw.program_target(scope, prog, fw_path)"
   ]
  },
  {
   "cell_type": "code",
   "execution_count": 40,
   "metadata": {},
   "outputs": [],
   "source": [
    "import kyber\n",
    "import numpy as np\n",
    "\n",
    "def coins_gen_s(coins):\n",
    "    target.simpleserial_write('k',coins)\n",
    "    sk_ = []\n",
    "    \n",
    "    for i in range(3):\n",
    "        sk_.append(target.read(258))\n",
    "    print(sk_)\n",
    "    sk_ = bytes.fromhex(sk_[0][1:257] + sk_[1][1:257] + sk_[2][1:257])\n",
    "    return kyber.decode_sk(sk_)"
   ]
  },
  {
   "cell_type": "code",
   "execution_count": 41,
   "metadata": {},
   "outputs": [],
   "source": [
    "from Crypto.Hash import SHAKE128\n",
    "\n",
    "def coins_to_c(coins):\n",
    "    \n",
    "    shake = SHAKE128.new()\n",
    "    \n",
    "    shake.update(coins)\n",
    "    return kyber.kyber768_poly_unpack_decompress_du(shake.read(320))\n"
   ]
  },
  {
   "cell_type": "code",
   "execution_count": 42,
   "metadata": {},
   "outputs": [
    {
     "name": "stdout",
     "output_type": "stream",
     "text": [
      "b'_w!\\x9a\\xfb\\xa8\\xde&\\x97\\xe4\\x08\\xfeF\\xf9a\\xc3\\xbfuQ$\\xb7\\x1cj@\\xa1\\xd3\\xfd\\xcc\\x1ds\\x1e\\xae'\n",
      "['r4D3CCE5890B2C578BC6591606AAB1BF0B21F80A21A3C34700CEC91750B2E87F49E1871BCCC3A7E40152DD9015F5035A81FF2664945B841B606BA81158614914978050327BA5781016C3719AE1801D8033500D5A83AF6C29E15BFCDA94C096A805841B0D1DAA2770983EF6741A06BBD136A753F5C64DB74B33AB7C9D9F66ADC83\\n', 'r85CA3A42B3B5BDDDE98F7F305E2E04BB3BC5C95B0C8EF79184F7D8321A62C98DAB0E9654A1FE88356DF8AF72929023D26067A69F788C9C734353C2EA2574A4664DC209ED214D1F71178D184148C571D5D6895EABC009A6521A55245208C2CA45BCF5FAAFFA390D6C519ABE53C38FF2256FD22664E616881358EA0A69549336E7\\n', 'rAA9F9A36736FE230E169280C540B495A70430C588DCA89F82A04C213BD27F177D44256C07C6DEFF4ADC9805FDD7287097122F40BC45DD9A67CD55282081944E044AE8C22D48A62522390952604F2A81ADCF51EC7205A58185B5285CDE5D3BFDCF8AB8B9C2C270128BC73C227181D120454F21A172EB0630E58A3E2E9CBA1DA42\\n']\n",
      "[ 0  1  0 -2 -1  0  1  1 -1  1  1 -1  0  0  2  0  1  0  0 -1  2  0 -1 -1\n",
      " -1  0 -1  0  0  0  0 -1  0 -2 -1  2  0 -1  1  0 -1 -1  0  2 -2  1  0 -1\n",
      " -1  1  1  1 -1  1 -1  1 -1  1  0  1 -1  0  1  1  1 -2  0  2 -2  0  0  0\n",
      "  0  0  1  0  0  1  0 -1  1  1  0 -1  1 -1 -1  0  1 -1 -1 -2  0 -1  1  0\n",
      "  1  2  1  0 -1  0  1  0 -1  0  0 -2  0  0 -1  0  0  1  0  1 -1  1  0  2\n",
      " -1  1  1  2  0  0  1  2 -1  0 -1 -1  0 -1  0  0 -1  1  0  1 -1  0 -2  0\n",
      " -1  0  1 -1 -1  1  0 -1  0 -1  1  0  0 -2  1  1  0  0 -1  0  0 -1 -1 -1\n",
      " -2 -1 -1  0 -1 -1  0 -1 -2  0  0  0  0  0 -1 -1 -1  0 -1  1  0 -1 -2  1\n",
      " -1  1  0 -1  0 -1  1  0  0  0  0 -2 -1 -1 -1  1  2  1 -1  1  1  1 -1  1\n",
      " -1  1  1  1 -1 -1  0  0  0  0  0  1  1 -1  1 -1  1  0  2 -1  0  1  0  1\n",
      " -1 -1 -1 -1 -1  2 -2 -1  1 -1  1  2 -1 -1  0 -1]\n"
     ]
    }
   ],
   "source": [
    "import os\n",
    "\n",
    "coins = os.urandom(32)\n",
    "print(coins)\n",
    "\n",
    "s = coins_gen_s(coins)\n",
    "print(kyber.ntt.ntt_inv(s, central_red=True))"
   ]
  },
  {
   "cell_type": "code",
   "execution_count": 45,
   "metadata": {},
   "outputs": [
    {
     "data": {
      "text/plain": [
       "0"
      ]
     },
     "execution_count": 45,
     "metadata": {},
     "output_type": "execute_result"
    }
   ],
   "source": [
    "target.simpleserial_write('q', bytes())\n",
    "target.simpleserial_wait_ack()"
   ]
  },
  {
   "cell_type": "code",
   "execution_count": 46,
   "metadata": {},
   "outputs": [
    {
     "data": {
      "application/vnd.jupyter.widget-view+json": {
       "model_id": "7ef684e0f95c45f48cd43ca905c335cb",
       "version_major": 2,
       "version_minor": 0
      },
      "text/plain": [
       "  0%|          | 0/1000 [00:00<?, ?it/s]"
      ]
     },
     "metadata": {},
     "output_type": "display_data"
    },
    {
     "name": "stderr",
     "output_type": "stream",
     "text": [
      "ERROR:estraces.formats.ets_writer:Exception raised during init of h5f file: [Errno 2] Unable to synchronously open file (unable to open file: name = 'traces/kyber_basemult_montgomery_d1_t0.ets', errno = 2, error message = 'No such file or directory', flags = 0, o_flags = 0).\n"
     ]
    }
   ],
   "source": [
    "#Capture Traces\n",
    "from tqdm.auto import tqdm\n",
    "import estraces\n",
    "import numpy as np\n",
    "import time\n",
    "import os\n",
    "\n",
    "N = 1000\n",
    "\n",
    "for i in range(1000):\n",
    "    filename = f'traces/kyber_basemult_{REDUCTION.lower()}_d{NSHARES}_t{i}.ets'\n",
    "    if os.path.isfile(filename):\n",
    "        continue\n",
    "    es_writer = estraces.ETSWriter(filename=filename, overwrite=False)\n",
    "    break\n",
    "\n",
    "target.output_len = 0\n",
    "\n",
    "\n",
    "for i in tqdm(range(N)):\n",
    "    coins = os.urandom(32)\n",
    "    trace = cw.capture_trace(scope, target, cw.bytearray(coins))\n",
    "    if trace is None:\n",
    "        continue\n",
    "    es_writer.write_samples(trace.wave)\n",
    "    es_writer.write_metadata('c', coins_to_c(coins))\n",
    "    es_writer.write_metadata('s', s)\n",
    "    \n",
    "es_writer.close()"
   ]
  },
  {
   "cell_type": "code",
   "execution_count": 49,
   "metadata": {},
   "outputs": [
    {
     "name": "stdout",
     "output_type": "stream",
     "text": [
      "Trace Header Set:\n",
      "Name.............: ETS Format THS\n",
      "Reader...........: ETS format reader of file traces/kyber_basemult_montgomery_d1_t0.ets with 1000 traces.\n",
      "c................: uint16\n",
      "s................: uint16\n",
      "\n"
     ]
    }
   ],
   "source": [
    "import estraces\n",
    "\n",
    "ths = estraces.read_ths_from_ets_file(filename)\n",
    "\n",
    "print(ths)"
   ]
  },
  {
   "cell_type": "code",
   "execution_count": 50,
   "metadata": {},
   "outputs": [
    {
     "data": {
      "text/plain": [
       "[<matplotlib.lines.Line2D at 0x79216de7adb0>]"
      ]
     },
     "execution_count": 50,
     "metadata": {},
     "output_type": "execute_result"
    },
    {
     "data": {
      "image/png": "[encoded data removed]",
      "text/plain": [
       "<Figure size 640x480 with 1 Axes>"
      ]
     },
     "metadata": {},
     "output_type": "display_data"
    }
   ],
   "source": [
    "from matplotlib import pyplot as plt\n",
    "\n",
    "fig, ax = plt.subplots()\n",
    "\n",
    "mean = ths.samples.mean(axis=0)\n",
    "\n",
    "ax.plot(mean)"
   ]
  },
  {
   "cell_type": "code",
   "execution_count": null,
   "metadata": {},
   "outputs": [],
   "source": []
  }
 ],
 "metadata": {
  "kernelspec": {
   "display_name": "sca",
   "language": "python",
   "name": "python3"
  },
  "language_info": {
   "codemirror_mode": {
    "name": "ipython",
    "version": 3
   },
   "file_extension": ".py",
   "mimetype": "text/x-python",
   "name": "python",
   "nbconvert_exporter": "python",
   "pygments_lexer": "ipython3",
   "version": "3.12.2"
  }
 },
 "nbformat": 4,
 "nbformat_minor": 4
}
