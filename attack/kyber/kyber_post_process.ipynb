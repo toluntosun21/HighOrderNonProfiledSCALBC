{
 "cells": [
  {
   "cell_type": "code",
   "execution_count": 1,
   "id": "2cf08337-2c9a-4031-9359-8a17f56de5b8",
   "metadata": {},
   "outputs": [],
   "source": [
    "REDUCTION = 'MONTGOMERY' ##### 'MONTGOMERY' or 'PLANTARD'\n",
    "THS_ID = 0\n",
    "NSHARES = 1                ##### number of shares in masking scheme (1 for unprotected)\n",
    "TARGET = 'lowhigh'         ##### 'low' or 'high' or 'lowhigh'\n",
    "MODEL_STR = 'packed'          #### 'packed', 'signed_hw', 'abs', 'opf'"
   ]
  },
  {
   "cell_type": "code",
   "execution_count": 2,
   "id": "156f8a0a-9169-4b59-b3de-8288b1550f20",
   "metadata": {},
   "outputs": [],
   "source": [
    "N_step  = 1             ##### Convergence Step\n",
    "N_start = 16            ##### Starting number of traces\n",
    "N_stop  = 40           ##### Ending number of traces (inclusive)"
   ]
  },
  {
   "cell_type": "code",
   "execution_count": 3,
   "id": "54cc78dd",
   "metadata": {},
   "outputs": [],
   "source": [
    "import sys\n",
    "sys.path.append('../../../../scaredcu/scaredcu')"
   ]
  },
  {
   "cell_type": "code",
   "execution_count": 4,
   "id": "0abb8cb3-5c2a-478d-95cd-c5e067e16734",
   "metadata": {},
   "outputs": [
    {
     "name": "stderr",
     "output_type": "stream",
     "text": [
      "/home/userfoobar/toluntosun/.local/lib/python3.10/site-packages/IPython/core/pylabtools.py:77: DeprecationWarning: backends is deprecated since IPython 8.24, backends are managed in matplotlib and can be externally registered.\n",
      "  warnings.warn(\n",
      "/home/userfoobar/toluntosun/.local/lib/python3.10/site-packages/IPython/core/pylabtools.py:77: DeprecationWarning: backend2gui is deprecated since IPython 8.24, backends are managed in matplotlib and can be externally registered.\n",
      "  warnings.warn(\n"
     ]
    }
   ],
   "source": [
    "import scaredcu\n",
    "import numpy as np\n",
    "import cupy as cp\n",
    "from tqdm.auto import tqdm\n",
    "from matplotlib import pyplot as plt\n",
    "%matplotlib widget\n",
    "import util\n",
    "import math\n",
    "from itertools import combinations"
   ]
  },
  {
   "cell_type": "code",
   "execution_count": 5,
   "id": "fb90b4e9",
   "metadata": {},
   "outputs": [],
   "source": [
    "cp.cuda.runtime.setDevice(1)"
   ]
  },
  {
   "cell_type": "code",
   "execution_count": 6,
   "id": "2c2e8171",
   "metadata": {},
   "outputs": [],
   "source": [
    "scaredcu.models._HW_LUT = cp.array([0, 1, 1, 2, 1, 2, 2, 3, 1, 2, 2, 3, 2, 3, 3, 4, 1, 2, 2, 3, 2, 3, 3, 4, 2, 3, 3, 4, 3, 4, 4, 5,\n",
    "                     1, 2, 2, 3, 2, 3, 3, 4, 2, 3, 3, 4, 3, 4, 4, 5, 2, 3, 3, 4, 3, 4, 4, 5, 3, 4, 4, 5, 4, 5, 5, 6,\n",
    "                     1, 2, 2, 3, 2, 3, 3, 4, 2, 3, 3, 4, 3, 4, 4, 5, 2, 3, 3, 4, 3, 4, 4, 5, 3, 4, 4, 5, 4, 5, 5, 6,\n",
    "                     2, 3, 3, 4, 3, 4, 4, 5, 3, 4, 4, 5, 4, 5, 5, 6, 3, 4, 4, 5, 4, 5, 5, 6, 4, 5, 5, 6, 5, 6, 6, 7,\n",
    "                     1, 2, 2, 3, 2, 3, 3, 4, 2, 3, 3, 4, 3, 4, 4, 5, 2, 3, 3, 4, 3, 4, 4, 5, 3, 4, 4, 5, 4, 5, 5, 6,\n",
    "                     2, 3, 3, 4, 3, 4, 4, 5, 3, 4, 4, 5, 4, 5, 5, 6, 3, 4, 4, 5, 4, 5, 5, 6, 4, 5, 5, 6, 5, 6, 6, 7,\n",
    "                     2, 3, 3, 4, 3, 4, 4, 5, 3, 4, 4, 5, 4, 5, 5, 6, 3, 4, 4, 5, 4, 5, 5, 6, 4, 5, 5, 6, 5, 6, 6, 7,\n",
    "                     3, 4, 4, 5, 4, 5, 5, 6, 4, 5, 5, 6, 5, 6, 6, 7, 4, 5, 5, 6, 5, 6, 6, 7, 5, 6, 6, 7, 6, 7, 7, 8], dtype='uint32')"
   ]
  },
  {
   "cell_type": "code",
   "execution_count": 7,
   "id": "d0ce3ee9",
   "metadata": {},
   "outputs": [],
   "source": [
    "ths = scaredcu.estraces.ets_format.read_ths_from_ets_file(f'traces/kyber_basemult_{REDUCTION.lower()}_d{NSHARES}_t{THS_ID}.ets')"
   ]
  },
  {
   "cell_type": "code",
   "execution_count": 8,
   "id": "45146416-367a-4bf2-b975-139fd5dcffc4",
   "metadata": {},
   "outputs": [],
   "source": [
    "import warnings\n",
    "warnings.filterwarnings(\"ignore\")"
   ]
  },
  {
   "cell_type": "code",
   "execution_count": 9,
   "id": "af4f013a-73e7-4b76-8578-c6825a5b5cdf",
   "metadata": {},
   "outputs": [],
   "source": [
    "def filename():\n",
    "    return f'cpa_results/basemult_{REDUCTION.lower()}_d{NSHARES}_t{str(THS_ID)}_{MODEL_STR}_{TARGET}'"
   ]
  },
  {
   "cell_type": "code",
   "execution_count": 10,
   "id": "dab6b51d",
   "metadata": {},
   "outputs": [],
   "source": [
    "n = 128\n",
    "q = 3329"
   ]
  },
  {
   "cell_type": "code",
   "execution_count": 11,
   "id": "e9e09323",
   "metadata": {},
   "outputs": [],
   "source": [
    "def poi_filename():\n",
    "    return f'cpa_results_poi/basemult_{REDUCTION.lower()}_d{NSHARES}_t{str(THS_ID)}_{MODEL_STR}_{TARGET}'\n",
    "\n",
    "results_max_even = cp.load(f'{poi_filename()}/PoI_even.npy')\n",
    "results_max_odd = cp.load(f'{poi_filename()}/PoI_odd.npy')\n"
   ]
  },
  {
   "cell_type": "code",
   "execution_count": 12,
   "id": "5cbfc8b3",
   "metadata": {},
   "outputs": [],
   "source": [
    "def make_frame_share(key_index, share, offset=0, length=None):\n",
    "    if REDUCTION == 'MONTGOMERY':\n",
    "        R = [93, 9189]\n",
    "        K = 140\n",
    "\n",
    "    elif REDUCTION == 'PLANTARD':\n",
    "        R = [128, 9740]\n",
    "        K = 148\n",
    "    r = range(R[share] + K*(key_index//2), R[share] + K*(key_index//2) + K)\n",
    "    if length is None:\n",
    "        return r[offset:]\n",
    "    else:\n",
    "        return r[offset:offset+length]\n",
    "\n",
    "def make_frame(key_index, offset=0, length=None):\n",
    "    ranges = [make_frame_share(key_index, share, offset, length) for share in range(NSHARES)]\n",
    "    return sorted(set().union(*ranges))\n",
    "\n",
    "def get_relative_poi(Ni, key_index):\n",
    "    if key_index % 2 == 0:\n",
    "        if REDUCTION == 'MONTGOMERY' and TARGET == 'high':\n",
    "            # For the trace set with montgomery reduction, we observe three peaks for the even key index. upon observation, we take the second maximum peak (even_poi = 78).\n",
    "            # We noticed that, the first maximum peak (even_poi = 81) corresponds to TARGET = 'low'.\n",
    "            # In other words, instead of (s0,s1), (s1*twiddle,s0) shows peak.\n",
    "            # This observation can be made by comparing the best scoring predictions for these PoIs.\n",
    "            # One can also simply repeat the attack for each outstanding peak.\n",
    "            # The ranks of these PoIs can change depending on the data set so the analyst may need to tune it manually at this point\n",
    "            temp = results_max_even[(Ni//N_step) - 1].copy()\n",
    "            temp[80:84] = temp.min()\n",
    "            return int(temp.argmax().get())\n",
    "        else:\n",
    "            return int(results_max_even[(Ni//N_step) - 1].argmax().get())\n",
    "    else:\n",
    "        return int(results_max_odd[(Ni//N_step) - 1].argmax().get())\n",
    "    \n",
    "def get_poi(Ni, key_index):\n",
    "    relative_poi = get_relative_poi(Ni, key_index)\n",
    "    return make_frame(key_index, offset=relative_poi, length=1)"
   ]
  },
  {
   "cell_type": "code",
   "execution_count": null,
   "id": "1a5773a8",
   "metadata": {},
   "outputs": [],
   "source": [
    "if REDUCTION == 'MONTGOMERY':\n",
    "    CORR_NEG = True\n",
    "\n",
    "elif REDUCTION == 'PLANTARD':\n",
    "    CORR_NEG = False"
   ]
  },
  {
   "cell_type": "code",
   "execution_count": 14,
   "id": "2dd66f29",
   "metadata": {},
   "outputs": [],
   "source": [
    "if REDUCTION == 'MONTGOMERY':\n",
    "    basemul_imp = scaredcu.lbc.kyber.base.BaseMulMonty()\n",
    "elif REDUCTION == 'PLANTARD':\n",
    "    basemul_imp = scaredcu.lbc.kyber.base.BaseMulPlantard()\n",
    "\n",
    "\n",
    "# model and selection for the sign\n",
    "def make_basemul_reverse(key_index, s_):\n",
    "    if TARGET == 'high':\n",
    "        low = False\n",
    "        high = True\n",
    "    elif TARGET == 'low':\n",
    "        low = True\n",
    "        high = False\n",
    "    elif TARGET == 'lowhigh':\n",
    "        low = True\n",
    "        high = True\n",
    "    @scaredcu.reverse_selection_function\n",
    "    def basemul_reverse(c):\n",
    "        return basemul_imp.basemul(c[:, key_index*2 : key_index*2 + 2], s_[cp.newaxis, :], low=low, high=high, frame=[key_index])\n",
    "    return basemul_reverse\n",
    "\n",
    "sign_model = scaredcu.models.ShiftRight(15)\n"
   ]
  },
  {
   "cell_type": "code",
   "execution_count": 24,
   "id": "596e7b2c",
   "metadata": {},
   "outputs": [],
   "source": [
    "def get_sign(ths, key_index, low, high, ):\n",
    "    reduction = scaredcu.lbc.modop.Reduction_Q2Q2(3329, o_dtype='int16')\n",
    "    s_ = cp.array([low, high], dtype='int16')\n",
    "    s_ = reduction.reduce(s_)\n",
    "    cpa_reverse = scaredcu.CPAReverse(selection_function=make_basemul_reverse(key_index, s_), model=sign_model)\n",
    "    mean = ths.samples.mean(axis=0)\n",
    "    frame_poi = get_poi(len(ths), key_index)\n",
    "    if NSHARES > 1:\n",
    "        frames = [range(j, (j+1)) for j in range(NSHARES)]\n",
    "        pp = [scaredcu.preprocesses.high_order.CenteredProductHigh(frames, mean=mean[frame_poi])]\n",
    "    else:\n",
    "        pp = []            \n",
    "                \n",
    "    container = scaredcu.Container(ths, preprocesses=pp, frame=frame_poi)\n",
    "    \n",
    "    cpa_reverse.run(container)\n",
    "    if CORR_NEG ^ (NSHARES % 2):\n",
    "        return cpa_reverse.results[0,0] < 0\n",
    "    else:\n",
    "        return cpa_reverse.results[0,0] > 0"
   ]
  },
  {
   "cell_type": "code",
   "execution_count": 16,
   "id": "ec90b4bc-cfce-458e-bdb7-1a0bc6e21e14",
   "metadata": {},
   "outputs": [],
   "source": [
    "def succ_ratio(dir_, key, n, q, N_start, N_step, N_stop, accept_neg=True, clear_nan=True, key_prefix='ki', get_sign_func=None, ths=None):\n",
    "    succs = []\n",
    "\n",
    "    for key_index in tqdm(range(n)):\n",
    "        for i in tqdm(range(N_start, N_stop + N_step, N_step)):\n",
    "            scores_sorted = np.load(f'{dir_}/{key_prefix}_{key_index}_{i}_k.npy')\n",
    "            guess_low, guess_high = util.unpack_guess(scores_sorted[0], q)\n",
    "            if accept_neg:\n",
    "                if (guess_low == key[key_index*2] and  guess_high == key[key_index*2 + 1]) or \\\n",
    "                    ((q - guess_low) == key[key_index*2] and  (q - guess_high) == key[key_index*2 + 1]):\n",
    "                    succs.append(i)\n",
    "                    break\n",
    "            else:\n",
    "                s = 1 if get_sign_func(ths[:i], key_index, guess_low, guess_high) else -1\n",
    "                guess_low, guess_high = s*guess_low % q, s*guess_high % q\n",
    "                if (guess_low == key[key_index*2] and  guess_high == key[key_index*2 + 1]):\n",
    "                    succs.append(i)\n",
    "                    break\n",
    "\n",
    "    succs_np = np.array(succs)\n",
    "    succ_ratios = []\n",
    "\n",
    "    for i in tqdm(range(N_start, N_stop + N_step, N_step)):\n",
    "        succ_ratios.append((succs_np <= i).sum() / n)\n",
    "\n",
    "    return succ_ratios"
   ]
  },
  {
   "cell_type": "code",
   "execution_count": 25,
   "id": "fce5de82-19dc-449c-8ad7-d140b693cb90",
   "metadata": {},
   "outputs": [
    {
     "data": {
      "application/vnd.jupyter.widget-view+json": {
       "model_id": "bda730e6bce44b55a8293784a3c0f800",
       "version_major": 2,
       "version_minor": 0
      },
      "text/plain": [
       "  0%|          | 0/128 [00:00<?, ?it/s]"
      ]
     },
     "metadata": {},
     "output_type": "display_data"
    },
    {
     "data": {
      "application/vnd.jupyter.widget-view+json": {
       "model_id": "d6148c06c58644f3b8aee27397d0a70a",
       "version_major": 2,
       "version_minor": 0
      },
      "text/plain": [
       "  0%|          | 0/25 [00:00<?, ?it/s]"
      ]
     },
     "metadata": {},
     "output_type": "display_data"
    },
    {
     "data": {
      "application/vnd.jupyter.widget-view+json": {
       "model_id": "58773083c18d48bdb7091c489ad0450f",
       "version_major": 2,
       "version_minor": 0
      },
      "text/plain": [
       "  0%|          | 0/25 [00:00<?, ?it/s]"
      ]
     },
     "metadata": {},
     "output_type": "display_data"
    },
    {
     "data": {
      "application/vnd.jupyter.widget-view+json": {
       "model_id": "19476163daf34a1398252422a3b211e9",
       "version_major": 2,
       "version_minor": 0
      },
      "text/plain": [
       "  0%|          | 0/25 [00:00<?, ?it/s]"
      ]
     },
     "metadata": {},
     "output_type": "display_data"
    },
    {
     "data": {
      "application/vnd.jupyter.widget-view+json": {
       "model_id": "57c9d9bff16740fbaf61732196a852f9",
       "version_major": 2,
       "version_minor": 0
      },
      "text/plain": [
       "  0%|          | 0/25 [00:00<?, ?it/s]"
      ]
     },
     "metadata": {},
     "output_type": "display_data"
    },
    {
     "data": {
      "application/vnd.jupyter.widget-view+json": {
       "model_id": "893d30f597244019ab1f85e4d07b8f3e",
       "version_major": 2,
       "version_minor": 0
      },
      "text/plain": [
       "  0%|          | 0/25 [00:00<?, ?it/s]"
      ]
     },
     "metadata": {},
     "output_type": "display_data"
    },
    {
     "data": {
      "application/vnd.jupyter.widget-view+json": {
       "model_id": "dae52fb4915549c9b6776798daeaeeb1",
       "version_major": 2,
       "version_minor": 0
      },
      "text/plain": [
       "  0%|          | 0/25 [00:00<?, ?it/s]"
      ]
     },
     "metadata": {},
     "output_type": "display_data"
    },
    {
     "data": {
      "application/vnd.jupyter.widget-view+json": {
       "model_id": "80eafc6e78eb49ffb8f5f104b565913e",
       "version_major": 2,
       "version_minor": 0
      },
      "text/plain": [
       "  0%|          | 0/25 [00:00<?, ?it/s]"
      ]
     },
     "metadata": {},
     "output_type": "display_data"
    },
    {
     "data": {
      "application/vnd.jupyter.widget-view+json": {
       "model_id": "46674ed710584a008efc576f5f42c014",
       "version_major": 2,
       "version_minor": 0
      },
      "text/plain": [
       "  0%|          | 0/25 [00:00<?, ?it/s]"
      ]
     },
     "metadata": {},
     "output_type": "display_data"
    },
    {
     "data": {
      "application/vnd.jupyter.widget-view+json": {
       "model_id": "cfa2c401ef4e448d82a37544012855e1",
       "version_major": 2,
       "version_minor": 0
      },
      "text/plain": [
       "  0%|          | 0/25 [00:00<?, ?it/s]"
      ]
     },
     "metadata": {},
     "output_type": "display_data"
    },
    {
     "data": {
      "application/vnd.jupyter.widget-view+json": {
       "model_id": "a048fd9b880742599c0af64c91826f52",
       "version_major": 2,
       "version_minor": 0
      },
      "text/plain": [
       "  0%|          | 0/25 [00:00<?, ?it/s]"
      ]
     },
     "metadata": {},
     "output_type": "display_data"
    },
    {
     "data": {
      "application/vnd.jupyter.widget-view+json": {
       "model_id": "11e4ad5b1536415ba80f828de8fdbbc3",
       "version_major": 2,
       "version_minor": 0
      },
      "text/plain": [
       "  0%|          | 0/25 [00:00<?, ?it/s]"
      ]
     },
     "metadata": {},
     "output_type": "display_data"
    },
    {
     "data": {
      "application/vnd.jupyter.widget-view+json": {
       "model_id": "1328d56b082d471693aee3fec9f3eb56",
       "version_major": 2,
       "version_minor": 0
      },
      "text/plain": [
       "  0%|          | 0/25 [00:00<?, ?it/s]"
      ]
     },
     "metadata": {},
     "output_type": "display_data"
    },
    {
     "data": {
      "application/vnd.jupyter.widget-view+json": {
       "model_id": "b8bed872a1db46b79ac15d1b271f8d42",
       "version_major": 2,
       "version_minor": 0
      },
      "text/plain": [
       "  0%|          | 0/25 [00:00<?, ?it/s]"
      ]
     },
     "metadata": {},
     "output_type": "display_data"
    },
    {
     "data": {
      "application/vnd.jupyter.widget-view+json": {
       "model_id": "7400f2f8cf52421b857330a470e0f3f8",
       "version_major": 2,
       "version_minor": 0
      },
      "text/plain": [
       "  0%|          | 0/25 [00:00<?, ?it/s]"
      ]
     },
     "metadata": {},
     "output_type": "display_data"
    },
    {
     "data": {
      "application/vnd.jupyter.widget-view+json": {
       "model_id": "56bf90e1abbb4e0595cbd04a5347839e",
       "version_major": 2,
       "version_minor": 0
      },
      "text/plain": [
       "  0%|          | 0/25 [00:00<?, ?it/s]"
      ]
     },
     "metadata": {},
     "output_type": "display_data"
    },
    {
     "data": {
      "application/vnd.jupyter.widget-view+json": {
       "model_id": "f7e6e04deb6a420588bdf05e0c9706aa",
       "version_major": 2,
       "version_minor": 0
      },
      "text/plain": [
       "  0%|          | 0/25 [00:00<?, ?it/s]"
      ]
     },
     "metadata": {},
     "output_type": "display_data"
    },
    {
     "data": {
      "application/vnd.jupyter.widget-view+json": {
       "model_id": "31e8da6c3c8447dab21363cd25f35668",
       "version_major": 2,
       "version_minor": 0
      },
      "text/plain": [
       "  0%|          | 0/25 [00:00<?, ?it/s]"
      ]
     },
     "metadata": {},
     "output_type": "display_data"
    },
    {
     "data": {
      "application/vnd.jupyter.widget-view+json": {
       "model_id": "3a6df2a7cc154696b91eaea2036292b0",
       "version_major": 2,
       "version_minor": 0
      },
      "text/plain": [
       "  0%|          | 0/25 [00:00<?, ?it/s]"
      ]
     },
     "metadata": {},
     "output_type": "display_data"
    },
    {
     "data": {
      "application/vnd.jupyter.widget-view+json": {
       "model_id": "82893cc4c7da46578f644a85a20a3e72",
       "version_major": 2,
       "version_minor": 0
      },
      "text/plain": [
       "  0%|          | 0/25 [00:00<?, ?it/s]"
      ]
     },
     "metadata": {},
     "output_type": "display_data"
    },
    {
     "data": {
      "application/vnd.jupyter.widget-view+json": {
       "model_id": "d9c0cb1d8a044556a5ff129131b3e190",
       "version_major": 2,
       "version_minor": 0
      },
      "text/plain": [
       "  0%|          | 0/25 [00:00<?, ?it/s]"
      ]
     },
     "metadata": {},
     "output_type": "display_data"
    },
    {
     "data": {
      "application/vnd.jupyter.widget-view+json": {
       "model_id": "2605b073a1034786a6841b7d51cff369",
       "version_major": 2,
       "version_minor": 0
      },
      "text/plain": [
       "  0%|          | 0/25 [00:00<?, ?it/s]"
      ]
     },
     "metadata": {},
     "output_type": "display_data"
    },
    {
     "data": {
      "application/vnd.jupyter.widget-view+json": {
       "model_id": "a786e0d0cb064aa290393aa34b668cda",
       "version_major": 2,
       "version_minor": 0
      },
      "text/plain": [
       "  0%|          | 0/25 [00:00<?, ?it/s]"
      ]
     },
     "metadata": {},
     "output_type": "display_data"
    },
    {
     "data": {
      "application/vnd.jupyter.widget-view+json": {
       "model_id": "ffed5bfbe3e84832ac553dde6c61c5c5",
       "version_major": 2,
       "version_minor": 0
      },
      "text/plain": [
       "  0%|          | 0/25 [00:00<?, ?it/s]"
      ]
     },
     "metadata": {},
     "output_type": "display_data"
    },
    {
     "data": {
      "application/vnd.jupyter.widget-view+json": {
       "model_id": "59aa78ccb4fd42879ae36a18a05aab56",
       "version_major": 2,
       "version_minor": 0
      },
      "text/plain": [
       "  0%|          | 0/25 [00:00<?, ?it/s]"
      ]
     },
     "metadata": {},
     "output_type": "display_data"
    },
    {
     "data": {
      "application/vnd.jupyter.widget-view+json": {
       "model_id": "4420ebbfd9f245b3933f69ac7cec5110",
       "version_major": 2,
       "version_minor": 0
      },
      "text/plain": [
       "  0%|          | 0/25 [00:00<?, ?it/s]"
      ]
     },
     "metadata": {},
     "output_type": "display_data"
    },
    {
     "data": {
      "application/vnd.jupyter.widget-view+json": {
       "model_id": "606e33b7326343baa83d37137393b801",
       "version_major": 2,
       "version_minor": 0
      },
      "text/plain": [
       "  0%|          | 0/25 [00:00<?, ?it/s]"
      ]
     },
     "metadata": {},
     "output_type": "display_data"
    },
    {
     "data": {
      "application/vnd.jupyter.widget-view+json": {
       "model_id": "97d6763df63645f880bbe1abbd0a8766",
       "version_major": 2,
       "version_minor": 0
      },
      "text/plain": [
       "  0%|          | 0/25 [00:00<?, ?it/s]"
      ]
     },
     "metadata": {},
     "output_type": "display_data"
    },
    {
     "data": {
      "application/vnd.jupyter.widget-view+json": {
       "model_id": "a2f8d22673bf45478ac78d4d97ef6681",
       "version_major": 2,
       "version_minor": 0
      },
      "text/plain": [
       "  0%|          | 0/25 [00:00<?, ?it/s]"
      ]
     },
     "metadata": {},
     "output_type": "display_data"
    },
    {
     "data": {
      "application/vnd.jupyter.widget-view+json": {
       "model_id": "633a055a06d14f5cb30bdfcf8e3d6409",
       "version_major": 2,
       "version_minor": 0
      },
      "text/plain": [
       "  0%|          | 0/25 [00:00<?, ?it/s]"
      ]
     },
     "metadata": {},
     "output_type": "display_data"
    },
    {
     "data": {
      "application/vnd.jupyter.widget-view+json": {
       "model_id": "4d9b0a1db88e45108b31a6f2d0798b1b",
       "version_major": 2,
       "version_minor": 0
      },
      "text/plain": [
       "  0%|          | 0/25 [00:00<?, ?it/s]"
      ]
     },
     "metadata": {},
     "output_type": "display_data"
    },
    {
     "data": {
      "application/vnd.jupyter.widget-view+json": {
       "model_id": "a152c6a1acda4ae780525e94b221a7fc",
       "version_major": 2,
       "version_minor": 0
      },
      "text/plain": [
       "  0%|          | 0/25 [00:00<?, ?it/s]"
      ]
     },
     "metadata": {},
     "output_type": "display_data"
    },
    {
     "data": {
      "application/vnd.jupyter.widget-view+json": {
       "model_id": "c2369ee5c8b74ceba485bf744fedf283",
       "version_major": 2,
       "version_minor": 0
      },
      "text/plain": [
       "  0%|          | 0/25 [00:00<?, ?it/s]"
      ]
     },
     "metadata": {},
     "output_type": "display_data"
    },
    {
     "data": {
      "application/vnd.jupyter.widget-view+json": {
       "model_id": "ccd60797c1fa4f58b333898ac8f0b204",
       "version_major": 2,
       "version_minor": 0
      },
      "text/plain": [
       "  0%|          | 0/25 [00:00<?, ?it/s]"
      ]
     },
     "metadata": {},
     "output_type": "display_data"
    },
    {
     "data": {
      "application/vnd.jupyter.widget-view+json": {
       "model_id": "e5432cd982cf42bf821f89c12f37e93c",
       "version_major": 2,
       "version_minor": 0
      },
      "text/plain": [
       "  0%|          | 0/25 [00:00<?, ?it/s]"
      ]
     },
     "metadata": {},
     "output_type": "display_data"
    },
    {
     "data": {
      "application/vnd.jupyter.widget-view+json": {
       "model_id": "60542c3e8ca64b49861e2a587917f060",
       "version_major": 2,
       "version_minor": 0
      },
      "text/plain": [
       "  0%|          | 0/25 [00:00<?, ?it/s]"
      ]
     },
     "metadata": {},
     "output_type": "display_data"
    },
    {
     "data": {
      "application/vnd.jupyter.widget-view+json": {
       "model_id": "fb4034e702534ae6af0f5584dbbe4263",
       "version_major": 2,
       "version_minor": 0
      },
      "text/plain": [
       "  0%|          | 0/25 [00:00<?, ?it/s]"
      ]
     },
     "metadata": {},
     "output_type": "display_data"
    },
    {
     "data": {
      "application/vnd.jupyter.widget-view+json": {
       "model_id": "347d23507eac4d7d99eea6915be3e9a9",
       "version_major": 2,
       "version_minor": 0
      },
      "text/plain": [
       "  0%|          | 0/25 [00:00<?, ?it/s]"
      ]
     },
     "metadata": {},
     "output_type": "display_data"
    },
    {
     "data": {
      "application/vnd.jupyter.widget-view+json": {
       "model_id": "df8eac227a6541e4ad7044991d891ca8",
       "version_major": 2,
       "version_minor": 0
      },
      "text/plain": [
       "  0%|          | 0/25 [00:00<?, ?it/s]"
      ]
     },
     "metadata": {},
     "output_type": "display_data"
    },
    {
     "data": {
      "application/vnd.jupyter.widget-view+json": {
       "model_id": "6ca912ebe5e8438dbed911b875932d37",
       "version_major": 2,
       "version_minor": 0
      },
      "text/plain": [
       "  0%|          | 0/25 [00:00<?, ?it/s]"
      ]
     },
     "metadata": {},
     "output_type": "display_data"
    },
    {
     "data": {
      "application/vnd.jupyter.widget-view+json": {
       "model_id": "e2ac6fc7f68a496790be1c6afb5ea71e",
       "version_major": 2,
       "version_minor": 0
      },
      "text/plain": [
       "  0%|          | 0/25 [00:00<?, ?it/s]"
      ]
     },
     "metadata": {},
     "output_type": "display_data"
    },
    {
     "data": {
      "application/vnd.jupyter.widget-view+json": {
       "model_id": "6eec227ff06e43489a5680230a278561",
       "version_major": 2,
       "version_minor": 0
      },
      "text/plain": [
       "  0%|          | 0/25 [00:00<?, ?it/s]"
      ]
     },
     "metadata": {},
     "output_type": "display_data"
    },
    {
     "data": {
      "application/vnd.jupyter.widget-view+json": {
       "model_id": "39b2f442badd45238c1c6bb1a6d0da7b",
       "version_major": 2,
       "version_minor": 0
      },
      "text/plain": [
       "  0%|          | 0/25 [00:00<?, ?it/s]"
      ]
     },
     "metadata": {},
     "output_type": "display_data"
    },
    {
     "data": {
      "application/vnd.jupyter.widget-view+json": {
       "model_id": "923e89f84d054c449f927556302c8ae5",
       "version_major": 2,
       "version_minor": 0
      },
      "text/plain": [
       "  0%|          | 0/25 [00:00<?, ?it/s]"
      ]
     },
     "metadata": {},
     "output_type": "display_data"
    },
    {
     "data": {
      "application/vnd.jupyter.widget-view+json": {
       "model_id": "dd408204d9d342ca935993652dc6d21b",
       "version_major": 2,
       "version_minor": 0
      },
      "text/plain": [
       "  0%|          | 0/25 [00:00<?, ?it/s]"
      ]
     },
     "metadata": {},
     "output_type": "display_data"
    },
    {
     "data": {
      "application/vnd.jupyter.widget-view+json": {
       "model_id": "c769506ebe8d4cf6b69317409738a2df",
       "version_major": 2,
       "version_minor": 0
      },
      "text/plain": [
       "  0%|          | 0/25 [00:00<?, ?it/s]"
      ]
     },
     "metadata": {},
     "output_type": "display_data"
    },
    {
     "data": {
      "application/vnd.jupyter.widget-view+json": {
       "model_id": "dc7802ccb48d44e5a48626accc395b65",
       "version_major": 2,
       "version_minor": 0
      },
      "text/plain": [
       "  0%|          | 0/25 [00:00<?, ?it/s]"
      ]
     },
     "metadata": {},
     "output_type": "display_data"
    },
    {
     "data": {
      "application/vnd.jupyter.widget-view+json": {
       "model_id": "2e060451b37e4c70b0fd7f303c8010d6",
       "version_major": 2,
       "version_minor": 0
      },
      "text/plain": [
       "  0%|          | 0/25 [00:00<?, ?it/s]"
      ]
     },
     "metadata": {},
     "output_type": "display_data"
    },
    {
     "data": {
      "application/vnd.jupyter.widget-view+json": {
       "model_id": "217f9885e11f4a08a46658fabd0f68b5",
       "version_major": 2,
       "version_minor": 0
      },
      "text/plain": [
       "  0%|          | 0/25 [00:00<?, ?it/s]"
      ]
     },
     "metadata": {},
     "output_type": "display_data"
    },
    {
     "data": {
      "application/vnd.jupyter.widget-view+json": {
       "model_id": "590294862e5943b4821cf1c16eba7b9e",
       "version_major": 2,
       "version_minor": 0
      },
      "text/plain": [
       "  0%|          | 0/25 [00:00<?, ?it/s]"
      ]
     },
     "metadata": {},
     "output_type": "display_data"
    },
    {
     "data": {
      "application/vnd.jupyter.widget-view+json": {
       "model_id": "119fde10081d41799da6f9a3cdc9cd1a",
       "version_major": 2,
       "version_minor": 0
      },
      "text/plain": [
       "  0%|          | 0/25 [00:00<?, ?it/s]"
      ]
     },
     "metadata": {},
     "output_type": "display_data"
    },
    {
     "data": {
      "application/vnd.jupyter.widget-view+json": {
       "model_id": "a35e31ff434046d3815e3e4a13274436",
       "version_major": 2,
       "version_minor": 0
      },
      "text/plain": [
       "  0%|          | 0/25 [00:00<?, ?it/s]"
      ]
     },
     "metadata": {},
     "output_type": "display_data"
    },
    {
     "data": {
      "application/vnd.jupyter.widget-view+json": {
       "model_id": "002e297097e54b4ba77a8d5c25bff7b7",
       "version_major": 2,
       "version_minor": 0
      },
      "text/plain": [
       "  0%|          | 0/25 [00:00<?, ?it/s]"
      ]
     },
     "metadata": {},
     "output_type": "display_data"
    },
    {
     "data": {
      "application/vnd.jupyter.widget-view+json": {
       "model_id": "5d56503675c14e37a859843ee3fbc11d",
       "version_major": 2,
       "version_minor": 0
      },
      "text/plain": [
       "  0%|          | 0/25 [00:00<?, ?it/s]"
      ]
     },
     "metadata": {},
     "output_type": "display_data"
    },
    {
     "data": {
      "application/vnd.jupyter.widget-view+json": {
       "model_id": "cd1b07af65cb4e378ad803ffb1e36657",
       "version_major": 2,
       "version_minor": 0
      },
      "text/plain": [
       "  0%|          | 0/25 [00:00<?, ?it/s]"
      ]
     },
     "metadata": {},
     "output_type": "display_data"
    },
    {
     "data": {
      "application/vnd.jupyter.widget-view+json": {
       "model_id": "89c42a3ba90b4aa39e54c182dcfd5e32",
       "version_major": 2,
       "version_minor": 0
      },
      "text/plain": [
       "  0%|          | 0/25 [00:00<?, ?it/s]"
      ]
     },
     "metadata": {},
     "output_type": "display_data"
    },
    {
     "data": {
      "application/vnd.jupyter.widget-view+json": {
       "model_id": "b156d54de76349a4946b8cb810145a17",
       "version_major": 2,
       "version_minor": 0
      },
      "text/plain": [
       "  0%|          | 0/25 [00:00<?, ?it/s]"
      ]
     },
     "metadata": {},
     "output_type": "display_data"
    },
    {
     "data": {
      "application/vnd.jupyter.widget-view+json": {
       "model_id": "616a2fa14ba248bba2a5dde670207314",
       "version_major": 2,
       "version_minor": 0
      },
      "text/plain": [
       "  0%|          | 0/25 [00:00<?, ?it/s]"
      ]
     },
     "metadata": {},
     "output_type": "display_data"
    },
    {
     "data": {
      "application/vnd.jupyter.widget-view+json": {
       "model_id": "f8a4c8e921be4f90a9483191fa959e9e",
       "version_major": 2,
       "version_minor": 0
      },
      "text/plain": [
       "  0%|          | 0/25 [00:00<?, ?it/s]"
      ]
     },
     "metadata": {},
     "output_type": "display_data"
    },
    {
     "data": {
      "application/vnd.jupyter.widget-view+json": {
       "model_id": "d6e0a9817a3e4fdf9ec8c1c7d8f286c6",
       "version_major": 2,
       "version_minor": 0
      },
      "text/plain": [
       "  0%|          | 0/25 [00:00<?, ?it/s]"
      ]
     },
     "metadata": {},
     "output_type": "display_data"
    },
    {
     "data": {
      "application/vnd.jupyter.widget-view+json": {
       "model_id": "f349ab7b5bb643d5898833cd30e50cf8",
       "version_major": 2,
       "version_minor": 0
      },
      "text/plain": [
       "  0%|          | 0/25 [00:00<?, ?it/s]"
      ]
     },
     "metadata": {},
     "output_type": "display_data"
    },
    {
     "data": {
      "application/vnd.jupyter.widget-view+json": {
       "model_id": "2dec21746b764152b1f8d613ea015f93",
       "version_major": 2,
       "version_minor": 0
      },
      "text/plain": [
       "  0%|          | 0/25 [00:00<?, ?it/s]"
      ]
     },
     "metadata": {},
     "output_type": "display_data"
    },
    {
     "data": {
      "application/vnd.jupyter.widget-view+json": {
       "model_id": "f85208c209d94a5f92b5f917e2568778",
       "version_major": 2,
       "version_minor": 0
      },
      "text/plain": [
       "  0%|          | 0/25 [00:00<?, ?it/s]"
      ]
     },
     "metadata": {},
     "output_type": "display_data"
    },
    {
     "data": {
      "application/vnd.jupyter.widget-view+json": {
       "model_id": "c7fda58caf0f48f580e0f9f8464fe17f",
       "version_major": 2,
       "version_minor": 0
      },
      "text/plain": [
       "  0%|          | 0/25 [00:00<?, ?it/s]"
      ]
     },
     "metadata": {},
     "output_type": "display_data"
    },
    {
     "data": {
      "application/vnd.jupyter.widget-view+json": {
       "model_id": "225ecad1dd3144b5a74d99df8cdf07ee",
       "version_major": 2,
       "version_minor": 0
      },
      "text/plain": [
       "  0%|          | 0/25 [00:00<?, ?it/s]"
      ]
     },
     "metadata": {},
     "output_type": "display_data"
    },
    {
     "data": {
      "application/vnd.jupyter.widget-view+json": {
       "model_id": "2a1171529ce04e19967d3260638fafc5",
       "version_major": 2,
       "version_minor": 0
      },
      "text/plain": [
       "  0%|          | 0/25 [00:00<?, ?it/s]"
      ]
     },
     "metadata": {},
     "output_type": "display_data"
    },
    {
     "data": {
      "application/vnd.jupyter.widget-view+json": {
       "model_id": "f243d75916ce48b0b1a54a861aac3953",
       "version_major": 2,
       "version_minor": 0
      },
      "text/plain": [
       "  0%|          | 0/25 [00:00<?, ?it/s]"
      ]
     },
     "metadata": {},
     "output_type": "display_data"
    },
    {
     "data": {
      "application/vnd.jupyter.widget-view+json": {
       "model_id": "1a210720341b4bac904b8dfcfc44e498",
       "version_major": 2,
       "version_minor": 0
      },
      "text/plain": [
       "  0%|          | 0/25 [00:00<?, ?it/s]"
      ]
     },
     "metadata": {},
     "output_type": "display_data"
    },
    {
     "data": {
      "application/vnd.jupyter.widget-view+json": {
       "model_id": "cf139ac0ec6747b2842be0d2b568835e",
       "version_major": 2,
       "version_minor": 0
      },
      "text/plain": [
       "  0%|          | 0/25 [00:00<?, ?it/s]"
      ]
     },
     "metadata": {},
     "output_type": "display_data"
    },
    {
     "data": {
      "application/vnd.jupyter.widget-view+json": {
       "model_id": "cec8e6aad2d649719b3e295b7ba3df4c",
       "version_major": 2,
       "version_minor": 0
      },
      "text/plain": [
       "  0%|          | 0/25 [00:00<?, ?it/s]"
      ]
     },
     "metadata": {},
     "output_type": "display_data"
    },
    {
     "data": {
      "application/vnd.jupyter.widget-view+json": {
       "model_id": "ecc38c13eb55474493ab220faf003528",
       "version_major": 2,
       "version_minor": 0
      },
      "text/plain": [
       "  0%|          | 0/25 [00:00<?, ?it/s]"
      ]
     },
     "metadata": {},
     "output_type": "display_data"
    },
    {
     "data": {
      "application/vnd.jupyter.widget-view+json": {
       "model_id": "ff1e548412804549a9f17da8669a5b5d",
       "version_major": 2,
       "version_minor": 0
      },
      "text/plain": [
       "  0%|          | 0/25 [00:00<?, ?it/s]"
      ]
     },
     "metadata": {},
     "output_type": "display_data"
    },
    {
     "data": {
      "application/vnd.jupyter.widget-view+json": {
       "model_id": "e1c32943b1b94fe394025118fc4cbbf9",
       "version_major": 2,
       "version_minor": 0
      },
      "text/plain": [
       "  0%|          | 0/25 [00:00<?, ?it/s]"
      ]
     },
     "metadata": {},
     "output_type": "display_data"
    },
    {
     "data": {
      "application/vnd.jupyter.widget-view+json": {
       "model_id": "061bd1c912394829a70962a735243364",
       "version_major": 2,
       "version_minor": 0
      },
      "text/plain": [
       "  0%|          | 0/25 [00:00<?, ?it/s]"
      ]
     },
     "metadata": {},
     "output_type": "display_data"
    },
    {
     "data": {
      "application/vnd.jupyter.widget-view+json": {
       "model_id": "cfc68071fabb495e8e74b42884ed4e16",
       "version_major": 2,
       "version_minor": 0
      },
      "text/plain": [
       "  0%|          | 0/25 [00:00<?, ?it/s]"
      ]
     },
     "metadata": {},
     "output_type": "display_data"
    },
    {
     "data": {
      "application/vnd.jupyter.widget-view+json": {
       "model_id": "c9a62c1d8cb7419aa6e39aed46048df7",
       "version_major": 2,
       "version_minor": 0
      },
      "text/plain": [
       "  0%|          | 0/25 [00:00<?, ?it/s]"
      ]
     },
     "metadata": {},
     "output_type": "display_data"
    },
    {
     "data": {
      "application/vnd.jupyter.widget-view+json": {
       "model_id": "1a5d6b19378c406cac90368264d0b6fa",
       "version_major": 2,
       "version_minor": 0
      },
      "text/plain": [
       "  0%|          | 0/25 [00:00<?, ?it/s]"
      ]
     },
     "metadata": {},
     "output_type": "display_data"
    },
    {
     "data": {
      "application/vnd.jupyter.widget-view+json": {
       "model_id": "5b47f986927e4307a53d697ff298d979",
       "version_major": 2,
       "version_minor": 0
      },
      "text/plain": [
       "  0%|          | 0/25 [00:00<?, ?it/s]"
      ]
     },
     "metadata": {},
     "output_type": "display_data"
    },
    {
     "data": {
      "application/vnd.jupyter.widget-view+json": {
       "model_id": "82f50a8b9cb34cba8ed12447dde0590b",
       "version_major": 2,
       "version_minor": 0
      },
      "text/plain": [
       "  0%|          | 0/25 [00:00<?, ?it/s]"
      ]
     },
     "metadata": {},
     "output_type": "display_data"
    },
    {
     "data": {
      "application/vnd.jupyter.widget-view+json": {
       "model_id": "45e98fb876184ec19e2580c3eb82235a",
       "version_major": 2,
       "version_minor": 0
      },
      "text/plain": [
       "  0%|          | 0/25 [00:00<?, ?it/s]"
      ]
     },
     "metadata": {},
     "output_type": "display_data"
    },
    {
     "data": {
      "application/vnd.jupyter.widget-view+json": {
       "model_id": "c9fb0d35af294ec6925d5187fb585b72",
       "version_major": 2,
       "version_minor": 0
      },
      "text/plain": [
       "  0%|          | 0/25 [00:00<?, ?it/s]"
      ]
     },
     "metadata": {},
     "output_type": "display_data"
    },
    {
     "data": {
      "application/vnd.jupyter.widget-view+json": {
       "model_id": "8e35b4592ed44ea2854a7f38f2abaec2",
       "version_major": 2,
       "version_minor": 0
      },
      "text/plain": [
       "  0%|          | 0/25 [00:00<?, ?it/s]"
      ]
     },
     "metadata": {},
     "output_type": "display_data"
    },
    {
     "data": {
      "application/vnd.jupyter.widget-view+json": {
       "model_id": "dc385ec7ee1e461b97672715be87baa3",
       "version_major": 2,
       "version_minor": 0
      },
      "text/plain": [
       "  0%|          | 0/25 [00:00<?, ?it/s]"
      ]
     },
     "metadata": {},
     "output_type": "display_data"
    },
    {
     "data": {
      "application/vnd.jupyter.widget-view+json": {
       "model_id": "e794759618d94b3e9d49f010505a6c94",
       "version_major": 2,
       "version_minor": 0
      },
      "text/plain": [
       "  0%|          | 0/25 [00:00<?, ?it/s]"
      ]
     },
     "metadata": {},
     "output_type": "display_data"
    },
    {
     "data": {
      "application/vnd.jupyter.widget-view+json": {
       "model_id": "bbf6e9f5682647b9a507536651dafeb4",
       "version_major": 2,
       "version_minor": 0
      },
      "text/plain": [
       "  0%|          | 0/25 [00:00<?, ?it/s]"
      ]
     },
     "metadata": {},
     "output_type": "display_data"
    },
    {
     "data": {
      "application/vnd.jupyter.widget-view+json": {
       "model_id": "9021246004e947789d36107c72ee187c",
       "version_major": 2,
       "version_minor": 0
      },
      "text/plain": [
       "  0%|          | 0/25 [00:00<?, ?it/s]"
      ]
     },
     "metadata": {},
     "output_type": "display_data"
    },
    {
     "data": {
      "application/vnd.jupyter.widget-view+json": {
       "model_id": "62fe7d23069f410e951d6fc71f52892b",
       "version_major": 2,
       "version_minor": 0
      },
      "text/plain": [
       "  0%|          | 0/25 [00:00<?, ?it/s]"
      ]
     },
     "metadata": {},
     "output_type": "display_data"
    },
    {
     "data": {
      "application/vnd.jupyter.widget-view+json": {
       "model_id": "c2dc7532d59b483381dba16f58587bc3",
       "version_major": 2,
       "version_minor": 0
      },
      "text/plain": [
       "  0%|          | 0/25 [00:00<?, ?it/s]"
      ]
     },
     "metadata": {},
     "output_type": "display_data"
    },
    {
     "data": {
      "application/vnd.jupyter.widget-view+json": {
       "model_id": "41b9a83a724d48d7b73f20b37310e4d8",
       "version_major": 2,
       "version_minor": 0
      },
      "text/plain": [
       "  0%|          | 0/25 [00:00<?, ?it/s]"
      ]
     },
     "metadata": {},
     "output_type": "display_data"
    },
    {
     "data": {
      "application/vnd.jupyter.widget-view+json": {
       "model_id": "afae60ac1089482793049696ca04c339",
       "version_major": 2,
       "version_minor": 0
      },
      "text/plain": [
       "  0%|          | 0/25 [00:00<?, ?it/s]"
      ]
     },
     "metadata": {},
     "output_type": "display_data"
    },
    {
     "data": {
      "application/vnd.jupyter.widget-view+json": {
       "model_id": "e48d43dda31c45929d9ff46931106cd2",
       "version_major": 2,
       "version_minor": 0
      },
      "text/plain": [
       "  0%|          | 0/25 [00:00<?, ?it/s]"
      ]
     },
     "metadata": {},
     "output_type": "display_data"
    },
    {
     "data": {
      "application/vnd.jupyter.widget-view+json": {
       "model_id": "029ddd95554a4cf698bec17298353a8e",
       "version_major": 2,
       "version_minor": 0
      },
      "text/plain": [
       "  0%|          | 0/25 [00:00<?, ?it/s]"
      ]
     },
     "metadata": {},
     "output_type": "display_data"
    },
    {
     "data": {
      "application/vnd.jupyter.widget-view+json": {
       "model_id": "f30a145f56094adb97444bd75a111e29",
       "version_major": 2,
       "version_minor": 0
      },
      "text/plain": [
       "  0%|          | 0/25 [00:00<?, ?it/s]"
      ]
     },
     "metadata": {},
     "output_type": "display_data"
    },
    {
     "data": {
      "application/vnd.jupyter.widget-view+json": {
       "model_id": "9c0bb1f11e1044cdb43a7876571b1034",
       "version_major": 2,
       "version_minor": 0
      },
      "text/plain": [
       "  0%|          | 0/25 [00:00<?, ?it/s]"
      ]
     },
     "metadata": {},
     "output_type": "display_data"
    },
    {
     "data": {
      "application/vnd.jupyter.widget-view+json": {
       "model_id": "f201cd50d57e4a50ad2e821f65ee7c9b",
       "version_major": 2,
       "version_minor": 0
      },
      "text/plain": [
       "  0%|          | 0/25 [00:00<?, ?it/s]"
      ]
     },
     "metadata": {},
     "output_type": "display_data"
    },
    {
     "data": {
      "application/vnd.jupyter.widget-view+json": {
       "model_id": "a6d0d47566c84ae59da10d9303f3ae2e",
       "version_major": 2,
       "version_minor": 0
      },
      "text/plain": [
       "  0%|          | 0/25 [00:00<?, ?it/s]"
      ]
     },
     "metadata": {},
     "output_type": "display_data"
    },
    {
     "data": {
      "application/vnd.jupyter.widget-view+json": {
       "model_id": "d729ec8d4f38455081cde05f64aaa7f2",
       "version_major": 2,
       "version_minor": 0
      },
      "text/plain": [
       "  0%|          | 0/25 [00:00<?, ?it/s]"
      ]
     },
     "metadata": {},
     "output_type": "display_data"
    },
    {
     "data": {
      "application/vnd.jupyter.widget-view+json": {
       "model_id": "07e15796868348a3801531a1c26645d6",
       "version_major": 2,
       "version_minor": 0
      },
      "text/plain": [
       "  0%|          | 0/25 [00:00<?, ?it/s]"
      ]
     },
     "metadata": {},
     "output_type": "display_data"
    },
    {
     "data": {
      "application/vnd.jupyter.widget-view+json": {
       "model_id": "5cb1e6e442024f8b9a9ed694d247b8db",
       "version_major": 2,
       "version_minor": 0
      },
      "text/plain": [
       "  0%|          | 0/25 [00:00<?, ?it/s]"
      ]
     },
     "metadata": {},
     "output_type": "display_data"
    },
    {
     "data": {
      "application/vnd.jupyter.widget-view+json": {
       "model_id": "07d2268c58d24b1fa434ed24a9861c06",
       "version_major": 2,
       "version_minor": 0
      },
      "text/plain": [
       "  0%|          | 0/25 [00:00<?, ?it/s]"
      ]
     },
     "metadata": {},
     "output_type": "display_data"
    },
    {
     "data": {
      "application/vnd.jupyter.widget-view+json": {
       "model_id": "7a63d58b5b58400eb3308f09ab5383a5",
       "version_major": 2,
       "version_minor": 0
      },
      "text/plain": [
       "  0%|          | 0/25 [00:00<?, ?it/s]"
      ]
     },
     "metadata": {},
     "output_type": "display_data"
    },
    {
     "data": {
      "application/vnd.jupyter.widget-view+json": {
       "model_id": "741be9ab79d648f28b0a678315e2f0a6",
       "version_major": 2,
       "version_minor": 0
      },
      "text/plain": [
       "  0%|          | 0/25 [00:00<?, ?it/s]"
      ]
     },
     "metadata": {},
     "output_type": "display_data"
    },
    {
     "data": {
      "application/vnd.jupyter.widget-view+json": {
       "model_id": "b08bfcdeefd64d138775f57c6f8b18c2",
       "version_major": 2,
       "version_minor": 0
      },
      "text/plain": [
       "  0%|          | 0/25 [00:00<?, ?it/s]"
      ]
     },
     "metadata": {},
     "output_type": "display_data"
    },
    {
     "data": {
      "application/vnd.jupyter.widget-view+json": {
       "model_id": "64cc6f439a61458ab35234012a0a48de",
       "version_major": 2,
       "version_minor": 0
      },
      "text/plain": [
       "  0%|          | 0/25 [00:00<?, ?it/s]"
      ]
     },
     "metadata": {},
     "output_type": "display_data"
    },
    {
     "data": {
      "application/vnd.jupyter.widget-view+json": {
       "model_id": "7cce4d5c4eb94ba79dc81199cc63f67f",
       "version_major": 2,
       "version_minor": 0
      },
      "text/plain": [
       "  0%|          | 0/25 [00:00<?, ?it/s]"
      ]
     },
     "metadata": {},
     "output_type": "display_data"
    },
    {
     "data": {
      "application/vnd.jupyter.widget-view+json": {
       "model_id": "30dbdf1923164a2d906cc1af3495553c",
       "version_major": 2,
       "version_minor": 0
      },
      "text/plain": [
       "  0%|          | 0/25 [00:00<?, ?it/s]"
      ]
     },
     "metadata": {},
     "output_type": "display_data"
    },
    {
     "data": {
      "application/vnd.jupyter.widget-view+json": {
       "model_id": "791009a4bef74d20ad23f02f67dbb605",
       "version_major": 2,
       "version_minor": 0
      },
      "text/plain": [
       "  0%|          | 0/25 [00:00<?, ?it/s]"
      ]
     },
     "metadata": {},
     "output_type": "display_data"
    },
    {
     "data": {
      "application/vnd.jupyter.widget-view+json": {
       "model_id": "256e7a888c3e422fa6082caee18ffa71",
       "version_major": 2,
       "version_minor": 0
      },
      "text/plain": [
       "  0%|          | 0/25 [00:00<?, ?it/s]"
      ]
     },
     "metadata": {},
     "output_type": "display_data"
    },
    {
     "data": {
      "application/vnd.jupyter.widget-view+json": {
       "model_id": "544c59add3634a448cb4f9323f5adba0",
       "version_major": 2,
       "version_minor": 0
      },
      "text/plain": [
       "  0%|          | 0/25 [00:00<?, ?it/s]"
      ]
     },
     "metadata": {},
     "output_type": "display_data"
    },
    {
     "data": {
      "application/vnd.jupyter.widget-view+json": {
       "model_id": "750037202830487db71ec53036ef0808",
       "version_major": 2,
       "version_minor": 0
      },
      "text/plain": [
       "  0%|          | 0/25 [00:00<?, ?it/s]"
      ]
     },
     "metadata": {},
     "output_type": "display_data"
    },
    {
     "data": {
      "application/vnd.jupyter.widget-view+json": {
       "model_id": "5c694b7c3af848a8a8ccb25b2703be49",
       "version_major": 2,
       "version_minor": 0
      },
      "text/plain": [
       "  0%|          | 0/25 [00:00<?, ?it/s]"
      ]
     },
     "metadata": {},
     "output_type": "display_data"
    },
    {
     "data": {
      "application/vnd.jupyter.widget-view+json": {
       "model_id": "0c113c9cd7b6493f8586eb4f9dedc0fb",
       "version_major": 2,
       "version_minor": 0
      },
      "text/plain": [
       "  0%|          | 0/25 [00:00<?, ?it/s]"
      ]
     },
     "metadata": {},
     "output_type": "display_data"
    },
    {
     "data": {
      "application/vnd.jupyter.widget-view+json": {
       "model_id": "989630cfecec4fbe9208964275a2c83e",
       "version_major": 2,
       "version_minor": 0
      },
      "text/plain": [
       "  0%|          | 0/25 [00:00<?, ?it/s]"
      ]
     },
     "metadata": {},
     "output_type": "display_data"
    },
    {
     "data": {
      "application/vnd.jupyter.widget-view+json": {
       "model_id": "1e8755e94c914b30a948286e6cefd258",
       "version_major": 2,
       "version_minor": 0
      },
      "text/plain": [
       "  0%|          | 0/25 [00:00<?, ?it/s]"
      ]
     },
     "metadata": {},
     "output_type": "display_data"
    },
    {
     "data": {
      "application/vnd.jupyter.widget-view+json": {
       "model_id": "3a4cd915382043869f140cb85227767a",
       "version_major": 2,
       "version_minor": 0
      },
      "text/plain": [
       "  0%|          | 0/25 [00:00<?, ?it/s]"
      ]
     },
     "metadata": {},
     "output_type": "display_data"
    },
    {
     "data": {
      "application/vnd.jupyter.widget-view+json": {
       "model_id": "298e06741f8e490089b50aa7aed05373",
       "version_major": 2,
       "version_minor": 0
      },
      "text/plain": [
       "  0%|          | 0/25 [00:00<?, ?it/s]"
      ]
     },
     "metadata": {},
     "output_type": "display_data"
    },
    {
     "data": {
      "application/vnd.jupyter.widget-view+json": {
       "model_id": "92089dea0e1949658e1bb45a6f64c320",
       "version_major": 2,
       "version_minor": 0
      },
      "text/plain": [
       "  0%|          | 0/25 [00:00<?, ?it/s]"
      ]
     },
     "metadata": {},
     "output_type": "display_data"
    },
    {
     "data": {
      "application/vnd.jupyter.widget-view+json": {
       "model_id": "5951237fac004ff8be73df3db4a86cfc",
       "version_major": 2,
       "version_minor": 0
      },
      "text/plain": [
       "  0%|          | 0/25 [00:00<?, ?it/s]"
      ]
     },
     "metadata": {},
     "output_type": "display_data"
    },
    {
     "data": {
      "application/vnd.jupyter.widget-view+json": {
       "model_id": "dd4f0f8e5bb14ad1a1f2e30e79aef8dd",
       "version_major": 2,
       "version_minor": 0
      },
      "text/plain": [
       "  0%|          | 0/25 [00:00<?, ?it/s]"
      ]
     },
     "metadata": {},
     "output_type": "display_data"
    },
    {
     "data": {
      "application/vnd.jupyter.widget-view+json": {
       "model_id": "a9fd853179524175a65aac2e12e51a14",
       "version_major": 2,
       "version_minor": 0
      },
      "text/plain": [
       "  0%|          | 0/25 [00:00<?, ?it/s]"
      ]
     },
     "metadata": {},
     "output_type": "display_data"
    },
    {
     "data": {
      "application/vnd.jupyter.widget-view+json": {
       "model_id": "1d11e57fc87f4891b8316d16f1f9e75b",
       "version_major": 2,
       "version_minor": 0
      },
      "text/plain": [
       "  0%|          | 0/25 [00:00<?, ?it/s]"
      ]
     },
     "metadata": {},
     "output_type": "display_data"
    },
    {
     "data": {
      "application/vnd.jupyter.widget-view+json": {
       "model_id": "907a5992df514396a17f7225fb1c503d",
       "version_major": 2,
       "version_minor": 0
      },
      "text/plain": [
       "  0%|          | 0/25 [00:00<?, ?it/s]"
      ]
     },
     "metadata": {},
     "output_type": "display_data"
    },
    {
     "data": {
      "application/vnd.jupyter.widget-view+json": {
       "model_id": "6bbc14a2150d4dc2a004e09cadb8eb3a",
       "version_major": 2,
       "version_minor": 0
      },
      "text/plain": [
       "  0%|          | 0/25 [00:00<?, ?it/s]"
      ]
     },
     "metadata": {},
     "output_type": "display_data"
    },
    {
     "data": {
      "application/vnd.jupyter.widget-view+json": {
       "model_id": "dce703362ad341e39192ec53962f35f3",
       "version_major": 2,
       "version_minor": 0
      },
      "text/plain": [
       "  0%|          | 0/25 [00:00<?, ?it/s]"
      ]
     },
     "metadata": {},
     "output_type": "display_data"
    },
    {
     "data": {
      "application/vnd.jupyter.widget-view+json": {
       "model_id": "e00f2b81140d41048b8130b23e85e0d4",
       "version_major": 2,
       "version_minor": 0
      },
      "text/plain": [
       "  0%|          | 0/25 [00:00<?, ?it/s]"
      ]
     },
     "metadata": {},
     "output_type": "display_data"
    },
    {
     "data": {
      "application/vnd.jupyter.widget-view+json": {
       "model_id": "22ee225d27d141c69e6f1c78c587bb3a",
       "version_major": 2,
       "version_minor": 0
      },
      "text/plain": [
       "  0%|          | 0/25 [00:00<?, ?it/s]"
      ]
     },
     "metadata": {},
     "output_type": "display_data"
    },
    {
     "data": {
      "application/vnd.jupyter.widget-view+json": {
       "model_id": "5fc12600ad86472bac5b6cb4d2b22486",
       "version_major": 2,
       "version_minor": 0
      },
      "text/plain": [
       "  0%|          | 0/25 [00:00<?, ?it/s]"
      ]
     },
     "metadata": {},
     "output_type": "display_data"
    },
    {
     "data": {
      "application/vnd.jupyter.widget-view+json": {
       "model_id": "dcdb6b428d1a4cec973193f0342e4734",
       "version_major": 2,
       "version_minor": 0
      },
      "text/plain": [
       "  0%|          | 0/25 [00:00<?, ?it/s]"
      ]
     },
     "metadata": {},
     "output_type": "display_data"
    },
    {
     "data": {
      "application/vnd.jupyter.widget-view+json": {
       "model_id": "1602aaef3ee1416287d0c341b5581cad",
       "version_major": 2,
       "version_minor": 0
      },
      "text/plain": [
       "  0%|          | 0/25 [00:00<?, ?it/s]"
      ]
     },
     "metadata": {},
     "output_type": "display_data"
    },
    {
     "data": {
      "application/vnd.jupyter.widget-view+json": {
       "model_id": "81cb53b2611b431faa694f2729b48d26",
       "version_major": 2,
       "version_minor": 0
      },
      "text/plain": [
       "  0%|          | 0/25 [00:00<?, ?it/s]"
      ]
     },
     "metadata": {},
     "output_type": "display_data"
    }
   ],
   "source": [
    "succs = succ_ratio(filename(), ths.s[0], n, q, N_start, N_step, N_stop, accept_neg=False, get_sign_func=get_sign, ths=ths)"
   ]
  },
  {
   "cell_type": "code",
   "execution_count": 26,
   "id": "acabbe45",
   "metadata": {},
   "outputs": [
    {
     "data": {
      "text/plain": [
       "[0.328125,\n",
       " 0.5,\n",
       " 0.625,\n",
       " 0.7109375,\n",
       " 0.78125,\n",
       " 0.8046875,\n",
       " 0.84375,\n",
       " 0.8984375,\n",
       " 0.9296875,\n",
       " 0.953125,\n",
       " 0.9609375,\n",
       " 0.984375,\n",
       " 0.984375,\n",
       " 0.9921875,\n",
       " 0.9921875,\n",
       " 0.9921875,\n",
       " 1.0,\n",
       " 1.0,\n",
       " 1.0,\n",
       " 1.0,\n",
       " 1.0,\n",
       " 1.0,\n",
       " 1.0,\n",
       " 1.0,\n",
       " 1.0]"
      ]
     },
     "execution_count": 26,
     "metadata": {},
     "output_type": "execute_result"
    }
   ],
   "source": [
    "succs"
   ]
  },
  {
   "cell_type": "code",
   "execution_count": 27,
   "id": "7468e640-49b4-48cb-8858-d2e7328c9704",
   "metadata": {},
   "outputs": [
    {
     "data": {
      "text/plain": [
       "[<matplotlib.lines.Line2D at 0x7f4ce4117a90>]"
      ]
     },
     "execution_count": 27,
     "metadata": {},
     "output_type": "execute_result"
    },
    {
     "data": {
      "application/vnd.jupyter.widget-view+json": {
       "model_id": "d8b79b01bc4c4b31ad063353bcb66332",
       "version_major": 2,
       "version_minor": 0
      },
      "image/png": "[encoded data removed]",
      "text/html": [
       "\n",
       "            <div style=\"display: inline-block;\">\n",
       "                <div class=\"jupyter-widgets widget-label\" style=\"text-align: center;\">\n",
       "                    Figure\n",
       "                </div>\n",
       "                <img src='data:image/png;base64,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' width=640.0/>\n",
       "            </div>\n",
       "        "
      ],
      "text/plain": [
       "Canvas(toolbar=Toolbar(toolitems=[('Home', 'Reset original view', 'home', 'home'), ('Back', 'Back to previous …"
      ]
     },
     "metadata": {},
     "output_type": "display_data"
    }
   ],
   "source": [
    "fig, ax = plt.subplots()\n",
    "\n",
    "x_range = [i for i in range(N_start, N_stop + N_step, N_step)]\n",
    "\n",
    "ax.plot(x_range, succs)"
   ]
  },
  {
   "cell_type": "code",
   "execution_count": 28,
   "id": "b80f8407-ba77-49cc-8bf7-1472208bb0ad",
   "metadata": {},
   "outputs": [
    {
     "name": "stdout",
     "output_type": "stream",
     "text": [
      "(16,0.328125)(17,0.5)(18,0.625)(19,0.7109375)(20,0.78125)(21,0.8046875)(22,0.84375)(23,0.8984375)(24,0.9296875)(25,0.953125)(26,0.9609375)(27,0.984375)(28,0.984375)(29,0.9921875)(30,0.9921875)(31,0.9921875)(32,1.0)(33,1.0)(34,1.0)(35,1.0)(36,1.0)(37,1.0)(38,1.0)(39,1.0)(40,1.0)"
     ]
    }
   ],
   "source": [
    "for x,y in zip(x_range,succs):\n",
    "    print(f'({x},{y})',end='')"
   ]
  },
  {
   "cell_type": "code",
   "execution_count": 42,
   "id": "27184a46-2903-4902-962b-8f96f50ebb92",
   "metadata": {},
   "outputs": [],
   "source": [
    "### functions for estimating lattice attack outcome\n",
    "\n",
    "\n",
    "def read_K(dir_, key, n, q, N, accept_neg=True, key_prefix='ki', get_sign_func=None, ths=None, mode=0):\n",
    "    x = []\n",
    "\n",
    "    for key_index in tqdm(range(n)):\n",
    "        scores = np.load(f'{dir_}/{key_prefix}_{key_index}_{N}_v.npy')\n",
    "        scores_sorted = np.load(f'{dir_}/{key_prefix}_{key_index}_{N}_k.npy')\n",
    "        guess_low, guess_high = util.unpack_guess(scores_sorted[0], q)\n",
    "        if accept_neg:\n",
    "            if (guess_low == key[key_index*2] and  guess_high == key[key_index*2 + 1]) or \\\n",
    "            ((q - guess_low) == key[key_index*2] and  (q - guess_high) == key[key_index*2 + 1]):\n",
    "                check = True\n",
    "            else:\n",
    "                check = False\n",
    "        else:\n",
    "            s = 1 if get_sign_func(ths[:N], key_index, guess_low, guess_high) else -1\n",
    "            guess_low, guess_high = s*guess_low % q, s*guess_high % q\n",
    "            if (guess_low == key[key_index*2] and  guess_high == key[key_index*2 + 1]):\n",
    "                check = True\n",
    "            else:\n",
    "                check = False\n",
    "        score = scores[0]\n",
    "\n",
    "        if mode == 0:\n",
    "            score = scores[0]\n",
    "        elif mode == 1:\n",
    "            score = (scores[0] - (scores[1:].mean()))\n",
    "\n",
    "        x.append((check, score, key_index)) \n",
    "\n",
    "    return sorted(x, key=lambda tup: tup[1]), x\n",
    "\n",
    "\n",
    "def get_conv(dir_, key_index, key_prefix, N):\n",
    "    scores = np.load(f'{dir_}/{key_prefix}_{key_index}_{N}_v.npy')\n",
    "    return scores\n",
    "\n",
    "def draw_sorted(sorted_x, colored=True):\n",
    "\n",
    "    fig,ax = plt.subplots()\n",
    "    ctr = 0\n",
    "    r_ctr = 0\n",
    "    r_max = 0\n",
    "    for tup in sorted_x:\n",
    "        ctr += 1\n",
    "        if tup[0] == True:\n",
    "            if colored:\n",
    "                ax.scatter(ctr, tup[1],color='g')\n",
    "            else:\n",
    "                ax.scatter(ctr, tup[1],color='b')\n",
    "        else:\n",
    "            if colored:\n",
    "                ax.scatter(ctr, tup[1],color='r')\n",
    "            else:\n",
    "                ax.scatter(ctr, tup[1],color='b')                \n",
    "            print(tup[2],end=',')\n",
    "            r_ctr += 1\n",
    "            r_max = ctr\n",
    "    print()\n",
    "    print(ctr - r_ctr, r_max)\n",
    "\n",
    "\n",
    "def count_true(sorted_x):\n",
    "    ctr = 0\n",
    "    for e in sorted_x:\n",
    "        if e[0]:\n",
    "            ctr += 1\n",
    "    return ctr\n",
    "\n",
    "\n",
    "def num_trials(sorted_x, K=38, max_L=128):\n",
    "    ctr = 1\n",
    "    for L in range(K, max_L + 1):\n",
    "        combs = list(combinations(sorted_x[::-1][:L], K))[math.comb(L-1, K):]\n",
    "        for A in combs:\n",
    "            #sub_x = sorted_x[::-1][A]\n",
    "            if count_true(A) >= K:\n",
    "                return ctr\n",
    "            else:\n",
    "                ctr += 1\n",
    "    return -1\n",
    "\n",
    "\n",
    "def to_x2(x):\n",
    "    x2 = []\n",
    "    for key_index in tqdm(range(len(x)//2)):\n",
    "        x2.append((x[2*key_index][0] and x[2*key_index+1][0],x[2*key_index][1]*x[2*key_index+1][1],key_index)) \n",
    "\n",
    "    return sorted(x2, key=lambda tup: tup[1]), x2"
   ]
  },
  {
   "cell_type": "code",
   "execution_count": 41,
   "id": "3a07beab",
   "metadata": {},
   "outputs": [
    {
     "data": {
      "text/plain": [
       "962598"
      ]
     },
     "execution_count": 41,
     "metadata": {},
     "output_type": "execute_result"
    }
   ],
   "source": [
    "math.comb(43, 38)"
   ]
  },
  {
   "cell_type": "code",
   "execution_count": 31,
   "id": "6d46cb8a",
   "metadata": {},
   "outputs": [
    {
     "data": {
      "application/vnd.jupyter.widget-view+json": {
       "model_id": "62ceca58f60d465dbe9aff04f738da2c",
       "version_major": 2,
       "version_minor": 0
      },
      "text/plain": [
       "  0%|          | 0/128 [00:00<?, ?it/s]"
      ]
     },
     "metadata": {},
     "output_type": "display_data"
    }
   ],
   "source": [
    "sorted_x, x = read_K(filename(), ths.s[0], n, q, N=19, accept_neg=False, ths=ths, mode=1, get_sign_func=get_sign)\n"
   ]
  },
  {
   "cell_type": "code",
   "execution_count": 32,
   "id": "beca2750",
   "metadata": {},
   "outputs": [
    {
     "name": "stdout",
     "output_type": "stream",
     "text": [
      "[(False, 0.025056958, 0), (True, 0.03607732, 1), (True, 0.042944193, 2), (True, 0.02301389, 3), (True, 0.040860236, 4), (False, 0.017899275, 5), (True, 0.051080287, 6), (True, 0.017466724, 7), (True, 0.017907023, 8), (True, 0.04766333, 9), (True, 0.057214558, 10), (False, 0.034217477, 11), (False, 0.037677824, 12), (False, 0.020279884, 13), (True, 0.03424996, 14), (True, 0.056922257, 15), (False, 0.02192527, 16), (True, 0.029529393, 17), (False, 0.01905036, 18), (True, 0.040004373, 19), (True, 0.04245895, 20), (True, 0.039191604, 21), (True, 0.045962214, 22), (True, 0.04879588, 23), (True, 0.05197555, 24), (False, 0.01824361, 25), (False, 0.04518038, 26), (True, 0.03567344, 27), (False, 0.017011285, 28), (True, 0.03932023, 29), (False, 0.03447354, 30), (True, 0.049457908, 31), (False, 0.0199309, 32), (False, 0.020965159, 33), (False, 0.025128782, 34), (True, 0.01944989, 35), (False, 0.045466185, 36), (True, 0.04197997, 37), (True, 0.025986552, 38), (True, 0.048819482, 39), (False, 0.006470144, 40), (True, 0.045422435, 41), (False, 0.044371247, 42), (True, 0.051213086, 43), (False, 0.03695333, 44), (True, 0.04047388, 45), (True, 0.018274903, 46), (True, 0.014748633, 47), (False, 0.013730526, 48), (False, 0.022889197, 49), (True, 0.028654039, 50), (True, 0.050451934, 51), (True, 0.061057925, 52), (True, 0.025650203, 53), (False, 0.019040227, 54), (True, 0.04037863, 55), (False, 0.02832961, 56), (True, 0.043023586, 57), (True, 0.023410618, 58), (False, 0.029197216, 59), (True, 0.048396707, 60), (False, 0.012081146, 61), (True, 0.054472387, 62), (False, 0.033619523, 63), (True, 0.028018534, 64), (False, 0.012614906, 65), (False, 0.012306154, 66), (True, 0.07153976, 67), (True, 0.030839205, 68), (False, 0.042648792, 69), (True, 0.027490258, 70), (True, 0.036477983, 71), (True, 0.03496939, 72), (True, 0.0588488, 73), (False, 0.017017603, 74), (True, 0.04260254, 75), (False, 0.025554895, 76), (False, 0.030990124, 77), (True, 0.026896834, 78), (True, 0.052224696, 79), (True, 0.014579058, 80), (True, 0.038351476, 81), (False, 0.010141671, 82), (True, 0.04451722, 83), (True, 0.055087686, 84), (True, 0.047174573, 85), (False, 0.017475605, 86), (False, 0.028356194, 87), (True, 0.017062247, 88), (True, 0.037270665, 89), (True, 0.05318755, 90), (True, 0.06990248, 91), (True, 0.037418365, 92), (True, 0.039104044, 93), (True, 0.028274596, 94), (False, 0.031998992, 95), (True, 0.032423735, 96), (True, 0.03984648, 97), (True, 0.056857347, 98), (True, 0.028078496, 99), (True, 0.055384994, 100), (False, 0.017861068, 101), (True, 0.030420244, 102), (True, 0.040427983, 103), (True, 0.06042242, 104), (False, 0.02724874, 105), (True, 0.025637865, 106), (True, 0.042971194, 107), (True, 0.017584682, 108), (True, 0.04083383, 109), (False, 0.012438774, 110), (True, 0.01943034, 111), (True, 0.016034663, 112), (False, 0.032673478, 113), (True, 0.055854082, 114), (False, 0.013787508, 115), (False, 0.015847445, 116), (True, 0.028711379, 117), (True, 0.05049026, 118), (True, 0.051315904, 119), (False, 0.030605972, 120), (False, 0.013289213, 121), (True, 0.050491333, 122), (False, 0.018685281, 123), (True, 0.039655685, 124), (False, 0.018451154, 125), (True, 0.04092121, 126), (False, 0.017409325, 127)]\n"
     ]
    }
   ],
   "source": [
    "print(x)"
   ]
  },
  {
   "cell_type": "code",
   "execution_count": 33,
   "id": "dcb00918",
   "metadata": {},
   "outputs": [
    {
     "name": "stdout",
     "output_type": "stream",
     "text": [
      "40,82,61,66,110,65,121,48,115,116,28,74,127,86,101,5,25,125,123,54,18,32,13,33,16,49,0,34,76,105,56,87,59,120,77,95,113,63,11,30,44,12,69,42,26,36,\n",
      "82 100\n"
     ]
    },
    {
     "data": {
      "application/vnd.jupyter.widget-view+json": {
       "model_id": "ed4c48fdb23b4d60add46b4c4f0c02b4",
       "version_major": 2,
       "version_minor": 0
      },
      "image/png": "[encoded data removed]",
      "text/html": [
       "\n",
       "            <div style=\"display: inline-block;\">\n",
       "                <div class=\"jupyter-widgets widget-label\" style=\"text-align: center;\">\n",
       "                    Figure\n",
       "                </div>\n",
       "                <img src='data:image/png;base64,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' width=640.0/>\n",
       "            </div>\n",
       "        "
      ],
      "text/plain": [
       "Canvas(toolbar=Toolbar(toolitems=[('Home', 'Reset original view', 'home', 'home'), ('Back', 'Back to previous …"
      ]
     },
     "metadata": {},
     "output_type": "display_data"
    }
   ],
   "source": [
    "draw_sorted(sorted_x, colored=True)"
   ]
  },
  {
   "cell_type": "code",
   "execution_count": 34,
   "id": "34f09514",
   "metadata": {},
   "outputs": [
    {
     "data": {
      "text/plain": [
       "962598"
      ]
     },
     "execution_count": 34,
     "metadata": {},
     "output_type": "execute_result"
    }
   ],
   "source": [
    "num_trials(sorted_x, K=38, max_L=42)"
   ]
  },
  {
   "cell_type": "code",
   "execution_count": 43,
   "id": "cd1f5f7a",
   "metadata": {},
   "outputs": [
    {
     "data": {
      "application/vnd.jupyter.widget-view+json": {
       "model_id": "59c93e5bc571442f928154ae39d06bfc",
       "version_major": 2,
       "version_minor": 0
      },
      "text/plain": [
       "  0%|          | 0/25 [00:00<?, ?it/s]"
      ]
     },
     "metadata": {},
     "output_type": "display_data"
    },
    {
     "data": {
      "application/vnd.jupyter.widget-view+json": {
       "model_id": "7bea234cd62b458f907ede0da7b28e20",
       "version_major": 2,
       "version_minor": 0
      },
      "text/plain": [
       "  0%|          | 0/128 [00:00<?, ?it/s]"
      ]
     },
     "metadata": {},
     "output_type": "display_data"
    },
    {
     "data": {
      "application/vnd.jupyter.widget-view+json": {
       "model_id": "b562e43e527c434ca2ff99abd3df28dc",
       "version_major": 2,
       "version_minor": 0
      },
      "text/plain": [
       "  0%|          | 0/128 [00:00<?, ?it/s]"
      ]
     },
     "metadata": {},
     "output_type": "display_data"
    },
    {
     "data": {
      "application/vnd.jupyter.widget-view+json": {
       "model_id": "21705c7cd1ea476fa3f1b24047a51399",
       "version_major": 2,
       "version_minor": 0
      },
      "text/plain": [
       "  0%|          | 0/128 [00:00<?, ?it/s]"
      ]
     },
     "metadata": {},
     "output_type": "display_data"
    },
    {
     "data": {
      "application/vnd.jupyter.widget-view+json": {
       "model_id": "f5c80f6d267047359c8f03797776eec9",
       "version_major": 2,
       "version_minor": 0
      },
      "text/plain": [
       "  0%|          | 0/128 [00:00<?, ?it/s]"
      ]
     },
     "metadata": {},
     "output_type": "display_data"
    },
    {
     "data": {
      "application/vnd.jupyter.widget-view+json": {
       "model_id": "6caa5cb1f5fa462b94f78b6dc44d2de4",
       "version_major": 2,
       "version_minor": 0
      },
      "text/plain": [
       "  0%|          | 0/128 [00:00<?, ?it/s]"
      ]
     },
     "metadata": {},
     "output_type": "display_data"
    },
    {
     "data": {
      "application/vnd.jupyter.widget-view+json": {
       "model_id": "6232d658cf2f4065acea088f74b6141f",
       "version_major": 2,
       "version_minor": 0
      },
      "text/plain": [
       "  0%|          | 0/128 [00:00<?, ?it/s]"
      ]
     },
     "metadata": {},
     "output_type": "display_data"
    },
    {
     "data": {
      "application/vnd.jupyter.widget-view+json": {
       "model_id": "88a9d0e13fa644b1a4f8ac510b1c0b50",
       "version_major": 2,
       "version_minor": 0
      },
      "text/plain": [
       "  0%|          | 0/128 [00:00<?, ?it/s]"
      ]
     },
     "metadata": {},
     "output_type": "display_data"
    },
    {
     "data": {
      "application/vnd.jupyter.widget-view+json": {
       "model_id": "4561ce68247c4039a34bb579b520310d",
       "version_major": 2,
       "version_minor": 0
      },
      "text/plain": [
       "  0%|          | 0/128 [00:00<?, ?it/s]"
      ]
     },
     "metadata": {},
     "output_type": "display_data"
    },
    {
     "data": {
      "application/vnd.jupyter.widget-view+json": {
       "model_id": "788e75bf32064c26977066e17c60bf29",
       "version_major": 2,
       "version_minor": 0
      },
      "text/plain": [
       "  0%|          | 0/128 [00:00<?, ?it/s]"
      ]
     },
     "metadata": {},
     "output_type": "display_data"
    },
    {
     "data": {
      "application/vnd.jupyter.widget-view+json": {
       "model_id": "ee19fdf8f3b848a6b5450acdadf9bace",
       "version_major": 2,
       "version_minor": 0
      },
      "text/plain": [
       "  0%|          | 0/128 [00:00<?, ?it/s]"
      ]
     },
     "metadata": {},
     "output_type": "display_data"
    },
    {
     "data": {
      "application/vnd.jupyter.widget-view+json": {
       "model_id": "28d49ee184aa4e75aec0ccb6d108b9a1",
       "version_major": 2,
       "version_minor": 0
      },
      "text/plain": [
       "  0%|          | 0/128 [00:00<?, ?it/s]"
      ]
     },
     "metadata": {},
     "output_type": "display_data"
    },
    {
     "data": {
      "application/vnd.jupyter.widget-view+json": {
       "model_id": "ecf579ef6dd7426aa5162c4f404aac7e",
       "version_major": 2,
       "version_minor": 0
      },
      "text/plain": [
       "  0%|          | 0/128 [00:00<?, ?it/s]"
      ]
     },
     "metadata": {},
     "output_type": "display_data"
    },
    {
     "data": {
      "application/vnd.jupyter.widget-view+json": {
       "model_id": "a143aa31106a43b4933d3a6b1b4a0eb4",
       "version_major": 2,
       "version_minor": 0
      },
      "text/plain": [
       "  0%|          | 0/128 [00:00<?, ?it/s]"
      ]
     },
     "metadata": {},
     "output_type": "display_data"
    },
    {
     "data": {
      "application/vnd.jupyter.widget-view+json": {
       "model_id": "1bbd5f7df848464486f2ddb99637ac7d",
       "version_major": 2,
       "version_minor": 0
      },
      "text/plain": [
       "  0%|          | 0/128 [00:00<?, ?it/s]"
      ]
     },
     "metadata": {},
     "output_type": "display_data"
    },
    {
     "data": {
      "application/vnd.jupyter.widget-view+json": {
       "model_id": "633fe35823fc4134ba3a8eb4fc1dce17",
       "version_major": 2,
       "version_minor": 0
      },
      "text/plain": [
       "  0%|          | 0/128 [00:00<?, ?it/s]"
      ]
     },
     "metadata": {},
     "output_type": "display_data"
    },
    {
     "data": {
      "application/vnd.jupyter.widget-view+json": {
       "model_id": "6f8f14effeca4ae2a08fac74d792b6c8",
       "version_major": 2,
       "version_minor": 0
      },
      "text/plain": [
       "  0%|          | 0/128 [00:00<?, ?it/s]"
      ]
     },
     "metadata": {},
     "output_type": "display_data"
    },
    {
     "data": {
      "application/vnd.jupyter.widget-view+json": {
       "model_id": "3c0ceb4fc52c44b6840918a8a719bdb7",
       "version_major": 2,
       "version_minor": 0
      },
      "text/plain": [
       "  0%|          | 0/128 [00:00<?, ?it/s]"
      ]
     },
     "metadata": {},
     "output_type": "display_data"
    },
    {
     "data": {
      "application/vnd.jupyter.widget-view+json": {
       "model_id": "bd7c205e9e374999b6102818e6c9aa74",
       "version_major": 2,
       "version_minor": 0
      },
      "text/plain": [
       "  0%|          | 0/128 [00:00<?, ?it/s]"
      ]
     },
     "metadata": {},
     "output_type": "display_data"
    },
    {
     "data": {
      "application/vnd.jupyter.widget-view+json": {
       "model_id": "faf1cfcd80f448a89f44bf8c1740997e",
       "version_major": 2,
       "version_minor": 0
      },
      "text/plain": [
       "  0%|          | 0/128 [00:00<?, ?it/s]"
      ]
     },
     "metadata": {},
     "output_type": "display_data"
    },
    {
     "data": {
      "application/vnd.jupyter.widget-view+json": {
       "model_id": "e3f0cff082d94a16aaa2d28f078c0465",
       "version_major": 2,
       "version_minor": 0
      },
      "text/plain": [
       "  0%|          | 0/128 [00:00<?, ?it/s]"
      ]
     },
     "metadata": {},
     "output_type": "display_data"
    },
    {
     "data": {
      "application/vnd.jupyter.widget-view+json": {
       "model_id": "a39c42bb7b8443188ea79b6797117cca",
       "version_major": 2,
       "version_minor": 0
      },
      "text/plain": [
       "  0%|          | 0/128 [00:00<?, ?it/s]"
      ]
     },
     "metadata": {},
     "output_type": "display_data"
    },
    {
     "data": {
      "application/vnd.jupyter.widget-view+json": {
       "model_id": "b83d35124e174c1bad8fbb3b3ec025b8",
       "version_major": 2,
       "version_minor": 0
      },
      "text/plain": [
       "  0%|          | 0/128 [00:00<?, ?it/s]"
      ]
     },
     "metadata": {},
     "output_type": "display_data"
    },
    {
     "data": {
      "application/vnd.jupyter.widget-view+json": {
       "model_id": "621a2973e35342ec893f98eb58e27d95",
       "version_major": 2,
       "version_minor": 0
      },
      "text/plain": [
       "  0%|          | 0/128 [00:00<?, ?it/s]"
      ]
     },
     "metadata": {},
     "output_type": "display_data"
    },
    {
     "data": {
      "application/vnd.jupyter.widget-view+json": {
       "model_id": "843d8d7cb0464c53ae8ffbce4a848ccd",
       "version_major": 2,
       "version_minor": 0
      },
      "text/plain": [
       "  0%|          | 0/128 [00:00<?, ?it/s]"
      ]
     },
     "metadata": {},
     "output_type": "display_data"
    },
    {
     "data": {
      "application/vnd.jupyter.widget-view+json": {
       "model_id": "8e54f5f67c2747fda41f59aeb836d671",
       "version_major": 2,
       "version_minor": 0
      },
      "text/plain": [
       "  0%|          | 0/128 [00:00<?, ?it/s]"
      ]
     },
     "metadata": {},
     "output_type": "display_data"
    }
   ],
   "source": [
    "num_trial_arr = []\n",
    "\n",
    "for Ni in tqdm(range(N_start, N_stop + N_step, N_step)):\n",
    "    sorted_x, x = read_K(filename(), ths.s[0], n, q, N=Ni, accept_neg=False, ths=ths, mode=1, get_sign_func=get_sign)\n",
    "    num_trial_arr.append(num_trials(sorted_x, K=38, max_L=43))"
   ]
  },
  {
   "cell_type": "code",
   "execution_count": 47,
   "id": "d2972a8a",
   "metadata": {},
   "outputs": [
    {
     "data": {
      "text/plain": [
       "[<matplotlib.lines.Line2D at 0x7f4cc2cc6c50>]"
      ]
     },
     "execution_count": 47,
     "metadata": {},
     "output_type": "execute_result"
    },
    {
     "data": {
      "application/vnd.jupyter.widget-view+json": {
       "model_id": "372dc513c7aa4260ba23b58ebe93bf88",
       "version_major": 2,
       "version_minor": 0
      },
      "image/png": "[encoded data removed]",
      "text/html": [
       "\n",
       "            <div style=\"display: inline-block;\">\n",
       "                <div class=\"jupyter-widgets widget-label\" style=\"text-align: center;\">\n",
       "                    Figure\n",
       "                </div>\n",
       "                <img src='data:image/png;base64,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' width=640.0/>\n",
       "            </div>\n",
       "        "
      ],
      "text/plain": [
       "Canvas(toolbar=Toolbar(toolitems=[('Home', 'Reset original view', 'home', 'home'), ('Back', 'Back to previous …"
      ]
     },
     "metadata": {},
     "output_type": "display_data"
    }
   ],
   "source": [
    "fig, ax = plt.subplots()\n",
    "\n",
    "start = 0\n",
    "while(num_trial_arr[start] == -1):\n",
    "    start += 1\n",
    "\n",
    "x_range = [i for i in range(N_start, N_stop + N_step, N_step)]\n",
    "\n",
    "ax.plot(x_range[start:], [math.log(x) for x in num_trial_arr[start:]])"
   ]
  },
  {
   "cell_type": "code",
   "execution_count": 106,
   "id": "0c5b2fab",
   "metadata": {},
   "outputs": [
    {
     "data": {
      "text/plain": [
       "[<matplotlib.lines.Line2D at 0x7f3d9147e5c0>]"
      ]
     },
     "execution_count": 106,
     "metadata": {},
     "output_type": "execute_result"
    },
    {
     "data": {
      "application/vnd.jupyter.widget-view+json": {
       "model_id": "85bd4d9149c6427a9590569ef4e6a3b4",
       "version_major": 2,
       "version_minor": 0
      },
      "image/png": "[encoded data removed]",
      "text/html": [
       "\n",
       "            <div style=\"display: inline-block;\">\n",
       "                <div class=\"jupyter-widgets widget-label\" style=\"text-align: center;\">\n",
       "                    Figure\n",
       "                </div>\n",
       "                <img src='data:image/png;base64,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' width=640.0/>\n",
       "            </div>\n",
       "        "
      ],
      "text/plain": [
       "Canvas(toolbar=Toolbar(toolitems=[('Home', 'Reset original view', 'home', 'home'), ('Back', 'Back to previous …"
      ]
     },
     "metadata": {},
     "output_type": "display_data"
    }
   ],
   "source": [
    "conv = get_conv(filename(), 3, 'ki', N=18)\n",
    "\n",
    "conv2 = get_conv(filename(), 49, 'ki', N=18)\n",
    "\n",
    "fig, ax = plt.subplots()\n",
    "\n",
    "ax.plot(conv, color='blue')\n",
    "\n",
    "ax.plot(conv2, color='red')"
   ]
  },
  {
   "cell_type": "code",
   "execution_count": 13,
   "id": "30623680",
   "metadata": {},
   "outputs": [],
   "source": [
    "if MODEL_STR == 'packed':\n",
    "    model = scaredcu.models.PackedHammingWeight(expected_dtype='int16')\n",
    "elif MODEL_STR == 'signed_hw':\n",
    "    model = scaredcu.models.SignedHammingWeight(expected_dtype='int16')\n",
    "elif MODEL_STR == 'abs':\n",
    "    model = scaredcu.models.AbsoluteValue()\n",
    "elif MODEL_STR == 'opf':\n",
    "    model = scaredcu.lbc.OPFTableReduction(scaredcu.lbc.modop.Reduction_Q2Q2(q=3329, dtype='int16'),\n",
    "                                           fix0=False, d=NSHARES)"
   ]
  },
  {
   "cell_type": "code",
   "execution_count": 14,
   "id": "a99609c6",
   "metadata": {},
   "outputs": [],
   "source": [
    "def get_prediction_scores(dir_, key, n, N, accept_neg=False, key_prefix='ki', ths=None):\n",
    "    prediction = []\n",
    "    scores_ = []\n",
    "    checks = []\n",
    "\n",
    "    for key_index in tqdm(range(n)):\n",
    "        scores = np.load(f'{dir_}/{key_prefix}_{key_index}_{N}_v.npy')\n",
    "        scores_sorted = np.load(f'{dir_}/{key_prefix}_{key_index}_{N}_k.npy')\n",
    "        scores_.append(scores[0])\n",
    "        guess_low, guess_high = util.unpack_guess(scores_sorted[0], q)\n",
    "        if (guess_low == key[key_index*2] and  guess_high == key[key_index*2 + 1]) or \\\n",
    "        (accept_neg and ((q - guess_low) == key[key_index*2] and  (q - guess_high) == key[key_index*2 + 1])):\n",
    "            check = True\n",
    "        else:\n",
    "            check = False\n",
    "        if (accept_neg and ((q - guess_low) == key[key_index*2] and  (q - guess_high) == key[key_index*2 + 1])):\n",
    "            prediction.append(util.pack_guess((q - guess_low), (q - guess_high), q))\n",
    "        else:\n",
    "            prediction.append(scores_sorted[0])\n",
    "        checks.append(check)\n",
    "\n",
    "    return np.array(prediction, dtype='uint32'), np.array(scores_), checks"
   ]
  },
  {
   "cell_type": "code",
   "execution_count": 15,
   "id": "5be7d696",
   "metadata": {},
   "outputs": [],
   "source": [
    "def basemul_imp(c, s, frame):\n",
    "    if REDUCTION == 'MONTGOMERY':\n",
    "        basemul_imp_ = scaredcu.lbc.kyber.base.BaseMulMonty()\n",
    "    elif REDUCTION == 'PLANTARD':\n",
    "        basemul_imp_ = scaredcu.lbc.kyber.base.BaseMulPlantard()\n",
    "    if TARGET == 'low':\n",
    "        return basemul_imp_.basemul(c, s, frame=frame, low=True, high=False)\n",
    "    elif TARGET == 'high':\n",
    "        return basemul_imp_.basemul(c, s, frame=frame, low=False, high=True)\n",
    "    elif TARGET == 'lowhigh':\n",
    "        return basemul_imp_.basemul(c, s, frame=frame, low=True, high=True)"
   ]
  },
  {
   "cell_type": "code",
   "execution_count": 16,
   "id": "a7c7780d",
   "metadata": {},
   "outputs": [],
   "source": [
    "def horizontal_reverse_batch(ths, model, subkeys_known, subkeys_unknown, predictions_known, predictions_unknown, dtype, incomplete=True, d=1):\n",
    "\n",
    "    key_index_ = 0\n",
    "    key_index__ = 0\n",
    "\n",
    "    mode = 0\n",
    "\n",
    "    N_ = len(ths)\n",
    "\n",
    "    subkeys_known = list(subkeys_known)[:2]\n",
    "    predictions_known = list(predictions_known)[:2]\n",
    "\n",
    "    assert len(subkeys_known) == len(predictions_known)\n",
    "    assert len(subkeys_unknown) == len(predictions_unknown)\n",
    "\n",
    "    if incomplete:\n",
    "        predictions_known_unpacked = []\n",
    "        for p in predictions_known:\n",
    "            l, h = util.unpack_guess(p, q)\n",
    "            predictions_known_unpacked.append(l)\n",
    "            predictions_known_unpacked.append(h)\n",
    "        predictions_known_unpacked = cp.array(predictions_known_unpacked)\n",
    "\n",
    "        predictions_unknown_unpacked = []\n",
    "        for p in predictions_unknown:\n",
    "            l, h = util.unpack_guess(p, q)\n",
    "            predictions_unknown_unpacked.append(l)\n",
    "            predictions_unknown_unpacked.append(h)\n",
    "        predictions_unknown_unpacked = cp.array(predictions_unknown_unpacked)\n",
    "\n",
    "        subkeys_known_unpacked = []\n",
    "        for key_index in subkeys_known:\n",
    "            subkeys_known_unpacked.append(key_index*2)\n",
    "            subkeys_known_unpacked.append(key_index*2 + 1)\n",
    "        subkeys_known_unpacked = cp.array(subkeys_known_unpacked)\n",
    "        \n",
    "        subkeys_unknown_unpacked = []\n",
    "        for key_index in subkeys_unknown:\n",
    "            subkeys_unknown_unpacked.append(key_index*2)\n",
    "            subkeys_unknown_unpacked.append(key_index*2 + 1)\n",
    "        subkeys_unknown_unpacked = cp.array(subkeys_unknown_unpacked)\n",
    "    else:\n",
    "        predictions_known_unpacked = predictions_known\n",
    "        predictions_unknown_unpacked = predictions_unknown\n",
    "        subkeys_known_unpacked = subkeys_known\n",
    "        subkeys_unknown_unpacked = subkeys_unknown\n",
    "\n",
    "\n",
    "    def key_index_unpacked(ki):\n",
    "        if incomplete:\n",
    "            return range(ki*2, ki*2 + 2)\n",
    "        else:\n",
    "            return range(ki, ki + 1)\n",
    "\n",
    "\n",
    "\n",
    "    @scaredcu.reverse_selection_function\n",
    "    def base_mul(c):\n",
    "        if mode == 0:\n",
    "            predictions_repeated = cp.repeat(cp.array(predictions_known_unpacked[cp.newaxis, key_index_unpacked(key_index_)]), len(subkeys_unknown), axis=0)\n",
    "            z = basemul_imp(c[:, cp.newaxis, key_index_unpacked(key_index_)], predictions_repeated[cp.newaxis, :, :], frame=range(key_index_, key_index_ + 1))\n",
    "        else:\n",
    "            z = basemul_imp(c[:, subkeys_unknown_unpacked], cp.array(predictions_unknown_unpacked), frame=subkeys_unknown)\n",
    "        return z  \n",
    "\n",
    "\n",
    "    cpa_reverse = scaredcu.CPAReverse(base_mul, model=model)\n",
    "\n",
    "\n",
    "    for key_index in subkeys_known:\n",
    "\n",
    "        key_index_ = key_index\n",
    "\n",
    "        def mean_free_prod(ths):\n",
    "            return cp.tile(ths[:,get_poi(N_, key_index_)], len(subkeys_unknown))\n",
    "        preprocesses = [mean_free_prod]\n",
    "\n",
    "        container = scaredcu.container.Container(ths, preprocesses=preprocesses)\n",
    "        cpa_reverse.run(container)\n",
    "\n",
    "        key_index__ += 1\n",
    "\n",
    "    mode = 1\n",
    "\n",
    "\n",
    "    def mean_free_prod(ths):\n",
    "        # _n = ths.shape[1] // d\n",
    "        # ths_ = (ths - mean)\n",
    "        # ths_pp = ths_[...,:_n]\n",
    "        # for i in range(1, d):\n",
    "        #     ths_pp = ths_pp * ths_[...,i*_n:(i+1)*_n]\n",
    "        t = []\n",
    "        for k in subkeys_unknown:\n",
    "            f = get_poi(N_, k)\n",
    "            for i in f:\n",
    "                t.append(i)\n",
    "        return ths[:,t]\n",
    "    preprocesses = [mean_free_prod]\n",
    "\n",
    "    container = scaredcu.container.Container(ths, preprocesses=preprocesses)\n",
    "    cpa_reverse.run(container)\n",
    "\n",
    "\n",
    "    return cpa_reverse\n",
    "\n",
    "\n",
    "\n",
    "\n",
    "def reverse_selection_sort_batch(ths, prediction, scores, model, dtype='int16', n=128, debug_checks=None, test_neg=False, debug=True, debug_l2=False, target=None, d=1):\n",
    "\n",
    "\n",
    "    cpa_prediction = prediction\n",
    "    cpa_prediction_scores = scores\n",
    "    sorted_subkeys = cpa_prediction_scores.argsort()[::-1]\n",
    "\n",
    "    sort_scores = np.empty(n)\n",
    "    sort_scores[sorted_subkeys[0]] = 0\n",
    "    test_predictions = np.copy(cpa_prediction[sorted_subkeys]).astype(prediction.dtype)\n",
    "\n",
    "    flags = [False] * n\n",
    "\n",
    "    if target is None:\n",
    "        target = n\n",
    "\n",
    "\n",
    "    if debug_l2:\n",
    "        for j, i in enumerate(sorted_subkeys):\n",
    "            if (debug_checks[i]):\n",
    "                print(\"\\033[92m\", end='')\n",
    "            else:\n",
    "                print(\"\\033[91m\", end='')\n",
    "            print(f\"{i} {cpa_prediction_scores[i]}\", end='\\t')\n",
    "            if (j % 4) == 3:\n",
    "                print()\n",
    "        print(\"\\033[0m\", end='')\n",
    "\n",
    "    idy = 1\n",
    "    while idy < target:\n",
    "        if debug_l2:\n",
    "            print(f\"Processing: {idy}\")\n",
    "            print(f\"subkeys: {sorted_subkeys[:idy]}\")\n",
    "            print(f\"Known: {test_predictions[:idy]}\")\n",
    "            print(f\"Unknown: {test_predictions[idy:]}\")\n",
    "        cpa_reverse = horizontal_reverse_batch(ths, model, sorted_subkeys[:idy], sorted_subkeys[idy:],\n",
    "                                               test_predictions[:idy], test_predictions[idy:], dtype=dtype, d=d)\n",
    "\n",
    "        if test_neg:\n",
    "            test_predictions[idy:] = reduction.reduce(reduction.q - test_predictions[idy:])\n",
    "            cpa_reverse_neg = horizontal_reverse_batch(ths, reduction, model, sorted_subkeys[:idy], sorted_subkeys[idy:],\n",
    "                                                test_predictions[:idy], test_predictions[idy:], d=d)\n",
    "            test_predictions[idy:] = reduction.reduce(reduction.q - test_predictions[idy:])\n",
    "        \n",
    "        for i, subkey in enumerate(sorted_subkeys[idy:]):\n",
    "            if test_neg and abs(cpa_reverse_neg.results[i,i]) > abs(cpa_reverse.results[i,i]):\n",
    "                test_score = abs(cpa_reverse_neg.results[i,i])\n",
    "                flags[subkey] = True\n",
    "            else:\n",
    "                test_score = abs(cp.abs(cpa_reverse.results[i, 0, i]))\n",
    "                flags[subkey] = False\n",
    "            sort_scores[subkey] = test_score\n",
    "            if debug_l2:\n",
    "                if (debug_checks[subkey]):\n",
    "                    print(\"\\033[92m\", end='')\n",
    "                else:\n",
    "                    print(\"\\033[91m\", end='')\n",
    "                print(f\"Score: {subkey}, {test_score}\")\n",
    "        max_subkey = np.argmax(sort_scores)\n",
    "        sort_scores[max_subkey] = 0\n",
    "        if flags[max_subkey]:\n",
    "            prediction = reduction.reduce(reduction.q - cpa_prediction[max_subkey])\n",
    "        else:\n",
    "            prediction = cpa_prediction[max_subkey]\n",
    "        max_subkey_index = np.argwhere(sorted_subkeys == max_subkey)[0]\n",
    "        temp = sorted_subkeys[idy]\n",
    "        sorted_subkeys[idy] = max_subkey\n",
    "        sorted_subkeys[max_subkey_index] =  temp\n",
    "        temp = test_predictions[idy]\n",
    "        test_predictions[idy] = prediction\n",
    "        test_predictions[max_subkey_index] = temp\n",
    "\n",
    "\n",
    "        idy += 1\n",
    "\n",
    "        if debug_l2:\n",
    "            print(f\"Scores\")\n",
    "            for j, i in enumerate(sort_scores):\n",
    "                print(f\"{i} {i}\", end='\\t')\n",
    "                if (j % 4) == 3:\n",
    "                    print()\n",
    "\n",
    "        if debug_l2:\n",
    "            for j, i in enumerate(sorted_subkeys[:idy]):\n",
    "                if (debug_checks[i]):\n",
    "                    print(\"\\033[92m\", end='')\n",
    "                else:\n",
    "                    print(\"\\033[91m\", end='')\n",
    "                print(f\"{i}\", end='\\t')\n",
    "                if (j % 4) == 3:\n",
    "                    print()\n",
    "            print(\"\\033[0m\", end='')\n",
    "        elif debug:\n",
    "            j = idy - 1\n",
    "            i = sorted_subkeys[j]\n",
    "            if (debug_checks[i]):\n",
    "                print(\"\\033[92m\", end='')\n",
    "            else:\n",
    "                print(\"\\033[91m\", end='')\n",
    "            print(f\"{i}\", end='\\t')\n",
    "            if (j % 4) == 0:\n",
    "                print()\n",
    "\n",
    "    return sorted_subkeys, test_predictions"
   ]
  },
  {
   "cell_type": "code",
   "execution_count": 17,
   "id": "7145f4f2",
   "metadata": {},
   "outputs": [],
   "source": [
    "NT = 17"
   ]
  },
  {
   "cell_type": "code",
   "execution_count": 18,
   "id": "b0bee337",
   "metadata": {},
   "outputs": [
    {
     "data": {
      "application/vnd.jupyter.widget-view+json": {
       "model_id": "663ff7a0e7754f3287e26bafcea68f99",
       "version_major": 2,
       "version_minor": 0
      },
      "text/plain": [
       "  0%|          | 0/128 [00:00<?, ?it/s]"
      ]
     },
     "metadata": {},
     "output_type": "display_data"
    }
   ],
   "source": [
    "prediction, prediction_scores, checks = get_prediction_scores(filename(), ths.s[0], n, NT, key_prefix='ki', accept_neg=True, ths=ths)"
   ]
  },
  {
   "cell_type": "code",
   "execution_count": 19,
   "id": "0aeafe12",
   "metadata": {},
   "outputs": [],
   "source": [
    "ths_cp = scaredcu.estraces.ets_format.read_ths_from_ets_file(f'traces/kyber_basemult_{REDUCTION.lower()}_d{NSHARES}_t{THS_ID}.ets')"
   ]
  },
  {
   "cell_type": "code",
   "execution_count": 20,
   "id": "a3f9f441",
   "metadata": {},
   "outputs": [
    {
     "data": {
      "text/plain": [
       "((564, 636), 564, 636)"
      ]
     },
     "execution_count": 20,
     "metadata": {},
     "output_type": "execute_result"
    }
   ],
   "source": [
    "ki = 29\n",
    "util.unpack_guess(prediction[ki], q), ths.s[0][ki*2], ths.s[0][ki*2 + 1]"
   ]
  },
  {
   "cell_type": "code",
   "execution_count": 21,
   "id": "e5c65c0b",
   "metadata": {},
   "outputs": [],
   "source": [
    "ths_cp_pp = scaredcu.estraces.gpu_format.read_ths_from_ram(scaredcu.preprocesses.standardize(ths_cp.samples[:NT]), s=ths_cp.s[:NT], c=ths_cp.c[:NT])"
   ]
  },
  {
   "cell_type": "code",
   "execution_count": 24,
   "id": "0003bf68",
   "metadata": {},
   "outputs": [
    {
     "name": "stdout",
     "output_type": "stream",
     "text": [
      "\u001b[92m4 0.9788103103637695\t\u001b[92m67 0.9786823987960815\t\u001b[92m52 0.9746226668357849\t\u001b[92m15 0.9726152420043945\t\n",
      "\u001b[91m49 0.970970094203949\t\u001b[92m98 0.9682838916778564\t\u001b[92m39 0.9668884873390198\t\u001b[92m91 0.9658326506614685\t\n",
      "\u001b[92m9 0.9657359719276428\t\u001b[92m114 0.9651525020599365\t\u001b[92m79 0.9649550914764404\t\u001b[92m10 0.9646263122558594\t\n",
      "\u001b[91m70 0.9644065499305725\t\u001b[91m118 0.9641147255897522\t\u001b[91m105 0.963887631893158\t\u001b[92m90 0.9638192057609558\t\n",
      "\u001b[92m119 0.9635623693466187\t\u001b[92m100 0.962946891784668\t\u001b[92m24 0.962285041809082\t\u001b[92m6 0.9619315266609192\t\n",
      "\u001b[91m101 0.9614706635475159\t\u001b[92m50 0.9608654975891113\t\u001b[91m120 0.9601415395736694\t\u001b[92m83 0.9592719078063965\t\n",
      "\u001b[92m36 0.9587594270706177\t\u001b[92m22 0.9578209519386292\t\u001b[91m124 0.9573771953582764\t\u001b[92m43 0.957196831703186\t\n",
      "\u001b[91m77 0.9567310214042664\t\u001b[91m66 0.9567307829856873\t\u001b[92m107 0.9559650421142578\t\u001b[92m73 0.9557784795761108\t\n",
      "\u001b[92m97 0.9556267261505127\t\u001b[91m41 0.9552361369132996\t\u001b[91m28 0.9551284313201904\t\u001b[92m23 0.9549415707588196\t\n",
      "\u001b[92m93 0.9547446966171265\t\u001b[92m122 0.9544658660888672\t\u001b[91m102 0.954235851764679\t\u001b[91m51 0.9541833400726318\t\n",
      "\u001b[91m115 0.9539443254470825\t\u001b[92m60 0.9539170265197754\t\u001b[92m75 0.9534101486206055\t\u001b[92m68 0.9524904489517212\t\n",
      "\u001b[92m31 0.9522963166236877\t\u001b[92m109 0.9520134329795837\t\u001b[91m116 0.9520122408866882\t\u001b[91m88 0.9516185522079468\t\n",
      "\u001b[91m111 0.9515933990478516\t\u001b[91m38 0.951559841632843\t\u001b[91m99 0.9510713219642639\t\u001b[92m57 0.950685977935791\t\n",
      "\u001b[91m26 0.9502568244934082\t\u001b[92m92 0.9497506618499756\t\u001b[92m45 0.949408233165741\t\u001b[91m62 0.9492232203483582\t\n",
      "\u001b[91m94 0.9490129947662354\t\u001b[91m5 0.9488024711608887\t\u001b[91m64 0.9487424492835999\t\u001b[91m42 0.9484780430793762\t\n",
      "\u001b[91m74 0.9484474062919617\t\u001b[92m14 0.9483348727226257\t\u001b[91m86 0.9479112029075623\t\u001b[92m44 0.9473212361335754\t\n",
      "\u001b[92m37 0.9472857713699341\t\u001b[91m13 0.9472846984863281\t\u001b[92m85 0.9472454786300659\t\u001b[91m3 0.9470415115356445\t\n",
      "\u001b[91m104 0.9470139741897583\t\u001b[91m1 0.9461738467216492\t\u001b[92m78 0.9461633563041687\t\u001b[91m65 0.9461557269096375\t\n",
      "\u001b[91m18 0.9459741115570068\t\u001b[91m87 0.9458075761795044\t\u001b[92m20 0.9456746578216553\t\u001b[91m59 0.9455490708351135\t\n",
      "\u001b[92m126 0.9452788233757019\t\u001b[91m33 0.9451161026954651\t\u001b[91m103 0.9449113607406616\t\u001b[92m84 0.9443311095237732\t\n",
      "\u001b[92m55 0.9442577362060547\t\u001b[91m12 0.9437364935874939\t\u001b[92m2 0.9436953067779541\t\u001b[91m54 0.9431840777397156\t\n",
      "\u001b[91m112 0.9428130984306335\t\u001b[91m63 0.9427705407142639\t\u001b[91m95 0.9427284598350525\t\u001b[91m46 0.9422409534454346\t\n",
      "\u001b[91m72 0.9422155022621155\t\u001b[91m58 0.9418954253196716\t\u001b[92m30 0.9418619275093079\t\u001b[92m113 0.9417827725410461\t\n",
      "\u001b[92m21 0.9417532682418823\t\u001b[91m7 0.9414329528808594\t\u001b[92m71 0.9411259293556213\t\u001b[91m8 0.9405779242515564\t\n",
      "\u001b[91m34 0.9405616521835327\t\u001b[91m127 0.9402377009391785\t\u001b[92m29 0.9399353861808777\t\u001b[91m11 0.9398381114006042\t\n",
      "\u001b[91m89 0.9395663738250732\t\u001b[91m32 0.9392717480659485\t\u001b[92m81 0.9389707446098328\t\u001b[91m69 0.9387327432632446\t\n",
      "\u001b[91m110 0.9376382231712341\t\u001b[91m61 0.9373897314071655\t\u001b[92m76 0.9371010065078735\t\u001b[91m108 0.936897873878479\t\n",
      "\u001b[92m19 0.9367262721061707\t\u001b[91m106 0.9366351366043091\t\u001b[92m27 0.9352549314498901\t\u001b[92m117 0.9347814917564392\t\n",
      "\u001b[91m48 0.9338753819465637\t\u001b[91m16 0.933871865272522\t\u001b[91m125 0.9336149096488953\t\u001b[92m53 0.9336028695106506\t\n",
      "\u001b[91m82 0.9334679245948792\t\u001b[92m123 0.9331409335136414\t\u001b[92m17 0.9330744743347168\t\u001b[91m80 0.9328085780143738\t\n",
      "\u001b[91m0 0.932266116142273\t\u001b[91m40 0.9298422336578369\t\u001b[91m56 0.9292911887168884\t\u001b[91m96 0.9289965629577637\t\n",
      "\u001b[91m47 0.9275031685829163\t\u001b[91m35 0.9270140528678894\t\u001b[91m25 0.9255102276802063\t\u001b[91m121 0.9251106977462769\t\n",
      "\u001b[0mProcessing: 1\n",
      "subkeys: [4]\n",
      "Known: [6944604]\n",
      "Unknown: [10329808  3134341  2250267  3221051  8360658  3934417  3638922  1663190\n",
      "  8132748  5552775  2705868  3424292  9309890  2702474  3012966  4751588\n",
      "  6504933  3813203 10964653  2790449  3036507  3012443  8662897  4233782\n",
      "  6592259  3691027  4717252  4528545  3660592  7034647  5329203  5630645\n",
      "   529581  7609902  1796643  3446720  7388827  8548286  9121841  4039586\n",
      "  5465655  6407531 10547124  4769663  5348928  9562853  7536394  4924071\n",
      "  8869402  3432840  5911959  6985639  1571626   841297 10068571 10033192\n",
      "  9553434 10461352  7848941  2872768  5596780  9046063   158828  2058899\n",
      "  9029767    24459   207717  5003276  6132533  7098000  6404695  5756991\n",
      "  2549126  2690791  8962484  5511150  1168185  7956980  4527826  7949032\n",
      " 10887398  1834739  3186221  5097424  6301864  1758181  4651444  1261195\n",
      "  1696507  5338057  5764877  4930530 10575258  6744935 10327384  1674584\n",
      " 10474272  2117808  6382468  4885652  7610951  7684347  9583543 10614740\n",
      " 11074074  8375904  8347310  5587271  7390864    42311  7057634  1910111\n",
      "  6413775  5778370  2611184  3267611  3227067  7496643  8276931  2370331\n",
      "  4855961   344299  6859450 10975047   790883  7410451 10871517]\n",
      "\u001b[92mScore: 67, 0.9705402255058289\n",
      "\u001b[92mScore: 52, 0.9664403796195984\n",
      "\u001b[92mScore: 15, 0.923608660697937\n",
      "\u001b[91mScore: 49, 0.07412338256835938\n",
      "\u001b[92mScore: 98, 0.9446162581443787\n",
      "\u001b[92mScore: 39, 0.9632361531257629\n",
      "\u001b[92mScore: 91, 0.9515422582626343\n",
      "\u001b[92mScore: 9, 0.9580578207969666\n",
      "\u001b[92mScore: 114, 0.9479724168777466\n",
      "\u001b[92mScore: 79, 0.9555652141571045\n",
      "\u001b[92mScore: 10, 0.9564666748046875\n",
      "\u001b[91mScore: 70, 0.9205432534217834\n",
      "\u001b[91mScore: 118, 0.07435593008995056\n",
      "\u001b[91mScore: 105, 0.18571388721466064\n",
      "\u001b[92mScore: 90, 0.961470365524292\n",
      "\u001b[92mScore: 119, 0.9503620862960815\n",
      "\u001b[92mScore: 100, 0.9528194665908813\n",
      "\u001b[92mScore: 24, 0.9247758388519287\n",
      "\u001b[92mScore: 6, 0.9342470765113831\n",
      "\u001b[91mScore: 101, 0.19894996285438538\n",
      "\u001b[92mScore: 50, 0.9660569429397583\n",
      "\u001b[91mScore: 120, 0.9150247573852539\n",
      "\u001b[92mScore: 83, 0.9536356329917908\n",
      "\u001b[92mScore: 36, 0.9548572301864624\n",
      "\u001b[92mScore: 22, 0.9630386829376221\n",
      "\u001b[91mScore: 124, 0.9009711742401123\n",
      "\u001b[92mScore: 43, 0.9539704918861389\n",
      "\u001b[91mScore: 77, 0.9311389923095703\n",
      "\u001b[91mScore: 66, 0.13167619705200195\n",
      "\u001b[92mScore: 107, 0.9505065679550171\n",
      "\u001b[92mScore: 73, 0.9292808771133423\n",
      "\u001b[92mScore: 97, 0.9541913270950317\n",
      "\u001b[91mScore: 41, 0.06130937114357948\n",
      "\u001b[91mScore: 28, 0.17058180272579193\n",
      "\u001b[92mScore: 23, 0.9562588334083557\n",
      "\u001b[92mScore: 93, 0.9418628811836243\n",
      "\u001b[92mScore: 122, 0.9605038166046143\n",
      "\u001b[91mScore: 102, 0.024124406278133392\n",
      "\u001b[91mScore: 51, 0.07830371707677841\n",
      "\u001b[91mScore: 115, 0.9172492027282715\n",
      "\u001b[92mScore: 60, 0.9118433594703674\n",
      "\u001b[92mScore: 75, 0.933634877204895\n",
      "\u001b[92mScore: 68, 0.9529644846916199\n",
      "\u001b[92mScore: 31, 0.9146828055381775\n",
      "\u001b[92mScore: 109, 0.9418423175811768\n",
      "\u001b[91mScore: 116, 0.8484249711036682\n",
      "\u001b[91mScore: 88, 0.08764469623565674\n",
      "\u001b[91mScore: 111, 0.012147936038672924\n",
      "\u001b[91mScore: 38, 0.9303483963012695\n",
      "\u001b[91mScore: 99, 0.9209701418876648\n",
      "\u001b[92mScore: 57, 0.9530813694000244\n",
      "\u001b[91mScore: 26, 0.10934838652610779\n",
      "\u001b[92mScore: 92, 0.9344991445541382\n",
      "\u001b[92mScore: 45, 0.9253783226013184\n",
      "\u001b[91mScore: 62, 0.3128683567047119\n",
      "\u001b[91mScore: 94, 0.14685049653053284\n",
      "\u001b[91mScore: 5, 0.0068983533419668674\n",
      "\u001b[91mScore: 64, 0.11747238039970398\n",
      "\u001b[91mScore: 42, 0.9145252704620361\n",
      "\u001b[91mScore: 74, 0.1769518405199051\n",
      "\u001b[92mScore: 14, 0.9530885219573975\n",
      "\u001b[91mScore: 86, 0.18566085398197174\n",
      "\u001b[92mScore: 44, 0.9559198021888733\n",
      "\u001b[92mScore: 37, 0.9246609210968018\n",
      "\u001b[91mScore: 13, 0.904984712600708\n",
      "\u001b[92mScore: 85, 0.9429495930671692\n",
      "\u001b[91mScore: 3, 0.9500817656517029\n",
      "\u001b[91mScore: 104, 0.9039382338523865\n",
      "\u001b[91mScore: 1, 0.0901603251695633\n",
      "\u001b[92mScore: 78, 0.9424983263015747\n",
      "\u001b[91mScore: 65, 0.023560700938105583\n",
      "\u001b[91mScore: 18, 0.11111094057559967\n",
      "\u001b[91mScore: 87, 0.9091643691062927\n",
      "\u001b[92mScore: 20, 0.9592573046684265\n",
      "\u001b[91mScore: 59, 0.015893254429101944\n",
      "\u001b[92mScore: 126, 0.9337728023529053\n",
      "\u001b[91mScore: 33, 0.9167404174804688\n",
      "\u001b[91mScore: 103, 0.003015137743204832\n",
      "\u001b[92mScore: 84, 0.9504702687263489\n",
      "\u001b[92mScore: 55, 0.9256769418716431\n",
      "\u001b[91mScore: 12, 0.8550442457199097\n",
      "\u001b[92mScore: 2, 0.9562039971351624\n",
      "\u001b[91mScore: 54, 0.15604524314403534\n",
      "\u001b[91mScore: 112, 0.02721952274441719\n",
      "\u001b[91mScore: 63, 0.944701611995697\n",
      "\u001b[91mScore: 95, 0.9327269196510315\n",
      "\u001b[91mScore: 46, 0.07625233381986618\n",
      "\u001b[91mScore: 72, 0.25939488410949707\n",
      "\u001b[91mScore: 58, 0.9416033625602722\n",
      "\u001b[92mScore: 30, 0.9518519639968872\n",
      "\u001b[92mScore: 113, 0.9371371865272522\n",
      "\u001b[92mScore: 21, 0.9501158595085144\n",
      "\u001b[91mScore: 7, 0.06152966246008873\n",
      "\u001b[92mScore: 71, 0.9424697756767273\n",
      "\u001b[91mScore: 8, 0.15375176072120667\n",
      "\u001b[91mScore: 34, 0.9324801564216614\n",
      "\u001b[91mScore: 127, 0.9187624454498291\n",
      "\u001b[92mScore: 29, 0.932580292224884\n",
      "\u001b[91mScore: 11, 0.05659150332212448\n",
      "\u001b[91mScore: 89, 0.9073899984359741\n",
      "\u001b[91mScore: 32, 0.05369943007826805\n",
      "\u001b[92mScore: 81, 0.9085186123847961\n",
      "\u001b[91mScore: 69, 0.8820620775222778\n",
      "\u001b[91mScore: 110, 0.05214773491024971\n",
      "\u001b[91mScore: 61, 0.9348452687263489\n",
      "\u001b[92mScore: 76, 0.933479368686676\n",
      "\u001b[91mScore: 108, 0.2813683748245239\n",
      "\u001b[92mScore: 19, 0.9319877624511719\n",
      "\u001b[91mScore: 106, 0.8917260766029358\n",
      "\u001b[92mScore: 27, 0.9255457520484924\n",
      "\u001b[92mScore: 117, 0.9096900224685669\n",
      "\u001b[91mScore: 48, 0.18885578215122223\n",
      "\u001b[91mScore: 16, 0.9170427918434143\n",
      "\u001b[91mScore: 125, 0.922345757484436\n",
      "\u001b[92mScore: 53, 0.9471475481987\n",
      "\u001b[91mScore: 82, 0.812640905380249\n",
      "\u001b[92mScore: 123, 0.9459632635116577\n",
      "\u001b[92mScore: 17, 0.9339587688446045\n",
      "\u001b[91mScore: 80, 0.11436200141906738\n",
      "\u001b[91mScore: 0, 0.019273366779088974\n",
      "\u001b[91mScore: 40, 0.1737453192472458\n",
      "\u001b[91mScore: 56, 0.8693186044692993\n",
      "\u001b[91mScore: 96, 0.16070403158664703\n",
      "\u001b[91mScore: 47, 0.8655081987380981\n",
      "\u001b[91mScore: 35, 0.16986510157585144\n",
      "\u001b[91mScore: 25, 0.8729846477508545\n",
      "\u001b[91mScore: 121, 0.049799200147390366\n",
      "Scores\n",
      "0.019273366779088974 0.019273366779088974\t0.0901603251695633 0.0901603251695633\t0.9562039971351624 0.9562039971351624\t0.9500817656517029 0.9500817656517029\t\n",
      "0.0 0.0\t0.0068983533419668674 0.0068983533419668674\t0.9342470765113831 0.9342470765113831\t0.06152966246008873 0.06152966246008873\t\n",
      "0.15375176072120667 0.15375176072120667\t0.9580578207969666 0.9580578207969666\t0.9564666748046875 0.9564666748046875\t0.05659150332212448 0.05659150332212448\t\n",
      "0.8550442457199097 0.8550442457199097\t0.904984712600708 0.904984712600708\t0.9530885219573975 0.9530885219573975\t0.923608660697937 0.923608660697937\t\n",
      "0.9170427918434143 0.9170427918434143\t0.9339587688446045 0.9339587688446045\t0.11111094057559967 0.11111094057559967\t0.9319877624511719 0.9319877624511719\t\n",
      "0.9592573046684265 0.9592573046684265\t0.9501158595085144 0.9501158595085144\t0.9630386829376221 0.9630386829376221\t0.9562588334083557 0.9562588334083557\t\n",
      "0.9247758388519287 0.9247758388519287\t0.8729846477508545 0.8729846477508545\t0.10934838652610779 0.10934838652610779\t0.9255457520484924 0.9255457520484924\t\n",
      "0.17058180272579193 0.17058180272579193\t0.932580292224884 0.932580292224884\t0.9518519639968872 0.9518519639968872\t0.9146828055381775 0.9146828055381775\t\n",
      "0.05369943007826805 0.05369943007826805\t0.9167404174804688 0.9167404174804688\t0.9324801564216614 0.9324801564216614\t0.16986510157585144 0.16986510157585144\t\n",
      "0.9548572301864624 0.9548572301864624\t0.9246609210968018 0.9246609210968018\t0.9303483963012695 0.9303483963012695\t0.9632361531257629 0.9632361531257629\t\n",
      "0.1737453192472458 0.1737453192472458\t0.06130937114357948 0.06130937114357948\t0.9145252704620361 0.9145252704620361\t0.9539704918861389 0.9539704918861389\t\n",
      "0.9559198021888733 0.9559198021888733\t0.9253783226013184 0.9253783226013184\t0.07625233381986618 0.07625233381986618\t0.8655081987380981 0.8655081987380981\t\n",
      "0.18885578215122223 0.18885578215122223\t0.07412338256835938 0.07412338256835938\t0.9660569429397583 0.9660569429397583\t0.07830371707677841 0.07830371707677841\t\n",
      "0.9664403796195984 0.9664403796195984\t0.9471475481987 0.9471475481987\t0.15604524314403534 0.15604524314403534\t0.9256769418716431 0.9256769418716431\t\n",
      "0.8693186044692993 0.8693186044692993\t0.9530813694000244 0.9530813694000244\t0.9416033625602722 0.9416033625602722\t0.015893254429101944 0.015893254429101944\t\n",
      "0.9118433594703674 0.9118433594703674\t0.9348452687263489 0.9348452687263489\t0.3128683567047119 0.3128683567047119\t0.944701611995697 0.944701611995697\t\n",
      "0.11747238039970398 0.11747238039970398\t0.023560700938105583 0.023560700938105583\t0.13167619705200195 0.13167619705200195\t0.0 0.0\t\n",
      "0.9529644846916199 0.9529644846916199\t0.8820620775222778 0.8820620775222778\t0.9205432534217834 0.9205432534217834\t0.9424697756767273 0.9424697756767273\t\n",
      "0.25939488410949707 0.25939488410949707\t0.9292808771133423 0.9292808771133423\t0.1769518405199051 0.1769518405199051\t0.933634877204895 0.933634877204895\t\n",
      "0.933479368686676 0.933479368686676\t0.9311389923095703 0.9311389923095703\t0.9424983263015747 0.9424983263015747\t0.9555652141571045 0.9555652141571045\t\n",
      "0.11436200141906738 0.11436200141906738\t0.9085186123847961 0.9085186123847961\t0.812640905380249 0.812640905380249\t0.9536356329917908 0.9536356329917908\t\n",
      "0.9504702687263489 0.9504702687263489\t0.9429495930671692 0.9429495930671692\t0.18566085398197174 0.18566085398197174\t0.9091643691062927 0.9091643691062927\t\n",
      "0.08764469623565674 0.08764469623565674\t0.9073899984359741 0.9073899984359741\t0.961470365524292 0.961470365524292\t0.9515422582626343 0.9515422582626343\t\n",
      "0.9344991445541382 0.9344991445541382\t0.9418628811836243 0.9418628811836243\t0.14685049653053284 0.14685049653053284\t0.9327269196510315 0.9327269196510315\t\n",
      "0.16070403158664703 0.16070403158664703\t0.9541913270950317 0.9541913270950317\t0.9446162581443787 0.9446162581443787\t0.9209701418876648 0.9209701418876648\t\n",
      "0.9528194665908813 0.9528194665908813\t0.19894996285438538 0.19894996285438538\t0.024124406278133392 0.024124406278133392\t0.003015137743204832 0.003015137743204832\t\n",
      "0.9039382338523865 0.9039382338523865\t0.18571388721466064 0.18571388721466064\t0.8917260766029358 0.8917260766029358\t0.9505065679550171 0.9505065679550171\t\n",
      "0.2813683748245239 0.2813683748245239\t0.9418423175811768 0.9418423175811768\t0.05214773491024971 0.05214773491024971\t0.012147936038672924 0.012147936038672924\t\n",
      "0.02721952274441719 0.02721952274441719\t0.9371371865272522 0.9371371865272522\t0.9479724168777466 0.9479724168777466\t0.9172492027282715 0.9172492027282715\t\n",
      "0.8484249711036682 0.8484249711036682\t0.9096900224685669 0.9096900224685669\t0.07435593008995056 0.07435593008995056\t0.9503620862960815 0.9503620862960815\t\n",
      "0.9150247573852539 0.9150247573852539\t0.049799200147390366 0.049799200147390366\t0.9605038166046143 0.9605038166046143\t0.9459632635116577 0.9459632635116577\t\n",
      "0.9009711742401123 0.9009711742401123\t0.922345757484436 0.922345757484436\t0.9337728023529053 0.9337728023529053\t0.9187624454498291 0.9187624454498291\t\n",
      "\u001b[92m4\t\u001b[92m67\t\u001b[0m"
     ]
    }
   ],
   "source": [
    "sorted_subkeys, test_predictions = reverse_selection_sort_batch(ths_cp_pp[:NT], prediction, prediction_scores, model,\n",
    "                             dtype='int16', n=128, debug_checks=checks, test_neg=False, debug=True, debug_l2=True, target=2, d=1)\n"
   ]
  },
  {
   "cell_type": "code",
   "execution_count": 40,
   "id": "868a3d61",
   "metadata": {},
   "outputs": [
    {
     "data": {
      "text/plain": [
       "range(317, 318)"
      ]
     },
     "execution_count": 40,
     "metadata": {},
     "output_type": "execute_result"
    }
   ],
   "source": [
    "get_poi(16, 2)"
   ]
  },
  {
   "cell_type": "code",
   "execution_count": 41,
   "id": "d751744a",
   "metadata": {},
   "outputs": [
    {
     "data": {
      "text/plain": [
       "[(False, 0, 35),\n",
       " (True, 0, 29),\n",
       " (False, 0, 115),\n",
       " (False, 0, 86),\n",
       " (False, 0, 117),\n",
       " (False, 0, 25),\n",
       " (False, 0, 126),\n",
       " (True, 0, 112),\n",
       " (False, 0, 64),\n",
       " (False, 0, 47),\n",
       " (False, 0, 48),\n",
       " (True, 0, 80),\n",
       " (False, 0, 54),\n",
       " (False, 0, 62),\n",
       " (False, 0, 13),\n",
       " (False, 0, 121),\n",
       " (False, 0, 40),\n",
       " (False, 0, 6),\n",
       " (False, 0, 18),\n",
       " (False, 0, 56),\n",
       " (False, 0, 120),\n",
       " (False, 0, 82),\n",
       " (True, 0, 16),\n",
       " (False, 0, 113),\n",
       " (False, 0, 60),\n",
       " (False, 0, 87),\n",
       " (False, 0, 73),\n",
       " (False, 0, 71),\n",
       " (False, 0, 65),\n",
       " (False, 0, 69),\n",
       " (False, 0, 125),\n",
       " (False, 0, 81),\n",
       " (False, 0, 28),\n",
       " (False, 0, 19),\n",
       " (False, 0, 17),\n",
       " (False, 0, 103),\n",
       " (True, 0, 123),\n",
       " (True, 0, 53),\n",
       " (True, 0, 32),\n",
       " (False, 0, 105),\n",
       " (False, 0, 33),\n",
       " (False, 0, 46),\n",
       " (True, 0, 31),\n",
       " (False, 0, 94),\n",
       " (False, 0, 108),\n",
       " (True, 0, 27),\n",
       " (False, 0, 70),\n",
       " (True, 0, 45),\n",
       " (False, 0, 11),\n",
       " (False, 0, 74),\n",
       " (False, 0, 110),\n",
       " (True, 0, 85),\n",
       " (True, 0, 34),\n",
       " (False, 0, 61),\n",
       " (False, 0, 78),\n",
       " (False, 0, 24),\n",
       " (True, 0, 12),\n",
       " (False, 0, 127),\n",
       " (False, 0, 8),\n",
       " (True, 0, 38),\n",
       " (True, 0, 89),\n",
       " (True, 0, 109),\n",
       " (False, 0, 101),\n",
       " (False, 0, 118),\n",
       " (False, 0, 7),\n",
       " (False, 0, 88),\n",
       " (True, 0, 21),\n",
       " (False, 0, 58),\n",
       " (False, 0, 95),\n",
       " (False, 0, 63),\n",
       " (True, 0, 55),\n",
       " (True, 0, 114),\n",
       " (True, 0, 106),\n",
       " (False, 0, 77),\n",
       " (False, 0, 0),\n",
       " (False, 0, 59),\n",
       " (False, 0, 104),\n",
       " (False, 0, 1),\n",
       " (True, 0, 99),\n",
       " (False, 0, 66),\n",
       " (False, 0, 37),\n",
       " (False, 0, 111),\n",
       " (True, 0, 30),\n",
       " (True, 0, 84),\n",
       " (False, 0, 5),\n",
       " (True, 0, 92),\n",
       " (True, 0, 107),\n",
       " (False, 0, 76),\n",
       " (True, 0, 51),\n",
       " (True, 0, 41),\n",
       " (True, 0, 97),\n",
       " (True, 0, 57),\n",
       " (True, 0, 75),\n",
       " (True, 0, 96),\n",
       " (False, 0, 49),\n",
       " (True, 0, 93),\n",
       " (True, 0, 23),\n",
       " (False, 0, 98),\n",
       " (True, 0, 83),\n",
       " (True, 0, 44),\n",
       " (False, 0, 124),\n",
       " (True, 0, 100),\n",
       " (True, 0, 43),\n",
       " (False, 0, 26),\n",
       " (True, 0, 14),\n",
       " (False, 0, 42),\n",
       " (True, 0, 15),\n",
       " (True, 0, 90),\n",
       " (False, 0, 116),\n",
       " (False, 0, 102),\n",
       " (True, 0, 4),\n",
       " (True, 0, 2),\n",
       " (True, 0, 119),\n",
       " (True, 0, 68),\n",
       " (True, 0, 91),\n",
       " (True, 0, 79),\n",
       " (True, 0, 36),\n",
       " (True, 0, 9),\n",
       " (True, 0, 22),\n",
       " (True, 0, 39),\n",
       " (True, 0, 52),\n",
       " (True, 0, 20),\n",
       " (True, 0, 122),\n",
       " (False, 0, 3),\n",
       " (True, 0, 72),\n",
       " (True, 0, 10),\n",
       " (True, 0, 50),\n",
       " (True, 0, 67)]"
      ]
     },
     "execution_count": 41,
     "metadata": {},
     "output_type": "execute_result"
    }
   ],
   "source": [
    "sorted_x_ours = []\n",
    "\n",
    "for i in sorted_subkeys[::-1]:\n",
    "    sorted_x_ours.append((checks[i], 0, i))\n",
    "\n",
    "sorted_x_ours"
   ]
  },
  {
   "cell_type": "code",
   "execution_count": null,
   "id": "05ac5ca7",
   "metadata": {},
   "outputs": [
    {
     "ename": "KeyboardInterrupt",
     "evalue": "",
     "output_type": "error",
     "traceback": [
      "\u001b[0;31m---------------------------------------------------------------------------\u001b[0m",
      "\u001b[0;31mKeyboardInterrupt\u001b[0m                         Traceback (most recent call last)",
      "Cell \u001b[0;32mIn[42], line 1\u001b[0m\n\u001b[0;32m----> 1\u001b[0m \u001b[43mnum_trials_new\u001b[49m\u001b[43m(\u001b[49m\u001b[43msorted_x_ours\u001b[49m\u001b[43m,\u001b[49m\u001b[43m \u001b[49m\u001b[43mK\u001b[49m\u001b[38;5;241;43m=\u001b[39;49m\u001b[38;5;241;43m38\u001b[39;49m\u001b[43m,\u001b[49m\u001b[43m \u001b[49m\u001b[43mmax_L\u001b[49m\u001b[38;5;241;43m=\u001b[39;49m\u001b[38;5;241;43m128\u001b[39;49m\u001b[43m)\u001b[49m\n",
      "Cell \u001b[0;32mIn[13], line 87\u001b[0m, in \u001b[0;36mnum_trials_new\u001b[0;34m(sorted_x, K, max_L)\u001b[0m\n\u001b[1;32m     84\u001b[0m combs \u001b[38;5;241m=\u001b[39m \u001b[38;5;28mlist\u001b[39m(combinations(sorted_x[::\u001b[38;5;241m-\u001b[39m\u001b[38;5;241m1\u001b[39m][:L], K))[math\u001b[38;5;241m.\u001b[39mcomb(L\u001b[38;5;241m-\u001b[39m\u001b[38;5;241m1\u001b[39m, K):]\n\u001b[1;32m     85\u001b[0m \u001b[38;5;28;01mfor\u001b[39;00m A \u001b[38;5;129;01min\u001b[39;00m combs:\n\u001b[1;32m     86\u001b[0m     \u001b[38;5;66;03m#sub_x = sorted_x[::-1][A]\u001b[39;00m\n\u001b[0;32m---> 87\u001b[0m     \u001b[38;5;28;01mif\u001b[39;00m \u001b[43mcount_true\u001b[49m\u001b[43m(\u001b[49m\u001b[43mA\u001b[49m\u001b[43m)\u001b[49m \u001b[38;5;241m>\u001b[39m\u001b[38;5;241m=\u001b[39m K:\n\u001b[1;32m     88\u001b[0m         \u001b[38;5;28;01mreturn\u001b[39;00m ctr\n\u001b[1;32m     89\u001b[0m     \u001b[38;5;28;01melse\u001b[39;00m:\n",
      "Cell \u001b[0;32mIn[13], line -1\u001b[0m, in \u001b[0;36mcount_true\u001b[0;34m(sorted_x)\u001b[0m\n\u001b[1;32m      0\u001b[0m <Error retrieving source code with stack_data see ipython/ipython#13598>\n",
      "\u001b[0;31mKeyboardInterrupt\u001b[0m: "
     ]
    }
   ],
   "source": [
    "num_trials_new(sorted_x_ours, K=38, max_L=42)"
   ]
  },
  {
   "cell_type": "code",
   "execution_count": 40,
   "id": "fa064777",
   "metadata": {},
   "outputs": [],
   "source": [
    "@scaredcu.reverse_selection_function\n",
    "def basemul_monty_select(c, s):\n",
    "    if REDUCTION == 'MONTGOMERY':\n",
    "        basemul_imp_ = scaredcu.lbc.kyber.base.BaseMulMonty()\n",
    "    elif REDUCTION == 'PLANTARD':\n",
    "        basemul_imp_ = scaredcu.lbc.kyber.base.BaseMulPlantard()\n",
    "    s_ = cp.array(util.unpack_guess(prediction[ki], q))\n",
    "    if flag:\n",
    "        s_[0] = q - s_[0]\n",
    "        s_[1] = q - s_[1]\n",
    "    return basemul_imp_.basemul(c[:,ki*2:ki*2+2], s_, low=True, high=True, frame=range(ki, ki+1))\n",
    "\n",
    "\n",
    "cpa_reverse = scaredcu.CPAReverse(selection_function=basemul_monty_select,\n",
    "                                      model=model)\n",
    "\n",
    "t = 0\n",
    "\n",
    "ki = 4\n",
    "\n",
    "flag = False\n",
    "\n",
    "p = get_poi(NT, ki)\n",
    "\n",
    "container = scaredcu.Container(ths_cp_pp[:NT], frame=range(p[0] - t, p[0] + 1  - t))\n",
    "cpa_reverse.run(container)\n",
    "\n",
    "flag = False\n",
    "\n",
    "# ki = 10\n",
    "\n",
    "# p = get_poi(NT, ki)\n",
    "\n",
    "\n",
    "# container = scaredcu.Container(ths_cp_pp[:NT], frame=range(p[0] - t, p[0] + 1  - t))\n",
    "# cpa_reverse.run(container)\n",
    "\n",
    "\n",
    "ki = 8\n",
    "\n",
    "p = get_poi(NT, ki)\n",
    "\n",
    "flag = True\n",
    "\n",
    "container = scaredcu.Container(ths_cp_pp[:NT], frame=range(p[0] - t, p[0] + 1  - t))\n",
    "cpa_reverse.run(container)\n",
    "\n",
    "\n",
    "ki = 96\n",
    "\n",
    "p = get_poi(NT, ki)\n",
    "\n",
    "flag = True\n",
    "\n",
    "container = scaredcu.Container(ths_cp_pp[:NT], frame=range(p[0] - t, p[0] + 1  - t))\n",
    "cpa_reverse.run(container)\n",
    "\n"
   ]
  },
  {
   "cell_type": "code",
   "execution_count": 41,
   "id": "6eddde6c",
   "metadata": {},
   "outputs": [
    {
     "data": {
      "text/plain": [
       "array([[-0.84491044]], dtype=float32)"
      ]
     },
     "execution_count": 41,
     "metadata": {},
     "output_type": "execute_result"
    }
   ],
   "source": [
    "cpa_reverse.results"
   ]
  },
  {
   "cell_type": "code",
   "execution_count": 74,
   "id": "50bec1fe",
   "metadata": {},
   "outputs": [
    {
     "data": {
      "text/plain": [
       "133"
      ]
     },
     "execution_count": 74,
     "metadata": {},
     "output_type": "execute_result"
    }
   ],
   "source": [
    "get_relative_poi(NT, ki)"
   ]
  },
  {
   "cell_type": "code",
   "execution_count": 33,
   "id": "08e64039",
   "metadata": {},
   "outputs": [
    {
     "data": {
      "application/vnd.jupyter.widget-view+json": {
       "model_id": "bf68334bbf6a4b669fea1e91bd75c032",
       "version_major": 2,
       "version_minor": 0
      },
      "image/png": "[encoded data removed]",
      "text/html": [
       "\n",
       "            <div style=\"display: inline-block;\">\n",
       "                <div class=\"jupyter-widgets widget-label\" style=\"text-align: center;\">\n",
       "                    Figure\n",
       "                </div>\n",
       "                <img src='data:image/png;base64,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' width=1000.0/>\n",
       "            </div>\n",
       "        "
      ],
      "text/plain": [
       "Canvas(toolbar=Toolbar(toolitems=[('Home', 'Reset original view', 'home', 'home'), ('Back', 'Back to previous …"
      ]
     },
     "metadata": {},
     "output_type": "display_data"
    }
   ],
   "source": [
    "fig ,ax = plt.subplots(figsize=(10,4))\n",
    "\n",
    "for i in range(1):\n",
    "    ax.plot(cpa_reverse.results[i].get())"
   ]
  },
  {
   "cell_type": "code",
   "execution_count": null,
   "id": "a5b03a1b",
   "metadata": {},
   "outputs": [
    {
     "data": {
      "text/plain": [
       "False"
      ]
     },
     "execution_count": 60,
     "metadata": {},
     "output_type": "execute_result"
    }
   ],
   "source": [
    "checks[37]"
   ]
  },
  {
   "cell_type": "code",
   "execution_count": null,
   "id": "fd92612f",
   "metadata": {},
   "outputs": [],
   "source": []
  }
 ],
 "metadata": {
  "kernelspec": {
   "display_name": "Python 3",
   "language": "python",
   "name": "python3"
  },
  "language_info": {
   "codemirror_mode": {
    "name": "ipython",
    "version": 3
   },
   "file_extension": ".py",
   "mimetype": "text/x-python",
   "name": "python",
   "nbconvert_exporter": "python",
   "pygments_lexer": "ipython3",
   "version": "3.10.6"
  }
 },
 "nbformat": 4,
 "nbformat_minor": 5
}
