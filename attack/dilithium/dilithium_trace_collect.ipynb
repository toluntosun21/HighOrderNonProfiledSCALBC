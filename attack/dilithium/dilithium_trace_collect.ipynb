{
 "cells": [
  {
   "cell_type": "code",
   "execution_count": 1,
   "metadata": {},
   "outputs": [],
   "source": [
    "SCOPETYPE = 'OPENADC'\n",
    "PLATFORM = 'CWLITEARM'\n",
    "PROJ_DIR = '../../victim/simpleserial-dilithium'\n",
    "FIRMWAREPATH = '/home/toluntosun/Desktop/CW/chipwhisperer/hardware/victims/firmware'\n",
    "NSHARES = 2\n",
    "N = 2000"
   ]
  },
  {
   "cell_type": "code",
   "execution_count": 2,
   "metadata": {},
   "outputs": [],
   "source": [
    "import sys\n",
    "sys.path.append('../../../scaredcu')"
   ]
  },
  {
   "cell_type": "code",
   "execution_count": 3,
   "metadata": {},
   "outputs": [],
   "source": [
    "import scaredcu\n",
    "import os\n",
    "import cupy as cp\n",
    "import numpy as np\n",
    "from tqdm.auto import tqdm\n",
    "import estraces\n",
    "from matplotlib import pyplot as plt\n",
    "%matplotlib widget\n"
   ]
  },
  {
   "cell_type": "code",
   "execution_count": 5,
   "metadata": {},
   "outputs": [
    {
     "name": "stdout",
     "output_type": "stream",
     "text": [
      "SS_VER set to SS_VER_1_1\n",
      "SS_VER set to SS_VER_1_1\n",
      "SS_VER set to SS_VER_1_1\n",
      "SS_VER set to SS_VER_1_1\n",
      "make[1]: '.dep' is up to date.\n",
      "SS_VER set to SS_VER_1_1\n",
      "SS_VER set to SS_VER_1_1\n",
      ".\n",
      "Welcome to another exciting ChipWhisperer target build!!\n",
      "arm-none-eabi-gcc (15:12.2.rel1-1) 12.2.1 20221205\n",
      "Copyright (C) 2022 Free Software Foundation, Inc.\n",
      "This is free software; see the source for copying conditions.  There is NO\n",
      "warranty; not even for MERCHANTABILITY or FITNESS FOR A PARTICULAR PURPOSE.\n",
      "\n",
      ".\n",
      "Compiling:\n",
      "-en     simpleserial-dilithium.c ...\n",
      "-e Done!\n",
      ".\n",
      "Compiling:\n",
      "-en     src/sign.c ...\n"
     ]
    },
    {
     "name": "stderr",
     "output_type": "stream",
     "text": [
      "src/sign.c: In function 'crypto_sign_keypair_derand':\n",
      "src/sign.c:24:35: warning: variable 'key' set but not used [-Wunused-but-set-variable]\n",
      "   24 |   const uint8_t *rho, *rhoprime, *key;\n",
      "      |                                   ^~~\n",
      "src/sign.c:24:18: warning: variable 'rho' set but not used [-Wunused-but-set-variable]\n",
      "   24 |   const uint8_t *rho, *rhoprime, *key;\n",
      "      |                  ^~~\n"
     ]
    },
    {
     "name": "stdout",
     "output_type": "stream",
     "text": [
      "-e Done!\n",
      ".\n",
      "Compiling:\n",
      "-en     src/masked_sign.c ...\n",
      "-e Done!\n",
      ".\n",
      "Compiling:\n",
      "-en     src/masking_interface.c ...\n",
      "-e Done!\n",
      ".\n",
      "Compiling:\n",
      "-en     src/ntt.c ...\n",
      "-e Done!\n",
      ".\n",
      "Compiling:\n",
      "-en     src/poly.c ...\n",
      "-e Done!\n",
      ".\n",
      "Compiling:\n",
      "-en     src/polyvec.c ...\n"
     ]
    },
    {
     "name": "stderr",
     "output_type": "stream",
     "text": [
      "In file included from src/params.h:4,\n",
      "                 from src/polyvec.c:2:\n",
      "src/polyvec.c: In function 'pqcrystals_dilithium3_ref_polyvecl_uniform_gamma1':\n",
      "src/config.h:9:32: warning: 'pqcrystals_dilithium3_ref_poly_uniform_gamma1' reading 48 bytes from a region of size 32 [-Wstringop-overread]\n",
      "    9 | #define DILITHIUM_NAMESPACE(s) pqcrystals_dilithium3_ref##s\n",
      "src/poly.h:54:29: note: in expansion of macro 'DILITHIUM_NAMESPACE'\n",
      "   54 | #define poly_uniform_gamma1 DILITHIUM_NAMESPACE(_poly_uniform_gamma1)\n",
      "      |                             ^~~~~~~~~~~~~~~~~~~\n",
      "src/polyvec.c:47:5: note: in expansion of macro 'poly_uniform_gamma1'\n",
      "   47 |     poly_uniform_gamma1(&v->vec[i], seed, L*nonce + i);\n",
      "      |     ^~~~~~~~~~~~~~~~~~~\n",
      "src/config.h:9:32: note: referencing argument 2 of type 'const uint8_t[48]' {aka 'const unsigned char[48]'}\n",
      "    9 | #define DILITHIUM_NAMESPACE(s) pqcrystals_dilithium3_ref##s\n",
      "src/poly.h:54:29: note: in expansion of macro 'DILITHIUM_NAMESPACE'\n",
      "   54 | #define poly_uniform_gamma1 DILITHIUM_NAMESPACE(_poly_uniform_gamma1)\n",
      "      |                             ^~~~~~~~~~~~~~~~~~~\n",
      "src/polyvec.c:47:5: note: in expansion of macro 'poly_uniform_gamma1'\n",
      "   47 |     poly_uniform_gamma1(&v->vec[i], seed, L*nonce + i);\n",
      "      |     ^~~~~~~~~~~~~~~~~~~\n",
      "src/config.h:9:32: note: in a call to function 'pqcrystals_dilithium3_ref_poly_uniform_gamma1'\n",
      "    9 | #define DILITHIUM_NAMESPACE(s) pqcrystals_dilithium3_ref##s\n",
      "      |                                ^~~~~~~~~~~~~~~~~~~~~~~~~\n",
      "src/poly.h:54:29: note: in expansion of macro 'DILITHIUM_NAMESPACE'\n",
      "   54 | #define poly_uniform_gamma1 DILITHIUM_NAMESPACE(_poly_uniform_gamma1)\n",
      "      |                             ^~~~~~~~~~~~~~~~~~~\n",
      "src/poly.h:55:6: note: in expansion of macro 'poly_uniform_gamma1'\n",
      "   55 | void poly_uniform_gamma1(poly *a,\n",
      "      |      ^~~~~~~~~~~~~~~~~~~\n",
      "src/config.h:9:32: warning: 'pqcrystals_dilithium3_ref_poly_uniform_gamma1' reading 48 bytes from a region of size 32 [-Wstringop-overread]\n",
      "    9 | #define DILITHIUM_NAMESPACE(s) pqcrystals_dilithium3_ref##s\n",
      "src/poly.h:54:29: note: in expansion of macro 'DILITHIUM_NAMESPACE'\n",
      "   54 | #define poly_uniform_gamma1 DILITHIUM_NAMESPACE(_poly_uniform_gamma1)\n",
      "      |                             ^~~~~~~~~~~~~~~~~~~\n",
      "src/polyvec.c:47:5: note: in expansion of macro 'poly_uniform_gamma1'\n",
      "   47 |     poly_uniform_gamma1(&v->vec[i], seed, L*nonce + i);\n",
      "      |     ^~~~~~~~~~~~~~~~~~~\n",
      "src/config.h:9:32: note: referencing argument 2 of type 'const uint8_t[48]' {aka 'const unsigned char[48]'}\n",
      "    9 | #define DILITHIUM_NAMESPACE(s) pqcrystals_dilithium3_ref##s\n",
      "src/poly.h:54:29: note: in expansion of macro 'DILITHIUM_NAMESPACE'\n",
      "   54 | #define poly_uniform_gamma1 DILITHIUM_NAMESPACE(_poly_uniform_gamma1)\n",
      "      |                             ^~~~~~~~~~~~~~~~~~~\n",
      "src/polyvec.c:47:5: note: in expansion of macro 'poly_uniform_gamma1'\n",
      "   47 |     poly_uniform_gamma1(&v->vec[i], seed, L*nonce + i);\n",
      "      |     ^~~~~~~~~~~~~~~~~~~\n",
      "src/config.h:9:32: note: in a call to function 'pqcrystals_dilithium3_ref_poly_uniform_gamma1'\n",
      "    9 | #define DILITHIUM_NAMESPACE(s) pqcrystals_dilithium3_ref##s\n",
      "      |                                ^~~~~~~~~~~~~~~~~~~~~~~~~\n",
      "src/poly.h:54:29: note: in expansion of macro 'DILITHIUM_NAMESPACE'\n",
      "   54 | #define poly_uniform_gamma1 DILITHIUM_NAMESPACE(_poly_uniform_gamma1)\n",
      "      |                             ^~~~~~~~~~~~~~~~~~~\n",
      "src/poly.h:55:6: note: in expansion of macro 'poly_uniform_gamma1'\n",
      "   55 | void poly_uniform_gamma1(poly *a,\n",
      "      |      ^~~~~~~~~~~~~~~~~~~\n",
      "src/config.h:9:32: warning: 'pqcrystals_dilithium3_ref_poly_uniform_gamma1' reading 48 bytes from a region of size 32 [-Wstringop-overread]\n",
      "    9 | #define DILITHIUM_NAMESPACE(s) pqcrystals_dilithium3_ref##s\n",
      "src/poly.h:54:29: note: in expansion of macro 'DILITHIUM_NAMESPACE'\n",
      "   54 | #define poly_uniform_gamma1 DILITHIUM_NAMESPACE(_poly_uniform_gamma1)\n",
      "      |                             ^~~~~~~~~~~~~~~~~~~\n",
      "src/polyvec.c:47:5: note: in expansion of macro 'poly_uniform_gamma1'\n",
      "   47 |     poly_uniform_gamma1(&v->vec[i], seed, L*nonce + i);\n",
      "      |     ^~~~~~~~~~~~~~~~~~~\n",
      "src/config.h:9:32: note: referencing argument 2 of type 'const uint8_t[48]' {aka 'const unsigned char[48]'}\n",
      "    9 | #define DILITHIUM_NAMESPACE(s) pqcrystals_dilithium3_ref##s\n",
      "src/poly.h:54:29: note: in expansion of macro 'DILITHIUM_NAMESPACE'\n",
      "   54 | #define poly_uniform_gamma1 DILITHIUM_NAMESPACE(_poly_uniform_gamma1)\n",
      "      |                             ^~~~~~~~~~~~~~~~~~~\n",
      "src/polyvec.c:47:5: note: in expansion of macro 'poly_uniform_gamma1'\n",
      "   47 |     poly_uniform_gamma1(&v->vec[i], seed, L*nonce + i);\n",
      "      |     ^~~~~~~~~~~~~~~~~~~\n",
      "src/config.h:9:32: note: in a call to function 'pqcrystals_dilithium3_ref_poly_uniform_gamma1'\n",
      "    9 | #define DILITHIUM_NAMESPACE(s) pqcrystals_dilithium3_ref##s\n",
      "      |                                ^~~~~~~~~~~~~~~~~~~~~~~~~\n",
      "src/poly.h:54:29: note: in expansion of macro 'DILITHIUM_NAMESPACE'\n",
      "   54 | #define poly_uniform_gamma1 DILITHIUM_NAMESPACE(_poly_uniform_gamma1)\n",
      "      |                             ^~~~~~~~~~~~~~~~~~~\n",
      "src/poly.h:55:6: note: in expansion of macro 'poly_uniform_gamma1'\n",
      "   55 | void poly_uniform_gamma1(poly *a,\n",
      "      |      ^~~~~~~~~~~~~~~~~~~\n"
     ]
    },
    {
     "name": "stdout",
     "output_type": "stream",
     "text": [
      "-e Done!\n",
      ".\n",
      "Compiling:\n",
      "-en     src/masked_polyvec_operations.c ...\n",
      "-e Done!\n",
      ".\n",
      "Compiling:\n",
      "-en     src/reduce.c ...\n",
      "-e Done!\n",
      ".\n",
      "Compiling:\n",
      "-en     src/fips202.c ...\n",
      "-e Done!\n",
      ".\n",
      "Compiling:\n",
      "-en     src/symmetric-shake.c ...\n",
      "-e Done!\n",
      ".\n",
      "Compiling:\n",
      "-en     ../common/randombytes.c ...\n"
     ]
    },
    {
     "name": "stderr",
     "output_type": "stream",
     "text": [
      "../common/randombytes.c:38:2: warning: #warning Using a non-random randombytes [-Wcpp]\n",
      "   38 | #warning Using a non-random randombytes\n",
      "      |  ^~~~~~~\n"
     ]
    },
    {
     "name": "stdout",
     "output_type": "stream",
     "text": [
      "-e Done!\n",
      ".\n",
      "Compiling:\n",
      "-en     /home/toluntosun/Desktop/CW/chipwhisperer/hardware/victims/firmware/simpleserial/simpleserial.c ...\n",
      "-e Done!\n",
      ".\n",
      "Compiling:\n",
      "-en     /home/toluntosun/Desktop/CW/chipwhisperer/hardware/victims/firmware/hal/stm32f3/stm32f3_hal.c ...\n",
      "-e Done!\n",
      ".\n",
      "Compiling:\n",
      "-en     /home/toluntosun/Desktop/CW/chipwhisperer/hardware/victims/firmware/hal/stm32f3/stm32f3_hal_lowlevel.c ...\n",
      "-e Done!\n",
      ".\n",
      "Compiling:\n",
      "-en     /home/toluntosun/Desktop/CW/chipwhisperer/hardware/victims/firmware/hal/stm32f3/stm32f3_sysmem.c ...\n",
      "-e Done!\n",
      ".\n",
      "Assembling: /home/toluntosun/Desktop/CW/chipwhisperer/hardware/victims/firmware/hal/stm32f3/stm32f3_startup.S\n",
      "arm-none-eabi-gcc -c -mcpu=cortex-m4 -I. -x assembler-with-cpp -mthumb -mcpu=cortex-m4 -mfloat-abi=hard -mfpu=fpv4-sp-d16 -fmessage-length=0 -ffunction-sections -DF_CPU=7372800 -Wa,-gstabs,-adhlns=objdir-CWLITEARM/stm32f3_startup.lst -Isrc -I../common -I/home/toluntosun/Desktop/CW/chipwhisperer/hardware/victims/firmware/simpleserial/ -I/home/toluntosun/Desktop/CW/chipwhisperer/hardware/victims/firmware/hal -I/home/toluntosun/Desktop/CW/chipwhisperer/hardware/victims/firmware/hal/stm32f3 -I/home/toluntosun/Desktop/CW/chipwhisperer/hardware/victims/firmware/hal/stm32f3/CMSIS -I/home/toluntosun/Desktop/CW/chipwhisperer/hardware/victims/firmware/hal/stm32f3/CMSIS/core -I/home/toluntosun/Desktop/CW/chipwhisperer/hardware/victims/firmware/hal/stm32f3/CMSIS/device -I/home/toluntosun/Desktop/CW/chipwhisperer/hardware/victims/firmware/hal/stm32f4/Legacy -I/home/toluntosun/Desktop/CW/chipwhisperer/hardware/victims/firmware/simpleserial/ -I/home/toluntosun/Desktop/CW/chipwhisperer/hardware/victims/firmware/crypto/ /home/toluntosun/Desktop/CW/chipwhisperer/hardware/victims/firmware/hal/stm32f3/stm32f3_startup.S -o objdir-CWLITEARM/stm32f3_startup.o\n",
      ".\n",
      "LINKING:\n",
      "-en     simpleserial-dilithium-CWLITEARM.elf ...\n",
      "-e Done!\n",
      ".\n",
      "Creating load file for Flash: simpleserial-dilithium-CWLITEARM.hex\n",
      "arm-none-eabi-objcopy -O ihex -R .eeprom -R .fuse -R .lock -R .signature simpleserial-dilithium-CWLITEARM.elf simpleserial-dilithium-CWLITEARM.hex\n",
      ".\n",
      "Creating load file for Flash: simpleserial-dilithium-CWLITEARM.bin\n",
      "arm-none-eabi-objcopy -O binary -R .eeprom -R .fuse -R .lock -R .signature simpleserial-dilithium-CWLITEARM.elf simpleserial-dilithium-CWLITEARM.bin\n",
      ".\n",
      "Creating load file for EEPROM: simpleserial-dilithium-CWLITEARM.eep\n",
      "arm-none-eabi-objcopy -j .eeprom --set-section-flags=.eeprom=\"alloc,load\" \\\n",
      "--change-section-lma .eeprom=0 --no-change-warnings -O ihex simpleserial-dilithium-CWLITEARM.elf simpleserial-dilithium-CWLITEARM.eep || exit 0\n",
      ".\n",
      "Creating Extended Listing: simpleserial-dilithium-CWLITEARM.lss\n",
      "arm-none-eabi-objdump -h -S -z simpleserial-dilithium-CWLITEARM.elf > simpleserial-dilithium-CWLITEARM.lss\n",
      ".\n",
      "Creating Symbol Table: simpleserial-dilithium-CWLITEARM.sym\n",
      "arm-none-eabi-nm -n simpleserial-dilithium-CWLITEARM.elf > simpleserial-dilithium-CWLITEARM.sym\n",
      "SS_VER set to SS_VER_1_1\n",
      "SS_VER set to SS_VER_1_1\n",
      "Size after:\n",
      "   text\t   data\t    bss\t    dec\t    hex\tfilename\n",
      "  13260\t      8\t   5656\t  18924\t   49ec\tsimpleserial-dilithium-CWLITEARM.elf\n",
      "+--------------------------------------------------------\n",
      "+ Default target does full rebuild each time.\n",
      "+ Specify buildtarget == allquick == to avoid full rebuild\n",
      "+--------------------------------------------------------\n",
      "+--------------------------------------------------------\n",
      "+ Built for platform CW-Lite Arm \\(STM32F3\\) with:\n",
      "+ CRYPTO_TARGET = NONE\n",
      "+ CRYPTO_OPTIONS = \n",
      "+--------------------------------------------------------\n"
     ]
    }
   ],
   "source": [
    "%%bash -s \"$PROJ_DIR\" \"$FIRMWAREPATH\" \"$PLATFORM\" \"$NSHARES\"\n",
    "cd $1\n",
    "make FIRMWAREPATH=$2 PLATFORM=$3 NSHARES=$4"
   ]
  },
  {
   "cell_type": "code",
   "execution_count": 6,
   "metadata": {},
   "outputs": [
    {
     "name": "stderr",
     "output_type": "stream",
     "text": [
      "/home/toluntosun/Desktop/CW/chipwhisperer/software/chipwhisperer/capture/trace/TraceWhisperer.py:31: DeprecationWarning: pkg_resources is deprecated as an API. See https://setuptools.pypa.io/en/latest/pkg_resources.html\n",
      "  import pkg_resources # type: ignore\n",
      "(ChipWhisperer NAEUSB WARNING|File naeusb.py:800) Your firmware (1.0) is outdated - latest is 1.62 See https://chipwhisperer.readthedocs.io/en/latest/firmware.html for more information\n"
     ]
    },
    {
     "name": "stdout",
     "output_type": "stream",
     "text": [
      "scope.gain.mode                          changed from low                       to high                     \n",
      "scope.gain.gain                          changed from 0                         to 30                       \n",
      "scope.gain.db                            changed from 5.5                       to 24.8359375               \n",
      "scope.adc.basic_mode                     changed from low                       to rising_edge              \n",
      "scope.adc.samples                        changed from 98134                     to 5000                     \n",
      "scope.adc.trig_count                     changed from 2473420                   to 17015197                 \n",
      "scope.clock.adc_src                      changed from clkgen_x1                 to clkgen_x4                \n",
      "scope.clock.adc_freq                     changed from 29538459                  to 96000000                 \n",
      "scope.clock.adc_rate                     changed from 29538459.0                to 96000000.0               \n",
      "scope.clock.clkgen_div                   changed from 1                         to 26                       \n",
      "scope.clock.clkgen_freq                  changed from 192000000.0               to 7384615.384615385        \n",
      "scope.io.tio1                            changed from serial_tx                 to serial_rx                \n",
      "scope.io.tio2                            changed from serial_rx                 to serial_tx                \n",
      "scope.io.hs2                             changed from None                      to clkgen                   \n",
      "INFO: Found ChipWhisperer😍\n"
     ]
    }
   ],
   "source": [
    "import chipwhisperer as cw\n",
    "try:\n",
    "    if not scope.connectStatus:\n",
    "        scope.con()\n",
    "except NameError:\n",
    "    scope = cw.scope()\n",
    "\n",
    "try:\n",
    "    target = cw.target(scope)\n",
    "except IOError:\n",
    "    print(\"INFO: Caught exception on reconnecting to target - attempting to reconnect to scope first.\")\n",
    "    print(\"INFO: This is a work-around when USB has died without Python knowing. Ignore errors above this line.\")\n",
    "    scope = cw.scope()\n",
    "    target = cw.target(scope)\n",
    "\n",
    "scope.default_setup()\n",
    "\n",
    "scope.adc.samples = 25000*NSHARES\n",
    "\n",
    "print(\"INFO: Found ChipWhisperer😍\")"
   ]
  },
  {
   "cell_type": "code",
   "execution_count": 7,
   "metadata": {},
   "outputs": [
    {
     "name": "stdout",
     "output_type": "stream",
     "text": [
      "Detected known STMF32: STM32F302xB(C)/303xB(C)\n",
      "Extended erase (0x44), this can take ten seconds or more\n",
      "Attempting to program 13271 bytes at 0x8000000\n",
      "STM32F Programming flash...\n",
      "STM32F Reading flash...\n",
      "Verified flash OK, 13271 bytes\n"
     ]
    }
   ],
   "source": [
    "fw_path = f'{PROJ_DIR}/simpleserial-dilithium-{PLATFORM}.hex'\n",
    "prog = cw.programmers.STM32FProgrammer\n",
    "cw.program_target(scope, prog, fw_path)"
   ]
  },
  {
   "cell_type": "code",
   "execution_count": 8,
   "metadata": {},
   "outputs": [],
   "source": [
    "def coins_gen_s(coins):\n",
    "    target.simpleserial_write('k',coins)\n",
    "    sk_ = []\n",
    "    \n",
    "    for _ in range(8):\n",
    "        sk_.append(target.read(258))\n",
    "    print(sk_)\n",
    "    sk_ = bytes.fromhex(sk_[0][1:257] + sk_[1][1:257] + sk_[2][1:257] + sk_[3][1:257] + sk_[4][1:257] + sk_[5][1:257] + sk_[6][1:257] + sk_[7][1:257])\n",
    "    t = np.frombuffer(sk_, dtype=np.int32)\n",
    "    return (t % scaredcu.lbc.dilithium.q).astype('uint32')"
   ]
  },
  {
   "cell_type": "code",
   "execution_count": 9,
   "metadata": {},
   "outputs": [],
   "source": [
    "dilithium_ntt = scaredcu.lbc.dilithium.NTT()\n",
    "\n",
    "def coins_to_c(coins):\n",
    "    c = scaredcu.lbc.dilithium.dilithium3_sample_in_ball(coins)\n",
    "    return dilithium_ntt.ntt(c).get()\n"
   ]
  },
  {
   "cell_type": "code",
   "execution_count": 10,
   "metadata": {},
   "outputs": [
    {
     "name": "stdout",
     "output_type": "stream",
     "text": [
      "b'\\x90\\xfeI8\\x9d\\x9a\\x01\\xdb\\xf8J&*\\xdc\\xd7\\x05\\xbc\\x01[\\x1d\\xf7\\xc6\\xb5\\xa8\\x0f<\\x84\\xa9\\x94#b\\xac\\xea'\n",
      "['rA8FEBFFF0A942D001B5A3B00534FD6FF7D3702009FC0D1FF796EEAFF43544C00D1B6B1FF13C31900DB21A1FFC5D6A1FFFB8054FF5F037DFF226486FFC8F71CFFBAED16FF687C96FF15AFD4FF1DAF5DFFE8D4B0FF424A34FF88E6DFFFF2EE6AFFFDFAF8FF1333EFFF0DDA2900B706F4FFE750BFFFDD0E1100821E84FF2E99ABFF\\n', 'r66FDF1FF90174100C1887DFFB564E0FFF2931E00088BE0FFCA9D81FF38CEBCFF59BBD4005F676D00555A8700EB1232004A48580076DE35002AD299FF768A000097AD960083BB900078DDAB002E55EC00195574008B189D00718B61008BC8E8FFDEF58B00DCF43B006EFB2A00A4F5AFFF31646C008D2D5100760B7000609F6700\\n', 'r72BC500056D6330019D35E00ABB42400DA821200B8C90D0066080C009CCF380067FEFBFFF9D8120033AEB3FFE1001B005E63CDFF16C2E5FF8A6489FFEE1C7DFFE81E2400DA39160014C6F3FFC2D0F1FF70EB7BFF50D0EEFFDBCFD6FFC5DDEAFF401927FF06087FFF1CD716FF369C0DFF4DDECEFF3B9089FFAF93C9FFB9D0A5FF\\n', 'r2B68CFFFDF90080064C2D9FF32E76FFF8E289DFF600F5FFFACAE8BFF96B579FFAE21E6FFDA388DFF7DE858FF6B5DBEFF0C9C3A008C05DAFFC6E9D0FFA2DAB7FF3BEA55FF7B8CA6FFED6D9BFF8D0959FF099FB7FFE5941500C3F4E8FF27F0A6FFB7B777FF678C56FF3B8ECCFF8B1FBDFFBD7348FF678837FF32FEB5FF7E5939FF\\n', 'r39E801007F654C00CCF60D00881AA1FF7BB16C009D7B58009FB059000DBA74009D62FCFF673CDBFFA08E8E00906C2C00ABE60600B1E28CFF5323DBFF0D7929007B849D007D9EBC0003FBD300A9276A005B1BD100C98B5400AA7063009616FCFF046F6E00769E46007282ED00DC557F00EB8A84003558600021076800AF9ADD00\\n', 'r47D204003D4AD3FF693D1200CF9D0600D5A637003DBDA400056D1C00051422003FF4540073D8480032AE7B00300E4000676D8E00CDB83700C6695F00DAEE250018B80F008E1ADAFF4D1C71FF6DF486FF40592C00C66AF4FF469E19009CD88100CC183000C875A00054C0FEFF783EFCFFD2A1AC00505BE6003EF48900B8E86A00\\n', 'rDBC9BFFF4BB7340073A2760073DB3C002E5A18006EC95300405DC8FFE8A4E4FFD08303004EDB8EFF3F1E2C008B8CC9FF58F1B3FFA2548CFF485FB5FFB6A27BFF10E3A0FFFCDFDCFF3FFDE0FFC167F0FFC220CCFF1865AFFF5B30BEFFBFA8B2FF38E72200ACDE2C00083AC2FF307C9AFF226258FFEAF783FF29AFB2FF7F1F82FF\\n', 'r0D6B33007DDEC5FF9C70580012C78D001CC6CEFF7C70D4FF954C45006BDCD0FF896A390023E6F0FF13544700BDF9360031D18B002FAD5100EF65D900A5149E00C5401C007551C7FF735677FFDBBECBFF0EF1030018D9BCFF1A966E00D0E810002934BC003FCC49008C4E3800F4CC420076E15C006E315A000FDA89004DAA9700\\n']\n",
      "[4185769 2987018 3889691 5648212  145277 5349536 6966906 5002307 3249874\n",
      " 1688339 2163164 2209478 5521661 8176481  410659 1882058 1486268 1465449\n",
      " 5541654 6123295 3192041 3410500 6276745 6991604 7920382 7279380 2742797\n",
      " 7595704 4141288 1117917  261763 2849071 7462247 4265872 8210627 6309046\n",
      " 2003954 6318857   97739 3976761 5561176 7169887  490068 3281643 5785674\n",
      " 3530358 1684011   35446 1494422 1104770 2882935 7107885 7623961 1915018\n",
      " 6392689 6858892  792029 3929308 2816878 3134885 7103537 5320077 7342966\n",
      " 6791008 5291122 3397206 6214425 2405547 1213146  903608  788582 3723164\n",
      " 8117864 1235193 3378740 1769697 5063519 6660631  607371 8183024 2367208\n",
      " 1456602 7579157 7450819 8104818 7254097 5681116 6995398 2545986 8308744\n",
      " 1480478  875576 5160526  618556 4813744 2470074 5195820  561375 5874277\n",
      " 7317300 1902735 6213474  757421 7959960 6685103  858331 5810303 4078956\n",
      " 3841036 5891469 5294535 3652259 5614141 2518140 1789422 5818767 3637002\n",
      " 1414373 6870212 2543656 7829433 5655657 5008956 3997580 4731839 3623017\n",
      " 3530291 3742080  124985 5006719  915148 2161289 7123323 5798813 5877919\n",
      " 7649805 8143518 5971048  962207 2911376  452267  836274 5964628 2717965\n",
      " 1942650 3980924 5511938 6956969 5323610 5540809 6516906 8124055 7237380\n",
      " 4628086 7185009 8345052  305898 6314037 6817569 6142638  315975 5450302\n",
      " 1195369  433615 3647189 2415932 1862917 2233349 5567551 4774003 8105522\n",
      " 4197936  953702 3651789 6252998 2485978 1030168 5896847 7396431  447598\n",
      " 2906432 7621319 1678918  129179 3152076 2135495 8298581 8134265 2933201\n",
      " 6716239  660541 7006392 4172252 3454795 7774835 3988339 1595950 5491054\n",
      " 4734273 6587625  230352  965455 2891327 4811916 3395929  799907 3489609\n",
      " 8086200 2147089 6078461 6348096 7358402 4980931 3097881 4067420 3311808\n",
      " 2287416 2940588 4332041 1727537 5775908  251883 3313450  130944 3369741\n",
      " 4570750 5795996  911121 5154333 5525629 4541589 5291116 3762825 7390756\n",
      " 4674579 3602877  782640 5352751 5866990 1979556 1851589 4665718 7804533\n",
      " 4955868  258318 3979545 7247386 1108176 3953704 4836415 3690124 4377844\n",
      " 6087030 5910894  653838 1559116]\n",
      "[ 1  1  2  2  1  1  2  0 -1  3 -2 -2 -1 -2 -4 -1  0  4 -4  2 -2 -3 -3 -3\n",
      "  4  3  2  1  1  3  4 -2  3 -3  3 -4  4 -2  2 -1 -2  3  2 -3  2 -2  3 -1\n",
      " -3 -2 -1 -4  3 -1 -2  2  4 -2 -2  2 -1 -4  3  2  1  1 -4  2 -1 -1 -1  1\n",
      "  3  3  4 -4  0 -2  1  2 -4 -1 -1  4 -1  2  0 -2  1  0 -1  2  4 -1  2  2\n",
      "  1 -3 -2  4  3 -3 -3  3  3  4  3  1  0  1 -3  2 -3  3  1 -1 -3  1  1  1\n",
      "  0  4  3 -3 -1  4  0 -1  3  0  3  4  2  0  3  0 -4 -2 -2 -1  3 -3  4  3\n",
      "  2 -1 -1  1  3 -4 -2 -1  1 -4  0 -1 -4 -4 -4  0 -3  3 -2  2 -1  4  4  4\n",
      "  1  1  3 -3  3 -2 -2 -4  3  1  1  1 -4 -1  2  3  0  0  3  2 -2  0  0  3\n",
      "  4  2 -4  1  3 -4 -1 -3 -3 -4 -4 -4  3 -3 -2 -4  4  4  3  1 -1  4  3 -3\n",
      " -3  3 -1 -3  2  3  0  3  0  3  4 -4  4  0  3 -4 -3 -1 -3  4  4  3  3  2\n",
      "  4  2 -2  0  2 -2  0 -4 -4  2  2  0 -3  3  3  0]\n"
     ]
    }
   ],
   "source": [
    "coins = os.urandom(32)\n",
    "print(coins)\n",
    "\n",
    "s = coins_gen_s(coins)\n",
    "print(s)\n",
    "\n",
    "s_ntt = dilithium_ntt.ntt_inv(cp.array(s))\n",
    "\n",
    "reduction = scaredcu.lbc.modop.Reduction_Q2Q2(q=dilithium_ntt.q, o_dtype='int32')\n",
    "print(reduction.reduce(s_ntt))"
   ]
  },
  {
   "cell_type": "code",
   "execution_count": 11,
   "metadata": {},
   "outputs": [
    {
     "data": {
      "text/plain": [
       "0"
      ]
     },
     "execution_count": 11,
     "metadata": {},
     "output_type": "execute_result"
    }
   ],
   "source": [
    "target.simpleserial_write('q', bytes())\n",
    "target.simpleserial_wait_ack()"
   ]
  },
  {
   "cell_type": "code",
   "execution_count": 12,
   "metadata": {},
   "outputs": [
    {
     "data": {
      "application/vnd.jupyter.widget-view+json": {
       "model_id": "3603b358359a4c6e8ae94cec5fe32480",
       "version_major": 2,
       "version_minor": 0
      },
      "text/plain": [
       "  0%|          | 0/2000 [00:00<?, ?it/s]"
      ]
     },
     "metadata": {},
     "output_type": "display_data"
    },
    {
     "name": "stderr",
     "output_type": "stream",
     "text": [
      "ERROR:estraces.formats.ets_writer:Exception raised during init of h5f file: [Errno 2] Unable to synchronously open file (unable to open file: name = 'traces/dilithium_basemult_d2_t0.ets', errno = 2, error message = 'No such file or directory', flags = 0, o_flags = 0).\n"
     ]
    }
   ],
   "source": [
    "#Capture Traces\n",
    "\n",
    "for i in range(1000):\n",
    "    filename = f'traces/dilithium_basemult_d{NSHARES}_t{i}.ets'\n",
    "    if os.path.isfile(filename):\n",
    "        continue\n",
    "    es_writer = estraces.ETSWriter(filename=filename, overwrite=False)\n",
    "    break\n",
    "\n",
    "target.output_len = 0\n",
    "\n",
    "\n",
    "for i in tqdm(range(N)):\n",
    "    coins = os.urandom(32)\n",
    "    trace = cw.capture_trace(scope, target, cw.bytearray(coins))\n",
    "    if trace is None:\n",
    "        continue\n",
    "    es_writer.write_samples(trace.wave)\n",
    "    es_writer.write_metadata('c', coins_to_c(coins))\n",
    "    es_writer.write_metadata('s', s)\n",
    "    \n",
    "es_writer.close()"
   ]
  },
  {
   "cell_type": "code",
   "execution_count": null,
   "metadata": {},
   "outputs": [
    {
     "name": "stdout",
     "output_type": "stream",
     "text": [
      "Trace Header Set:\n",
      "Name.............: ETS Format THS\n",
      "Reader...........: ETS format reader of file traces/dilithium_basemult_d1_t6.ets with 1000 traces.\n",
      "c................: uint32\n",
      "s................: uint32\n",
      "\n"
     ]
    }
   ],
   "source": [
    "ths = estraces.read_ths_from_ets_file(filename)\n",
    "\n",
    "print(ths)"
   ]
  },
  {
   "cell_type": "code",
   "execution_count": null,
   "metadata": {},
   "outputs": [
    {
     "name": "stderr",
     "output_type": "stream",
     "text": [
      "/home/toluntosun/miniconda3/envs/sca/lib/python3.12/site-packages/traitlets/traitlets.py:1385: DeprecationWarning: Passing unrecognized arguments to super(Toolbar).__init__().\n",
      "NavigationToolbar2WebAgg.__init__() missing 1 required positional argument: 'canvas'\n",
      "This is deprecated in traitlets 4.2.This error will be raised in a future release of traitlets.\n",
      "  warn(\n"
     ]
    },
    {
     "data": {
      "text/plain": [
       "[<matplotlib.lines.Line2D at 0x7449df34c080>]"
      ]
     },
     "execution_count": 13,
     "metadata": {},
     "output_type": "execute_result"
    },
    {
     "data": {
      "application/vnd.jupyter.widget-view+json": {
       "model_id": "94415f05ce03426aa2a805239eab573e",
       "version_major": 2,
       "version_minor": 0
      },
      "image/png": "[encoded data removed]",
      "text/html": [
       "\n",
       "            <div style=\"display: inline-block;\">\n",
       "                <div class=\"jupyter-widgets widget-label\" style=\"text-align: center;\">\n",
       "                    Figure\n",
       "                </div>\n",
       "                <img src='data:image/png;base64,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' width=640.0/>\n",
       "            </div>\n",
       "        "
      ],
      "text/plain": [
       "Canvas(toolbar=Toolbar(toolitems=[('Home', 'Reset original view', 'home', 'home'), ('Back', 'Back to previous …"
      ]
     },
     "metadata": {},
     "output_type": "display_data"
    }
   ],
   "source": [
    "fig, ax = plt.subplots()\n",
    "\n",
    "mean = ths.samples.mean(axis=0)\n",
    "\n",
    "ax.plot(mean)"
   ]
  },
  {
   "cell_type": "code",
   "execution_count": null,
   "metadata": {},
   "outputs": [],
   "source": []
  }
 ],
 "metadata": {
  "kernelspec": {
   "display_name": "sca",
   "language": "python",
   "name": "python3"
  },
  "language_info": {
   "codemirror_mode": {
    "name": "ipython",
    "version": 3
   },
   "file_extension": ".py",
   "mimetype": "text/x-python",
   "name": "python",
   "nbconvert_exporter": "python",
   "pygments_lexer": "ipython3",
   "version": "3.12.2"
  }
 },
 "nbformat": 4,
 "nbformat_minor": 4
}
