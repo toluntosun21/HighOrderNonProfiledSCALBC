{
 "cells": [
  {
   "cell_type": "code",
   "execution_count": 1,
   "metadata": {},
   "outputs": [],
   "source": [
    "SCOPETYPE = 'OPENADC'\n",
    "PLATFORM = 'CWLITEARM'\n",
    "PROJ_DIR = '../../victim/simpleserial-dilithium'\n",
    "FIRMWAREPATH = '/home/toluntosun/Desktop/CW/chipwhisperer/hardware/victims/firmware'\n",
    "NSHARES = 1\n",
    "N = 1000"
   ]
  },
  {
   "cell_type": "code",
   "execution_count": 2,
   "metadata": {},
   "outputs": [],
   "source": [
    "import sys\n",
    "sys.path.append('../../../scaredcu')"
   ]
  },
  {
   "cell_type": "code",
   "execution_count": 3,
   "metadata": {},
   "outputs": [],
   "source": [
    "import scaredcu\n",
    "import os\n",
    "import cupy as cp\n",
    "import numpy as np\n",
    "from tqdm.auto import tqdm\n",
    "import estraces\n",
    "from matplotlib import pyplot as plt\n",
    "%matplotlib widget\n"
   ]
  },
  {
   "cell_type": "code",
   "execution_count": 4,
   "metadata": {},
   "outputs": [
    {
     "name": "stdout",
     "output_type": "stream",
     "text": [
      "SS_VER set to SS_VER_1_1\n",
      "SS_VER set to SS_VER_1_1\n",
      "SS_VER set to SS_VER_1_1\n",
      "SS_VER set to SS_VER_1_1\n",
      "make[1]: '.dep' is up to date.\n",
      "SS_VER set to SS_VER_1_1\n",
      "SS_VER set to SS_VER_1_1\n",
      ".\n",
      "Welcome to another exciting ChipWhisperer target build!!\n",
      "arm-none-eabi-gcc (15:12.2.rel1-1) 12.2.1 20221205\n",
      "Copyright (C) 2022 Free Software Foundation, Inc.\n",
      "This is free software; see the source for copying conditions.  There is NO\n",
      "warranty; not even for MERCHANTABILITY or FITNESS FOR A PARTICULAR PURPOSE.\n",
      "\n",
      ".\n",
      "Compiling:\n",
      "-en     simpleserial-dilithium.c ...\n",
      "-e Done!\n",
      ".\n",
      "Compiling:\n",
      "-en     src/sign.c ...\n"
     ]
    },
    {
     "name": "stderr",
     "output_type": "stream",
     "text": [
      "src/sign.c: In function 'crypto_sign_keypair_derand':\n",
      "src/sign.c:24:35: warning: variable 'key' set but not used [-Wunused-but-set-variable]\n",
      "   24 |   const uint8_t *rho, *rhoprime, *key;\n",
      "      |                                   ^~~\n",
      "src/sign.c:24:18: warning: variable 'rho' set but not used [-Wunused-but-set-variable]\n",
      "   24 |   const uint8_t *rho, *rhoprime, *key;\n",
      "      |                  ^~~\n"
     ]
    },
    {
     "name": "stdout",
     "output_type": "stream",
     "text": [
      "-e Done!\n",
      ".\n",
      "Compiling:\n",
      "-en     src/masked_sign.c ...\n",
      "-e Done!\n",
      ".\n",
      "Compiling:\n",
      "-en     src/masking_interface.c ...\n",
      "-e Done!\n",
      ".\n",
      "Compiling:\n",
      "-en     src/ntt.c ...\n",
      "-e Done!\n",
      ".\n",
      "Compiling:\n",
      "-en     src/poly.c ...\n",
      "-e Done!\n",
      ".\n",
      "Compiling:\n",
      "-en     src/polyvec.c ...\n"
     ]
    },
    {
     "name": "stderr",
     "output_type": "stream",
     "text": [
      "In file included from src/params.h:4,\n",
      "                 from src/polyvec.c:2:\n",
      "src/polyvec.c: In function 'pqcrystals_dilithium3_ref_polyvecl_uniform_gamma1':\n",
      "src/config.h:9:32: warning: 'pqcrystals_dilithium3_ref_poly_uniform_gamma1' reading 48 bytes from a region of size 32 [-Wstringop-overread]\n",
      "    9 | #define DILITHIUM_NAMESPACE(s) pqcrystals_dilithium3_ref##s\n",
      "src/poly.h:54:29: note: in expansion of macro 'DILITHIUM_NAMESPACE'\n",
      "   54 | #define poly_uniform_gamma1 DILITHIUM_NAMESPACE(_poly_uniform_gamma1)\n",
      "      |                             ^~~~~~~~~~~~~~~~~~~\n",
      "src/polyvec.c:47:5: note: in expansion of macro 'poly_uniform_gamma1'\n",
      "   47 |     poly_uniform_gamma1(&v->vec[i], seed, L*nonce + i);\n",
      "      |     ^~~~~~~~~~~~~~~~~~~\n",
      "src/config.h:9:32: note: referencing argument 2 of type 'const uint8_t[48]' {aka 'const unsigned char[48]'}\n",
      "    9 | #define DILITHIUM_NAMESPACE(s) pqcrystals_dilithium3_ref##s\n",
      "src/poly.h:54:29: note: in expansion of macro 'DILITHIUM_NAMESPACE'\n",
      "   54 | #define poly_uniform_gamma1 DILITHIUM_NAMESPACE(_poly_uniform_gamma1)\n",
      "      |                             ^~~~~~~~~~~~~~~~~~~\n",
      "src/polyvec.c:47:5: note: in expansion of macro 'poly_uniform_gamma1'\n",
      "   47 |     poly_uniform_gamma1(&v->vec[i], seed, L*nonce + i);\n",
      "      |     ^~~~~~~~~~~~~~~~~~~\n",
      "src/config.h:9:32: note: in a call to function 'pqcrystals_dilithium3_ref_poly_uniform_gamma1'\n",
      "    9 | #define DILITHIUM_NAMESPACE(s) pqcrystals_dilithium3_ref##s\n",
      "      |                                ^~~~~~~~~~~~~~~~~~~~~~~~~\n",
      "src/poly.h:54:29: note: in expansion of macro 'DILITHIUM_NAMESPACE'\n",
      "   54 | #define poly_uniform_gamma1 DILITHIUM_NAMESPACE(_poly_uniform_gamma1)\n",
      "      |                             ^~~~~~~~~~~~~~~~~~~\n",
      "src/poly.h:55:6: note: in expansion of macro 'poly_uniform_gamma1'\n",
      "   55 | void poly_uniform_gamma1(poly *a,\n",
      "      |      ^~~~~~~~~~~~~~~~~~~\n",
      "src/config.h:9:32: warning: 'pqcrystals_dilithium3_ref_poly_uniform_gamma1' reading 48 bytes from a region of size 32 [-Wstringop-overread]\n",
      "    9 | #define DILITHIUM_NAMESPACE(s) pqcrystals_dilithium3_ref##s\n",
      "src/poly.h:54:29: note: in expansion of macro 'DILITHIUM_NAMESPACE'\n",
      "   54 | #define poly_uniform_gamma1 DILITHIUM_NAMESPACE(_poly_uniform_gamma1)\n",
      "      |                             ^~~~~~~~~~~~~~~~~~~\n",
      "src/polyvec.c:47:5: note: in expansion of macro 'poly_uniform_gamma1'\n",
      "   47 |     poly_uniform_gamma1(&v->vec[i], seed, L*nonce + i);\n",
      "      |     ^~~~~~~~~~~~~~~~~~~\n",
      "src/config.h:9:32: note: referencing argument 2 of type 'const uint8_t[48]' {aka 'const unsigned char[48]'}\n",
      "    9 | #define DILITHIUM_NAMESPACE(s) pqcrystals_dilithium3_ref##s\n",
      "src/poly.h:54:29: note: in expansion of macro 'DILITHIUM_NAMESPACE'\n",
      "   54 | #define poly_uniform_gamma1 DILITHIUM_NAMESPACE(_poly_uniform_gamma1)\n",
      "      |                             ^~~~~~~~~~~~~~~~~~~\n",
      "src/polyvec.c:47:5: note: in expansion of macro 'poly_uniform_gamma1'\n",
      "   47 |     poly_uniform_gamma1(&v->vec[i], seed, L*nonce + i);\n",
      "      |     ^~~~~~~~~~~~~~~~~~~\n",
      "src/config.h:9:32: note: in a call to function 'pqcrystals_dilithium3_ref_poly_uniform_gamma1'\n",
      "    9 | #define DILITHIUM_NAMESPACE(s) pqcrystals_dilithium3_ref##s\n",
      "      |                                ^~~~~~~~~~~~~~~~~~~~~~~~~\n",
      "src/poly.h:54:29: note: in expansion of macro 'DILITHIUM_NAMESPACE'\n",
      "   54 | #define poly_uniform_gamma1 DILITHIUM_NAMESPACE(_poly_uniform_gamma1)\n",
      "      |                             ^~~~~~~~~~~~~~~~~~~\n",
      "src/poly.h:55:6: note: in expansion of macro 'poly_uniform_gamma1'\n",
      "   55 | void poly_uniform_gamma1(poly *a,\n",
      "      |      ^~~~~~~~~~~~~~~~~~~\n",
      "src/config.h:9:32: warning: 'pqcrystals_dilithium3_ref_poly_uniform_gamma1' reading 48 bytes from a region of size 32 [-Wstringop-overread]\n",
      "    9 | #define DILITHIUM_NAMESPACE(s) pqcrystals_dilithium3_ref##s\n",
      "src/poly.h:54:29: note: in expansion of macro 'DILITHIUM_NAMESPACE'\n",
      "   54 | #define poly_uniform_gamma1 DILITHIUM_NAMESPACE(_poly_uniform_gamma1)\n",
      "      |                             ^~~~~~~~~~~~~~~~~~~\n",
      "src/polyvec.c:47:5: note: in expansion of macro 'poly_uniform_gamma1'\n",
      "   47 |     poly_uniform_gamma1(&v->vec[i], seed, L*nonce + i);\n",
      "      |     ^~~~~~~~~~~~~~~~~~~\n",
      "src/config.h:9:32: note: referencing argument 2 of type 'const uint8_t[48]' {aka 'const unsigned char[48]'}\n",
      "    9 | #define DILITHIUM_NAMESPACE(s) pqcrystals_dilithium3_ref##s\n",
      "src/poly.h:54:29: note: in expansion of macro 'DILITHIUM_NAMESPACE'\n",
      "   54 | #define poly_uniform_gamma1 DILITHIUM_NAMESPACE(_poly_uniform_gamma1)\n",
      "      |                             ^~~~~~~~~~~~~~~~~~~\n",
      "src/polyvec.c:47:5: note: in expansion of macro 'poly_uniform_gamma1'\n",
      "   47 |     poly_uniform_gamma1(&v->vec[i], seed, L*nonce + i);\n",
      "      |     ^~~~~~~~~~~~~~~~~~~\n",
      "src/config.h:9:32: note: in a call to function 'pqcrystals_dilithium3_ref_poly_uniform_gamma1'\n",
      "    9 | #define DILITHIUM_NAMESPACE(s) pqcrystals_dilithium3_ref##s\n",
      "      |                                ^~~~~~~~~~~~~~~~~~~~~~~~~\n",
      "src/poly.h:54:29: note: in expansion of macro 'DILITHIUM_NAMESPACE'\n",
      "   54 | #define poly_uniform_gamma1 DILITHIUM_NAMESPACE(_poly_uniform_gamma1)\n",
      "      |                             ^~~~~~~~~~~~~~~~~~~\n",
      "src/poly.h:55:6: note: in expansion of macro 'poly_uniform_gamma1'\n",
      "   55 | void poly_uniform_gamma1(poly *a,\n",
      "      |      ^~~~~~~~~~~~~~~~~~~\n"
     ]
    },
    {
     "name": "stdout",
     "output_type": "stream",
     "text": [
      "-e Done!\n",
      ".\n",
      "Compiling:\n",
      "-en     src/masked_polyvec_operations.c ...\n",
      "-e Done!\n",
      ".\n",
      "Compiling:\n",
      "-en     src/reduce.c ...\n",
      "-e Done!\n",
      ".\n",
      "Compiling:\n",
      "-en     src/fips202.c ...\n",
      "-e Done!\n",
      ".\n",
      "Compiling:\n",
      "-en     src/symmetric-shake.c ...\n",
      "-e Done!\n",
      ".\n",
      "Compiling:\n",
      "-en     ../common/randombytes.c ...\n"
     ]
    },
    {
     "name": "stderr",
     "output_type": "stream",
     "text": [
      "../common/randombytes.c:38:2: warning: #warning Using a non-random randombytes [-Wcpp]\n",
      "   38 | #warning Using a non-random randombytes\n",
      "      |  ^~~~~~~\n"
     ]
    },
    {
     "name": "stdout",
     "output_type": "stream",
     "text": [
      "-e Done!\n",
      ".\n",
      "Compiling:\n",
      "-en     /home/toluntosun/Desktop/CW/chipwhisperer/hardware/victims/firmware/simpleserial/simpleserial.c ...\n",
      "-e Done!\n",
      ".\n",
      "Compiling:\n",
      "-en     /home/toluntosun/Desktop/CW/chipwhisperer/hardware/victims/firmware/hal/stm32f3/stm32f3_hal.c ...\n",
      "-e Done!\n",
      ".\n",
      "Compiling:\n",
      "-en     /home/toluntosun/Desktop/CW/chipwhisperer/hardware/victims/firmware/hal/stm32f3/stm32f3_hal_lowlevel.c ...\n",
      "-e Done!\n",
      ".\n",
      "Compiling:\n",
      "-en     /home/toluntosun/Desktop/CW/chipwhisperer/hardware/victims/firmware/hal/stm32f3/stm32f3_sysmem.c ...\n",
      "-e Done!\n",
      ".\n",
      "Assembling: /home/toluntosun/Desktop/CW/chipwhisperer/hardware/victims/firmware/hal/stm32f3/stm32f3_startup.S\n",
      "arm-none-eabi-gcc -c -mcpu=cortex-m4 -I. -x assembler-with-cpp -mthumb -mcpu=cortex-m4 -mfloat-abi=hard -mfpu=fpv4-sp-d16 -fmessage-length=0 -ffunction-sections -DF_CPU=7372800 -Wa,-gstabs,-adhlns=objdir-CWLITEARM/stm32f3_startup.lst -Isrc -I../common -I/home/toluntosun/Desktop/CW/chipwhisperer/hardware/victims/firmware/simpleserial/ -I/home/toluntosun/Desktop/CW/chipwhisperer/hardware/victims/firmware/hal -I/home/toluntosun/Desktop/CW/chipwhisperer/hardware/victims/firmware/hal/stm32f3 -I/home/toluntosun/Desktop/CW/chipwhisperer/hardware/victims/firmware/hal/stm32f3/CMSIS -I/home/toluntosun/Desktop/CW/chipwhisperer/hardware/victims/firmware/hal/stm32f3/CMSIS/core -I/home/toluntosun/Desktop/CW/chipwhisperer/hardware/victims/firmware/hal/stm32f3/CMSIS/device -I/home/toluntosun/Desktop/CW/chipwhisperer/hardware/victims/firmware/hal/stm32f4/Legacy -I/home/toluntosun/Desktop/CW/chipwhisperer/hardware/victims/firmware/simpleserial/ -I/home/toluntosun/Desktop/CW/chipwhisperer/hardware/victims/firmware/crypto/ /home/toluntosun/Desktop/CW/chipwhisperer/hardware/victims/firmware/hal/stm32f3/stm32f3_startup.S -o objdir-CWLITEARM/stm32f3_startup.o\n",
      ".\n",
      "LINKING:\n",
      "-en     simpleserial-dilithium-CWLITEARM.elf ...\n",
      "-e Done!\n",
      ".\n",
      "Creating load file for Flash: simpleserial-dilithium-CWLITEARM.hex\n",
      "arm-none-eabi-objcopy -O ihex -R .eeprom -R .fuse -R .lock -R .signature simpleserial-dilithium-CWLITEARM.elf simpleserial-dilithium-CWLITEARM.hex\n",
      ".\n",
      "Creating load file for Flash: simpleserial-dilithium-CWLITEARM.bin\n",
      "arm-none-eabi-objcopy -O binary -R .eeprom -R .fuse -R .lock -R .signature simpleserial-dilithium-CWLITEARM.elf simpleserial-dilithium-CWLITEARM.bin\n",
      ".\n",
      "Creating load file for EEPROM: simpleserial-dilithium-CWLITEARM.eep\n",
      "arm-none-eabi-objcopy -j .eeprom --set-section-flags=.eeprom=\"alloc,load\" \\\n",
      "--change-section-lma .eeprom=0 --no-change-warnings -O ihex simpleserial-dilithium-CWLITEARM.elf simpleserial-dilithium-CWLITEARM.eep || exit 0\n",
      ".\n",
      "Creating Extended Listing: simpleserial-dilithium-CWLITEARM.lss\n",
      "arm-none-eabi-objdump -h -S -z simpleserial-dilithium-CWLITEARM.elf > simpleserial-dilithium-CWLITEARM.lss\n",
      ".\n",
      "Creating Symbol Table: simpleserial-dilithium-CWLITEARM.sym\n",
      "arm-none-eabi-nm -n simpleserial-dilithium-CWLITEARM.elf > simpleserial-dilithium-CWLITEARM.sym\n",
      "SS_VER set to SS_VER_1_1\n",
      "SS_VER set to SS_VER_1_1\n",
      "Size after:\n",
      "   text\t   data\t    bss\t    dec\t    hex\tfilename\n",
      "  12376\t      8\t   4512\t  16896\t   4200\tsimpleserial-dilithium-CWLITEARM.elf\n",
      "+--------------------------------------------------------\n",
      "+ Default target does full rebuild each time.\n",
      "+ Specify buildtarget == allquick == to avoid full rebuild\n",
      "+--------------------------------------------------------\n",
      "+--------------------------------------------------------\n",
      "+ Built for platform CW-Lite Arm \\(STM32F3\\) with:\n",
      "+ CRYPTO_TARGET = NONE\n",
      "+ CRYPTO_OPTIONS = \n",
      "+--------------------------------------------------------\n"
     ]
    }
   ],
   "source": [
    "%%bash -s \"$PROJ_DIR\" \"$FIRMWAREPATH\" \"$PLATFORM\" \"$NSHARES\"\n",
    "cd $1\n",
    "make FIRMWAREPATH=$2 PLATFORM=$3 NSHARES=$4"
   ]
  },
  {
   "cell_type": "code",
   "execution_count": 5,
   "metadata": {},
   "outputs": [
    {
     "name": "stderr",
     "output_type": "stream",
     "text": [
      "/home/toluntosun/Desktop/CW/chipwhisperer/software/chipwhisperer/capture/trace/TraceWhisperer.py:31: DeprecationWarning: pkg_resources is deprecated as an API. See https://setuptools.pypa.io/en/latest/pkg_resources.html\n",
      "  import pkg_resources # type: ignore\n",
      "(ChipWhisperer NAEUSB WARNING|File naeusb.py:800) Your firmware (1.0) is outdated - latest is 1.62 See https://chipwhisperer.readthedocs.io/en/latest/firmware.html for more information\n"
     ]
    },
    {
     "name": "stdout",
     "output_type": "stream",
     "text": [
      "scope.gain.mode                          changed from low                       to high                     \n",
      "scope.gain.gain                          changed from 0                         to 30                       \n",
      "scope.gain.db                            changed from 5.5                       to 24.8359375               \n",
      "scope.adc.basic_mode                     changed from low                       to rising_edge              \n",
      "scope.adc.samples                        changed from 98134                     to 5000                     \n",
      "scope.adc.trig_count                     changed from 17076276                  to 45929381                 \n",
      "scope.clock.adc_src                      changed from clkgen_x1                 to clkgen_x4                \n",
      "scope.clock.adc_freq                     changed from 96000000                  to 168721252                \n",
      "scope.clock.adc_rate                     changed from 96000000.0                to 168721252.0              \n",
      "scope.clock.clkgen_div                   changed from 1                         to 26                       \n",
      "scope.clock.clkgen_freq                  changed from 192000000.0               to 7384615.384615385        \n",
      "scope.io.tio1                            changed from serial_tx                 to serial_rx                \n",
      "scope.io.tio2                            changed from serial_rx                 to serial_tx                \n",
      "scope.io.hs2                             changed from None                      to clkgen                   \n",
      "INFO: Found ChipWhisperer😍\n"
     ]
    }
   ],
   "source": [
    "import chipwhisperer as cw\n",
    "try:\n",
    "    if not scope.connectStatus:\n",
    "        scope.con()\n",
    "except NameError:\n",
    "    scope = cw.scope()\n",
    "\n",
    "try:\n",
    "    target = cw.target(scope)\n",
    "except IOError:\n",
    "    print(\"INFO: Caught exception on reconnecting to target - attempting to reconnect to scope first.\")\n",
    "    print(\"INFO: This is a work-around when USB has died without Python knowing. Ignore errors above this line.\")\n",
    "    scope = cw.scope()\n",
    "    target = cw.target(scope)\n",
    "\n",
    "scope.default_setup()\n",
    "\n",
    "scope.adc.samples = 25000*NSHARES\n",
    "\n",
    "print(\"INFO: Found ChipWhisperer😍\")"
   ]
  },
  {
   "cell_type": "code",
   "execution_count": 6,
   "metadata": {},
   "outputs": [
    {
     "name": "stdout",
     "output_type": "stream",
     "text": [
      "Detected known STMF32: STM32F302xB(C)/303xB(C)\n",
      "Extended erase (0x44), this can take ten seconds or more\n",
      "Attempting to program 12383 bytes at 0x8000000\n",
      "STM32F Programming flash...\n",
      "STM32F Reading flash...\n",
      "Verified flash OK, 12383 bytes\n"
     ]
    }
   ],
   "source": [
    "fw_path = f'{PROJ_DIR}/simpleserial-dilithium-{PLATFORM}.hex'\n",
    "prog = cw.programmers.STM32FProgrammer\n",
    "cw.program_target(scope, prog, fw_path)"
   ]
  },
  {
   "cell_type": "code",
   "execution_count": 7,
   "metadata": {},
   "outputs": [],
   "source": [
    "def coins_gen_s(coins):\n",
    "    target.simpleserial_write('k',coins)\n",
    "    sk_ = []\n",
    "    \n",
    "    for _ in range(8):\n",
    "        sk_.append(target.read(258))\n",
    "    print(sk_)\n",
    "    sk_ = bytes.fromhex(sk_[0][1:257] + sk_[1][1:257] + sk_[2][1:257] + sk_[3][1:257] + sk_[4][1:257] + sk_[5][1:257] + sk_[6][1:257] + sk_[7][1:257])\n",
    "    return np.frombuffer(sk_, dtype=np.int32)"
   ]
  },
  {
   "cell_type": "code",
   "execution_count": 8,
   "metadata": {},
   "outputs": [],
   "source": [
    "dilithium_ntt = scaredcu.lbc.dilithium.NTT()\n",
    "\n",
    "def coins_to_c(coins):\n",
    "    c = scaredcu.lbc.dilithium.dilithium3_sample_in_ball(coins)\n",
    "    return dilithium_ntt.ntt(c).get()\n"
   ]
  },
  {
   "cell_type": "code",
   "execution_count": 9,
   "metadata": {},
   "outputs": [
    {
     "name": "stdout",
     "output_type": "stream",
     "text": [
      "b'\\x90\\xe7\\x07\\x9a\\x82\\x94\\xcb\\xae\\xd0\\xdc\\n%\\xe0M+\\xb2\\xf2=\\x88c\\xe6\\x890\\xcc\\xa0cQ\\x98\\xc3\\xc1U\\x8f'\n",
      "['rB9EDA1FFCF99D7FFC9CE51FF971AB3FFD28164FF54D959FF16FCCAFFF40E65FF5ED8200028F2D6FF00928BFFAA16DAFF3A6E70FF6CD2A7FF585FB8FFEAA8F4FF31BD37FF67386DFF104591FFE8504BFFB39BA3FFD102C2FF402CC6FF54C069FF3BCD90FF77D845FFFEFFEFFF0837B3FFC0C594FF66A70200EFF5CBFF7BA69AFF\\n', 'r994389FF0357EBFF7F6588FFC98768FF585E4600C68CDCFF83EEE4FF53D47BFF40D205009C7A94FF252F81FF9FA16BFF3BF286FF75B14DFF985B30FFD0F401FF080BF6FFF29CF9FF3D66CBFF2D8236009DCBC9FF1B0E3600AC9AC9FFB09EF0FF0B6CE2FF4DCE060034F4F5FF206BE6FF88BB0800866B91FF9C12E0FFC2575E00\\n', 'r6BF3AFFFB13A83FF3D581700670FC2FF39142E00D1DA5200B42F6600D2212300D18A130057EE00001C5206000891B8FFC8EF4900DEAC70009DC8320001E3590087B1D6FF297F66FF2EE2D6FFFA17320063748000E53B6D00BF21E7FF11BD5100479099FF0BF71200BDF18EFF990ECFFF2F89FDFF5B3500005D7E78FFC1A4E0FF\\n', 'r6F4CBA0039378D0045D7CD00D388B1005F4F3D00E93FB900DBA5C8003D26C000E45D6900785A110067CD4D00F9160D004C691A003EE2FAFFFD9A7700ED148A00B642A200D0E43A008997E200AD759B001DAB2400513BF5FF278A9100E7933000DFB875FFD3A6D3FFA7560A009BA3ADFFC0623C00747314001533C8FFDB442E00\\n', 'r56349BFF401055FFD36EAFFF3B4F3AFF777D63FF178D4DFFA9CB57FF6D72B7FF6D34A5FFF33905000C570600DCDBC7FFCF7A5FFF873CBEFF69FB3D00F15CC6FF5BB609008DD44200298B0F009B6A41003FECEDFF89291E001993FDFF63C2DFFFF7650800D52DBEFF938C67FFC995ACFF59F76AFF554FD4FFA926DBFF31E92900\\n', 'r39C377FFF79681FFF84DECFFFC17E0FF23FE51FFC130ADFFA39DA8FF7DABB3FFE8A81300F67EC8FF0837D0FFEE721700D6AB61FFA41D64FFA0C071FFCAE6C4FF06EC2C006A4A6C00B999C1FFF3A13900467EF60004427800D2605B00587C1B00B2EDD4FF72F93A001E7AB9FF6AD89EFFAA1C050042072C00DA8324007E437500\\n', 'r24A57400AC2D7A0091BD510093418E00C3AD0400CB4A5E007B1245002B4A090016B243009660D7FFF2201D00521C550012DFA8FFF0A2ECFF7F2A86FFB717BCFFC269B100AA61CA00B8EC9F00D4193C001E248F00928F5B00CAD246006E447B00C87C5A009684A8001C262E007AD18500251C8A00CD5229007FB6CB004B549000\\n', 'rB29EFAFF3A43D3FF36820F00B62C10001C383A006408CDFF141EE3FF7C220B0099D8B1003FF17C00347A6400487E8C008F722800CD1481009BAF7900BD470E002DBAF4FF53022A00AAB085004E4F1D00B0FF1000EAB70D001A1258000413B500D5EC8800D995F1001D62C9002D21990005FC360099527600BA26620070A94500\\n']\n",
      "[ -6165063  -2647601 -11415863  -5039465 -10190382 -10888876  -3474410\n",
      " -10154252   2152542  -2690520  -7630336  -2484566  -9408966  -5778836\n",
      "  -4694184   -743190 -13124303  -9619353  -7256816 -11841304  -6054989\n",
      "  -4062511  -3789760  -9846700  -7287493 -12199817  -1048578  -5032184\n",
      "  -7027264    173926  -3410449  -6642053  -7781479  -1353981  -7838337\n",
      "  -9926711   4611672  -2323258  -1773949  -8661933    381504  -7046500\n",
      "  -8311003  -9723489  -7933381 -11685515 -13608040 -16649008   -652536\n",
      "   -418574  -3447235   3572269  -3552355   3542555  -3564884  -1007952\n",
      "  -1938421    446029   -658380  -1676512    572296  -7246970  -2092388\n",
      "   6182850  -5246101  -8176975   1529917  -4059289   3019833   5429969\n",
      "   6696884   2302418   1280721     61015    414236  -4681464   4845512\n",
      "   7384286   3328157   5890817  -2707065 -10059991  -2694610   3282938\n",
      "   8418403   7158757  -1629761   5356817  -6713273   1242891  -7409219\n",
      "  -3207527   -161489     13659  -8880547  -2054975  12209263   9254713\n",
      "  13489989  11634899   4018015  12140521  13149659  12592701   6905316\n",
      "   1137272   5098855    857849   1730892   -335298   7838461   9049325\n",
      "  10633910   3859664  14849929  10188205   2403101   -705711   9538087\n",
      "   3183591  -9062177  -2906413    677543  -5397605   3957440   1340276\n",
      "  -3656939   3032283  -6605738 -11202496  -5280045 -12955845 -10257033\n",
      " -11694825 -11023447  -4754835  -5950355    342515    415500  -3679268\n",
      " -10519857  -4309881   4062057  -3777295    636507   4379789   1018665\n",
      "   4287131  -1184705   1976713   -158951  -2112925    550391  -4313643\n",
      "  -9991021  -5466679  -9767079  -2863275  -2414935   2746673  -8928455\n",
      "  -8284425  -1290760  -2091012 -11403741  -5427007  -5726813  -5002371\n",
      "   1288424  -3637514  -3131640   1536750 -10376234 -10216028  -9322336\n",
      "  -3873078   2944006   7096938  -4089415   3777011  16154182   7881220\n",
      "   5988562   1801304  -2822734   3864946  -4621794  -6367126    335018\n",
      "   2885442   2393050   7684990   7644452   8007084   5356945   9322899\n",
      "    306627   6179531   4526715    608811   4436502  -2662250   1908978\n",
      "   5577810  -5710062  -1269008  -7984513  -4450377  11626946  13263274\n",
      "  10480824   3938772   9380894   6000530   4641482   8078446   5930184\n",
      "  11043990   3024412   8769914   9051173   2708173  13350527   9458763\n",
      "   -352590  -2931910   1016374   1060022   3815452  -3340188  -1892844\n",
      "    729724  11655321   8188223   6584884   9207368   2650767   8459469\n",
      "   7974811    935869   -738771   2753107   8761514   1920846   1114032\n",
      "    899050   5771802  11866884   8973525  15832537  13197853  10035501\n",
      "   3603461   7754393   6432442   4565360]\n",
      "[-3 -3  0  1  2 -4 -1  4 -3  0  2  0  4 -4  2 -1  4 -2  0  4 -4 -1 -3  1\n",
      " -1  2 -1  2  2 -2  4 -2 -1  2  0  3 -2  2 -2 -1  3  3  0  3 -4  0 -4  1\n",
      "  0 -4 -4  0  0 -3  1 -4 -1 -2 -4  0  0 -2  3 -4 -4 -2  3  3  2  2  0  3\n",
      " -2 -2 -4  1  3  3 -2 -4  2  0 -1 -3  0 -4 -4  1  4  3  4  4 -4  1  3  2\n",
      "  1  4 -1  3  0  4  1 -4  3  1  4 -1  4  3 -1  0  2 -2 -4  0  2  1 -3 -3\n",
      " -2  4  4 -4 -1 -2  2  0 -2 -1 -2  1 -4  4  0  3 -2  3  4  2  3 -4  0  4\n",
      "  0 -2  1 -3  1  1 -3  3  2 -3  1 -1  1  3  3  4 -4 -3  4 -2 -1 -3  4  1\n",
      " -3  0  4 -2  0  4 -1  1 -3 -4  0  0  2  4 -4 -3  2  3  3 -3 -2  2 -1  2\n",
      "  3  3 -3 -4 -1  0 -2  3  2 -2 -1  3  0  0 -4  3  2  1  0 -2  0 -3 -1 -2\n",
      "  1  2 -1  1 -4  0  1 -2  4  0  2  0 -3 -1 -1  1 -4 -2  0 -3  4  0  1 -4\n",
      "  2  3 -4  3  1 -3  1  0 -3 -1 -1  0  2 -3  0 -1]\n"
     ]
    }
   ],
   "source": [
    "coins = os.urandom(32)\n",
    "print(coins)\n",
    "\n",
    "s = coins_gen_s(coins)\n",
    "print(s)\n",
    "\n",
    "s_ntt = dilithium_ntt.ntt_inv(cp.array(s))\n",
    "\n",
    "reduction = scaredcu.lbc.modop.Reduction_Q2Q2(q=dilithium_ntt.q, o_dtype=dilithium_ntt.dtype)\n",
    "print(reduction.reduce(s_ntt))"
   ]
  },
  {
   "cell_type": "code",
   "execution_count": 10,
   "metadata": {},
   "outputs": [
    {
     "data": {
      "text/plain": [
       "0"
      ]
     },
     "execution_count": 10,
     "metadata": {},
     "output_type": "execute_result"
    }
   ],
   "source": [
    "target.simpleserial_write('q', bytes())\n",
    "target.simpleserial_wait_ack()"
   ]
  },
  {
   "cell_type": "code",
   "execution_count": 11,
   "metadata": {},
   "outputs": [
    {
     "data": {
      "application/vnd.jupyter.widget-view+json": {
       "model_id": "51f9674ef12846989bb79f6e76537d28",
       "version_major": 2,
       "version_minor": 0
      },
      "text/plain": [
       "  0%|          | 0/1000 [00:00<?, ?it/s]"
      ]
     },
     "metadata": {},
     "output_type": "display_data"
    },
    {
     "name": "stderr",
     "output_type": "stream",
     "text": [
      "ERROR:estraces.formats.ets_writer:Exception raised during init of h5f file: [Errno 2] Unable to synchronously open file (unable to open file: name = 'traces/dilithium_basemult_d1_t2.ets', errno = 2, error message = 'No such file or directory', flags = 0, o_flags = 0).\n"
     ]
    }
   ],
   "source": [
    "#Capture Traces\n",
    "\n",
    "for i in range(1000):\n",
    "    filename = f'traces/dilithium_basemult_d{NSHARES}_t{i}.ets'\n",
    "    if os.path.isfile(filename):\n",
    "        continue\n",
    "    es_writer = estraces.ETSWriter(filename=filename, overwrite=False)\n",
    "    break\n",
    "\n",
    "target.output_len = 0\n",
    "\n",
    "\n",
    "for i in tqdm(range(N)):\n",
    "    coins = os.urandom(32)\n",
    "    trace = cw.capture_trace(scope, target, cw.bytearray(coins))\n",
    "    if trace is None:\n",
    "        continue\n",
    "    es_writer.write_samples(trace.wave)\n",
    "    es_writer.write_metadata('c', coins_to_c(coins))\n",
    "    es_writer.write_metadata('s', s)\n",
    "    \n",
    "es_writer.close()"
   ]
  },
  {
   "cell_type": "code",
   "execution_count": 12,
   "metadata": {},
   "outputs": [
    {
     "name": "stdout",
     "output_type": "stream",
     "text": [
      "Trace Header Set:\n",
      "Name.............: ETS Format THS\n",
      "Reader...........: ETS format reader of file traces/dilithium_basemult_d1_t2.ets with 1000 traces.\n",
      "c................: int32\n",
      "s................: int32\n",
      "\n"
     ]
    }
   ],
   "source": [
    "import estraces\n",
    "\n",
    "ths = estraces.read_ths_from_ets_file(filename)\n",
    "\n",
    "print(ths)"
   ]
  },
  {
   "cell_type": "code",
   "execution_count": 13,
   "metadata": {},
   "outputs": [
    {
     "name": "stderr",
     "output_type": "stream",
     "text": [
      "/home/toluntosun/miniconda3/envs/sca/lib/python3.12/site-packages/traitlets/traitlets.py:1385: DeprecationWarning: Passing unrecognized arguments to super(Toolbar).__init__().\n",
      "NavigationToolbar2WebAgg.__init__() missing 1 required positional argument: 'canvas'\n",
      "This is deprecated in traitlets 4.2.This error will be raised in a future release of traitlets.\n",
      "  warn(\n"
     ]
    },
    {
     "data": {
      "text/plain": [
       "[<matplotlib.lines.Line2D at 0x771807f26930>]"
      ]
     },
     "execution_count": 13,
     "metadata": {},
     "output_type": "execute_result"
    },
    {
     "data": {
      "application/vnd.jupyter.widget-view+json": {
       "model_id": "2fef7603153047ae912a0943fbc37856",
       "version_major": 2,
       "version_minor": 0
      },
      "image/png": "[encoded data removed]",
      "text/html": [
       "\n",
       "            <div style=\"display: inline-block;\">\n",
       "                <div class=\"jupyter-widgets widget-label\" style=\"text-align: center;\">\n",
       "                    Figure\n",
       "                </div>\n",
       "                <img src='data:image/png;base64,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' width=640.0/>\n",
       "            </div>\n",
       "        "
      ],
      "text/plain": [
       "Canvas(toolbar=Toolbar(toolitems=[('Home', 'Reset original view', 'home', 'home'), ('Back', 'Back to previous …"
      ]
     },
     "metadata": {},
     "output_type": "display_data"
    }
   ],
   "source": [
    "fig, ax = plt.subplots()\n",
    "\n",
    "mean = ths.samples.mean(axis=0)\n",
    "\n",
    "ax.plot(mean)"
   ]
  },
  {
   "cell_type": "code",
   "execution_count": null,
   "metadata": {},
   "outputs": [],
   "source": []
  }
 ],
 "metadata": {
  "kernelspec": {
   "display_name": "sca",
   "language": "python",
   "name": "python3"
  },
  "language_info": {
   "codemirror_mode": {
    "name": "ipython",
    "version": 3
   },
   "file_extension": ".py",
   "mimetype": "text/x-python",
   "name": "python",
   "nbconvert_exporter": "python",
   "pygments_lexer": "ipython3",
   "version": "3.12.2"
  }
 },
 "nbformat": 4,
 "nbformat_minor": 4
}
